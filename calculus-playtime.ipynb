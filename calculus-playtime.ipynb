{
 "cells": [
  {
   "cell_type": "markdown",
   "id": "73f07320",
   "metadata": {},
   "source": [
    "# Plot Tangent line to curve using Derivative\n",
    "\n",
    "\n",
    "Curve Functiuon: $f(x) = 3x^2-4x$"
   ]
  },
  {
   "cell_type": "code",
   "execution_count": 3,
   "id": "877079e1",
   "metadata": {},
   "outputs": [],
   "source": [
    "%matplotlib inline"
   ]
  },
  {
   "cell_type": "code",
   "execution_count": 16,
   "id": "2cd8b536",
   "metadata": {
    "tags": []
   },
   "outputs": [
    {
     "name": "stdout",
     "output_type": "stream",
     "text": [
      "x:  1 \n",
      "y:  2.0 \n",
      "slope:  2.0 \n",
      "y intercept:  -3.0 \n",
      "xrange:  [0.         0.22222222 0.44444444 0.66666667 0.88888889 1.11111111\n",
      " 1.33333333 1.55555556 1.77777778 2.        ]\n",
      "ret:  [-3.         -2.55555556 -2.11111111 -1.66666667 -1.22222222 -0.77777778\n",
      " -0.33333333  0.11111111  0.55555556  1.        ]\n"
     ]
    },
    {
     "data": {
      "image/png": "[encoded data removed]",
      "text/plain": [
       "<Figure size 432x288 with 1 Axes>"
      ]
     },
     "metadata": {
      "needs_background": "light"
     },
     "output_type": "display_data"
    }
   ],
   "source": [
    "# importing modules\n",
    "import matplotlib.pyplot as plt\n",
    "from scipy.misc import derivative\n",
    "import numpy as np\n",
    "  \n",
    "# method to return function\n",
    "def function(x):\n",
    "    return 3 * x ** 2 - 4 * x\n",
    "  \n",
    "# method to return its derivative\n",
    "# f'(x) = (f(x + h) - f(x)) / h\n",
    "def deriv(x):\n",
    "    return derivative(function, x)\n",
    "\n",
    "def TangentLine(x, x1, y1, d1, t_b):\n",
    "    # y = mx + b\n",
    "    ret = (d1*x) + t_b\n",
    "    print(\"ret: \", ret)\n",
    "    return ret\n",
    "  \n",
    "#range in x-axis\n",
    "x = np.arange(-3, 3, 0.1)\n",
    "  \n",
    "# plot the primary function\n",
    "y = function(x)\n",
    "plt.plot(x, y, color='brown', label='Function')\n",
    "\n",
    "#Get the tangent line equasion parts y=mx+b\n",
    "t_x = 1\n",
    "t_y =function(t_x)\n",
    "t_slope = deriv(t_x)\n",
    "t_b = t_y - (t_slope * t_x)\n",
    "\n",
    "# Define x data range for tangent line\n",
    "xrange = np.linspace(t_x - 1, t_x + 1, 10)\n",
    "\n",
    "# Print Debug\n",
    "print(\"x: \", t_x, \"\\ny: \", t_slope, \"\\nslope: \", t_slope, \"\\ny intercept: \", t_b, \"\\nxrange: \", xrange)\n",
    "\n",
    "# Plot Tangent Line\n",
    "plt.scatter(t_x, t_y, color='blue', s=50)\n",
    "plt.plot(xrange, TangentLine(xrange, t_x, t_y, t_slope, t_b), 'C1--', linewidth = 2)\n",
    "\n",
    "# plotting Equasion text as legend\n",
    "plt.text(-4.4, 25.0, r'$f(x)=3x^2-4x$', horizontalalignment='center', fontsize=18, color='brown')\n",
    "\n",
    "plt.grid(True)"
   ]
  },
  {
   "cell_type": "code",
   "execution_count": null,
   "id": "dfa7e99f-ef74-4c85-9e99-d74eb88f89f2",
   "metadata": {},
   "outputs": [],
   "source": []
  }
 ],
 "metadata": {
  "kernelspec": {
   "display_name": "Python 3.8 (XPython)",
   "language": "python",
   "name": "xpython"
  },
  "language_info": {
   "file_extension": ".py",
   "mimetype": "text/x-python",
   "name": "python",
   "version": "3.8.12"
  },
  "nbdime-conflicts": {
   "local_diff": [
    {
     "diff": [
      {
       "diff": [
        {
         "key": 0,
         "op": "addrange",
         "valuelist": [
          "Python 3.8 (XPython)"
         ]
        },
        {
         "key": 0,
         "length": 1,
         "op": "removerange"
        }
       ],
       "key": "display_name",
       "op": "patch"
      },
      {
       "diff": [
        {
         "key": 0,
         "op": "addrange",
         "valuelist": [
          "xpython"
         ]
        },
        {
         "key": 0,
         "length": 1,
         "op": "removerange"
        }
       ],
       "key": "name",
       "op": "patch"
      }
     ],
     "key": "kernelspec",
     "op": "patch"
    },
    {
     "diff": [
      {
       "diff": [
        {
         "diff": [
          {
           "key": 4,
           "op": "addrange",
           "valuelist": "12"
          },
          {
           "key": 4,
           "length": 1,
           "op": "removerange"
          }
         ],
         "key": 0,
         "op": "patch"
        }
       ],
       "key": "version",
       "op": "patch"
      }
     ],
     "key": "language_info",
     "op": "patch"
    }
   ],
   "remote_diff": [
    {
     "diff": [
      {
       "diff": [
        {
         "key": 0,
         "op": "addrange",
         "valuelist": [
          "default:Python"
         ]
        },
        {
         "key": 0,
         "length": 1,
         "op": "removerange"
        }
       ],
       "key": "display_name",
       "op": "patch"
      },
      {
       "diff": [
        {
         "key": 0,
         "op": "addrange",
         "valuelist": [
          "conda-env-default-py"
         ]
        },
        {
         "key": 0,
         "length": 1,
         "op": "removerange"
        }
       ],
       "key": "name",
       "op": "patch"
      }
     ],
     "key": "kernelspec",
     "op": "patch"
    },
    {
     "diff": [
      {
       "diff": [
        {
         "key": 0,
         "length": 1,
         "op": "removerange"
        }
       ],
       "key": "version",
       "op": "patch"
      }
     ],
     "key": "language_info",
     "op": "patch"
    }
   ]
  }
 },
 "nbformat": 4,
 "nbformat_minor": 5
}
