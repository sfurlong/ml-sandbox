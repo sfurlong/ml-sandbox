{
 "cells": [
  {
   "cell_type": "code",
   "execution_count": 5,
   "id": "65cea8c6-9af1-46dd-a6bc-f7dfa537ace8",
   "metadata": {},
   "outputs": [],
   "source": [
    "import pandas as pd"
   ]
  },
  {
   "cell_type": "markdown",
   "id": "050278b0-55f2-41a3-bfdc-dc3b5d8f6ae8",
   "metadata": {},
   "source": [
    "# Pands Series Data structure"
   ]
  },
  {
   "cell_type": "code",
   "execution_count": 6,
   "id": "a61bc60b-bf15-441b-80c1-7433e4df6207",
   "metadata": {},
   "outputs": [
    {
     "data": {
      "text/plain": [
       "0    2\n",
       "1    4\n",
       "2    5\n",
       "3    4\n",
       "4    1\n",
       "dtype: int64"
      ]
     },
     "execution_count": 6,
     "metadata": {},
     "output_type": "execute_result"
    }
   ],
   "source": [
    "#Create a Pandas Series\n",
    "ser1 = pd.Series((2,4,5,4,1))\n",
    "ser1"
   ]
  },
  {
   "cell_type": "code",
   "execution_count": 7,
   "id": "56b5db81-954d-4326-a990-0e6a75c543b0",
   "metadata": {},
   "outputs": [
    {
     "data": {
      "text/plain": [
       "a    1\n",
       "b    2\n",
       "c    3\n",
       "dtype: int64"
      ]
     },
     "execution_count": 7,
     "metadata": {},
     "output_type": "execute_result"
    }
   ],
   "source": [
    "#Create Series with Dictionary\n",
    "d = {'a':1, 'b':2, 'c':3}\n",
    "ser2 = pd.Series(data=d)\n",
    "ser2"
   ]
  },
  {
   "cell_type": "markdown",
   "id": "ea6c8df7-ad6f-48ac-a211-a11583f4d18b",
   "metadata": {},
   "source": [
    "# Importing Data"
   ]
  },
  {
   "cell_type": "markdown",
   "id": "d9b73070-071c-49ad-a3cd-04fdc73f6c03",
   "metadata": {},
   "source": [
    "File Types are:<ul>\n",
    "    <li>XLSX use <code>pd.read_excel(...)</code></li>\n",
    "    <li>CSV - Use <code>pd.read_csv(...)</code></li>\n",
    "    <li>JSON Use <code>pd.read_jason(...)</code></li>\n",
    "    <li>HTML Use <code>pd.read_html(...)</code></li>\n",
    "    <li>SQL use <code>pd.read_sql(...)</code></li>\n",
    "    <li>HDFS</li>\n",
    "    <li>SAS</li>\n",
    "    <li>SPSS</li>\n",
    "    </ul>"
   ]
  },
  {
   "cell_type": "markdown",
   "id": "06acfa45-fd41-41a7-b787-d10a171c9040",
   "metadata": {},
   "source": [
    "# DataFrame Data Structure"
   ]
  },
  {
   "cell_type": "code",
   "execution_count": 4,
   "id": "3832fe5b-6981-434d-9608-f92d65701874",
   "metadata": {
    "collapsed": true,
    "jupyter": {
     "outputs_hidden": true
    },
    "tags": []
   },
   "outputs": [
    {
     "data": {
      "text/plain": [
       "[                                     Vienna, Virginia  \\\n",
       " 0                                                Town   \n",
       " 1                              Street scene in Vienna   \n",
       " 2   .mw-parser-output .ib-settlement-cols{text-ali...   \n",
       " 3      Location of Vienna in Fairfax County, Virginia   \n",
       " 4   .mw-parser-output .locmap .od{position:absolut...   \n",
       " 5   Coordinates: .mw-parser-output .geo-default,.m...   \n",
       " 6                                             Country   \n",
       " 7                                               State   \n",
       " 8                                              County   \n",
       " 9                                        Incorporated   \n",
       " 10                                            Settled   \n",
       " 11                                         Government   \n",
       " 12                                             • Type   \n",
       " 13                                            • Mayor   \n",
       " 14                                     • Town manager   \n",
       " 15                                            Area[1]   \n",
       " 16                                            • Total   \n",
       " 17                                             • Land   \n",
       " 18                                            • Water   \n",
       " 19                                          Elevation   \n",
       " 20                               Population (2010)[2]   \n",
       " 21                                            • Total   \n",
       " 22                               • Estimate (2019)[3]   \n",
       " 23                                          • Density   \n",
       " 24                                          Time zone   \n",
       " 25                                     • Summer (DST)   \n",
       " 26                                          ZIP codes   \n",
       " 27                                       Area code(s)   \n",
       " 28                                          FIPS code   \n",
       " 29                                    GNIS feature ID   \n",
       " 30                                            Website   \n",
       " \n",
       "                                    Vienna, Virginia.1  \n",
       " 0                                                Town  \n",
       " 1                              Street scene in Vienna  \n",
       " 2   .mw-parser-output .ib-settlement-cols{text-ali...  \n",
       " 3      Location of Vienna in Fairfax County, Virginia  \n",
       " 4   .mw-parser-output .locmap .od{position:absolut...  \n",
       " 5   Coordinates: .mw-parser-output .geo-default,.m...  \n",
       " 6                                       United States  \n",
       " 7                                            Virginia  \n",
       " 8                                             Fairfax  \n",
       " 9                                                1890  \n",
       " 10                                               1754  \n",
       " 11                                         Government  \n",
       " 12                         Council-manager government  \n",
       " 13                     Linda J. Colbert (Nonpartisan)  \n",
       " 14                                     Mercury Payton  \n",
       " 15                                            Area[1]  \n",
       " 16                             4.41 sq mi (11.42 km2)  \n",
       " 17                             4.40 sq mi (11.40 km2)  \n",
       " 18                              0.01 sq mi (0.02 km2)  \n",
       " 19                                     358 ft (109 m)  \n",
       " 20                               Population (2010)[2]  \n",
       " 21                                              15687  \n",
       " 22                                              16485  \n",
       " 23                      3,760.16/sq mi (1,451.69/km2)  \n",
       " 24                              UTC−5 (Eastern (EST))  \n",
       " 25                                        UTC−4 (EDT)  \n",
       " 26                                 22180-22183, 22185  \n",
       " 27                                        571 and 703  \n",
       " 28                                        51-81072[4]  \n",
       " 29                                         1500258[5]  \n",
       " 30                                   www.viennava.gov  ,\n",
       "       Historical population                                                    \\\n",
       "                      Census                     Pop.       Unnamed: 2_level_1   \n",
       " 0                      1880                      136                      NaN   \n",
       " 1                      1900                      317                      NaN   \n",
       " 2                      1910                      578                      NaN   \n",
       " 3                      1920                      773                      NaN   \n",
       " 4                      1930                      903                      NaN   \n",
       " 5                      1940                     1237                      NaN   \n",
       " 6                      1950                     2029                      NaN   \n",
       " 7                      1960                    11440                      NaN   \n",
       " 8                      1970                    17146                      NaN   \n",
       " 9                      1980                    15469                      NaN   \n",
       " 10                     1990                    14852                      NaN   \n",
       " 11                     2000                    14453                      NaN   \n",
       " 12                     2010                    15687                      NaN   \n",
       " 13              2019 (est.)                    16485                      [3]   \n",
       " 14  * U.S. Decennial Census  * U.S. Decennial Census  * U.S. Decennial Census   \n",
       " \n",
       "                              \n",
       "                          %±  \n",
       " 0                         —  \n",
       " 1                         —  \n",
       " 2                     82.3%  \n",
       " 3                     33.7%  \n",
       " 4                     16.8%  \n",
       " 5                     37.0%  \n",
       " 6                     64.0%  \n",
       " 7                    463.8%  \n",
       " 8                     49.9%  \n",
       " 9                     −9.8%  \n",
       " 10                    −4.0%  \n",
       " 11                    −2.7%  \n",
       " 12                     8.5%  \n",
       " 13                     5.1%  \n",
       " 14  * U.S. Decennial Census  ,\n",
       "     0                                                  1\n",
       " 0 NaN  This section needs additional citations for ve...,\n",
       "     #                                          Employer # of Employees\n",
       " 0   1                         Navy Federal Credit Union         2,500+\n",
       " 1   2                     Fairfax County Public Schools        500–999\n",
       " 2   3             Contemporary Electrical Services, Inc        100–249\n",
       " 3   4                                       Giant Foods        100–249\n",
       " 4   5                          Whole Foods Market Group        100–249\n",
       " 5   6                                    Town of Vienna        100–249\n",
       " 6   7                             Westwood Country Club        100–249\n",
       " 7   8                  Wheat's Lawn and Custom Land Inc        100–249\n",
       " 8   9  The Hope Center for Advanced Veterinary Medicine        100–249\n",
       " 9  10                               U.S. Postal Service          50–99,\n",
       "     0                                                  1\n",
       " 0 NaN  Wikimedia Commons has media related to Vienna,...,\n",
       "     0                                                  1\n",
       " 0 NaN  Wikivoyage has a travel guide for Vienna (Virg...,\n",
       "   .mw-parser-output .navbar{display:inline;font-size:88%;font-weight:normal}.mw-parser-output .navbar-collapse{float:left;text-align:left}.mw-parser-output .navbar-boxtext{word-spacing:0}.mw-parser-output .navbar ul{display:inline-block;white-space:nowrap;line-height:inherit}.mw-parser-output .navbar-brackets::before{margin-right:-0.125em;content:\"[ \"}.mw-parser-output .navbar-brackets::after{margin-left:-0.125em;content:\" ]\"}.mw-parser-output .navbar li{word-spacing:-0.125em}.mw-parser-output .navbar a>span,.mw-parser-output .navbar a>abbr{text-decoration:inherit}.mw-parser-output .navbar-mini abbr{font-variant:small-caps;border-bottom:none;text-decoration:none;cursor:inherit}.mw-parser-output .navbar-ct-full{font-size:114%;margin:0 7em}.mw-parser-output .navbar-ct-mini{font-size:114%;margin:0 4em}vteMunicipalities and communities of Fairfax County, Virginia, United States  \\\n",
       " 0                               County seat: Fairfax                                                                                                                                                                                                                                                                                                                                                                                                                                                                                                                                                                                                                                                                                                                                                                                                                                                                     \n",
       " 1                                              Towns                                                                                                                                                                                                                                                                                                                                                                                                                                                                                                                                                                                                                                                                                                                                                                                                                                                                     \n",
       " 2                                               CDPs                                                                                                                                                                                                                                                                                                                                                                                                                                                                                                                                                                                                                                                                                                                                                                                                                                                                     \n",
       " 3                                   Othercommunities                                                                                                                                                                                                                                                                                                                                                                                                                                                                                                                                                                                                                                                                                                                                                                                                                                                                     \n",
       " 4                                      Ghost town(s)                                                                                                                                                                                                                                                                                                                                                                                                                                                                                                                                                                                                                                                                                                                                                                                                                                                                     \n",
       " 5               Virginia portal United States portal                                                                                                                                                                                                                                                                                                                                                                                                                                                                                                                                                                                                                                                                                                                                                                                                                                                                     \n",
       " \n",
       "   .mw-parser-output .navbar{display:inline;font-size:88%;font-weight:normal}.mw-parser-output .navbar-collapse{float:left;text-align:left}.mw-parser-output .navbar-boxtext{word-spacing:0}.mw-parser-output .navbar ul{display:inline-block;white-space:nowrap;line-height:inherit}.mw-parser-output .navbar-brackets::before{margin-right:-0.125em;content:\"[ \"}.mw-parser-output .navbar-brackets::after{margin-left:-0.125em;content:\" ]\"}.mw-parser-output .navbar li{word-spacing:-0.125em}.mw-parser-output .navbar a>span,.mw-parser-output .navbar a>abbr{text-decoration:inherit}.mw-parser-output .navbar-mini abbr{font-variant:small-caps;border-bottom:none;text-decoration:none;cursor:inherit}.mw-parser-output .navbar-ct-full{font-size:114%;margin:0 7em}.mw-parser-output .navbar-ct-mini{font-size:114%;margin:0 4em}vteMunicipalities and communities of Fairfax County, Virginia, United States.1  \\\n",
       " 0                               County seat: Fairfax                                                                                                                                                                                                                                                                                                                                                                                                                                                                                                                                                                                                                                                                                                                                                                                                                                                                       \n",
       " 1                             Clifton Herndon Vienna                                                                                                                                                                                                                                                                                                                                                                                                                                                                                                                                                                                                                                                                                                                                                                                                                                                                       \n",
       " 2  Annandale Bailey's Crossroads Belle Haven Brad...                                                                                                                                                                                                                                                                                                                                                                                                                                                                                                                                                                                                                                                                                                                                                                                                                                                                       \n",
       " 3  Accotink Arcturus Barkers Crossroads Blevinsto...                                                                                                                                                                                                                                                                                                                                                                                                                                                                                                                                                                                                                                                                                                                                                                                                                                                                       \n",
       " 4                                       Matildaville                                                                                                                                                                                                                                                                                                                                                                                                                                                                                                                                                                                                                                                                                                                                                                                                                                                                       \n",
       " 5               Virginia portal United States portal                                                                                                                                                                                                                                                                                                                                                                                                                                                                                                                                                                                                                                                                                                                                                                                                                                                                       \n",
       " \n",
       "   .mw-parser-output .navbar{display:inline;font-size:88%;font-weight:normal}.mw-parser-output .navbar-collapse{float:left;text-align:left}.mw-parser-output .navbar-boxtext{word-spacing:0}.mw-parser-output .navbar ul{display:inline-block;white-space:nowrap;line-height:inherit}.mw-parser-output .navbar-brackets::before{margin-right:-0.125em;content:\"[ \"}.mw-parser-output .navbar-brackets::after{margin-left:-0.125em;content:\" ]\"}.mw-parser-output .navbar li{word-spacing:-0.125em}.mw-parser-output .navbar a>span,.mw-parser-output .navbar a>abbr{text-decoration:inherit}.mw-parser-output .navbar-mini abbr{font-variant:small-caps;border-bottom:none;text-decoration:none;cursor:inherit}.mw-parser-output .navbar-ct-full{font-size:114%;margin:0 7em}.mw-parser-output .navbar-ct-mini{font-size:114%;margin:0 4em}vteMunicipalities and communities of Fairfax County, Virginia, United States.2  \n",
       " 0                               County seat: Fairfax                                                                                                                                                                                                                                                                                                                                                                                                                                                                                                                                                                                                                                                                                                                                                                                                                                                                      \n",
       " 1                                                NaN                                                                                                                                                                                                                                                                                                                                                                                                                                                                                                                                                                                                                                                                                                                                                                                                                                                                      \n",
       " 2                                                NaN                                                                                                                                                                                                                                                                                                                                                                                                                                                                                                                                                                                                                                                                                                                                                                                                                                                                      \n",
       " 3                                                NaN                                                                                                                                                                                                                                                                                                                                                                                                                                                                                                                                                                                                                                                                                                                                                                                                                                                                      \n",
       " 4                                                NaN                                                                                                                                                                                                                                                                                                                                                                                                                                                                                                                                                                                                                                                                                                                                                                                                                                                                      \n",
       " 5               Virginia portal United States portal                                                                                                                                                                                                                                                                                                                                                                                                                                                                                                                                                                                                                                                                                                                                                                                                                                                                      ,\n",
       "                                vte Towns in Virginia  \\\n",
       " 0  Abingdon Accomac Alberta Altavista Amherst App...   \n",
       " \n",
       "                              vte Towns in Virginia.1  \n",
       " 0  Abingdon Accomac Alberta Altavista Amherst App...  ,\n",
       "   vte Commonwealth of Virginia  \\\n",
       " 0           Richmond (capital)   \n",
       " 1                       Topics   \n",
       " 2                      Culture   \n",
       " 3                      Regions   \n",
       " 4                  Metro areas   \n",
       " 5                     Counties   \n",
       " 6            Independentcities   \n",
       " 7              Virginia portal   \n",
       " \n",
       "                       vte Commonwealth of Virginia.1  \\\n",
       " 0                                 Richmond (capital)   \n",
       " 1  Outline Administrative divisions Climate Colon...   \n",
       " 2  Crime Demographics Economy Education Colleges ...   \n",
       " 3  Allegheny Mountains Atlantic Coastal Plain Blu...   \n",
       " 4  Blacksburg-Christiansburg Bluefield Bristol Ch...   \n",
       " 5  Accomack Albemarle Alleghany Amelia Amherst Ap...   \n",
       " 6  Alexandria Bristol Buena Vista Charlottesville...   \n",
       " 7                                    Virginia portal   \n",
       " \n",
       "   vte Commonwealth of Virginia.2  \n",
       " 0             Richmond (capital)  \n",
       " 1               Seal of Virginia  \n",
       " 2               Seal of Virginia  \n",
       " 3               Seal of Virginia  \n",
       " 4               Seal of Virginia  \n",
       " 5               Seal of Virginia  \n",
       " 6               Seal of Virginia  \n",
       " 7                Virginia portal  ,\n",
       "     Authority control                      Authority control.1\n",
       " 0             General                          VIAF 1 WorldCat\n",
       " 1  National libraries                            United States\n",
       " 2               Other  MusicBrainz area National Archives (US)]"
      ]
     },
     "execution_count": 4,
     "metadata": {},
     "output_type": "execute_result"
    }
   ],
   "source": [
    "tabs = pd.read_html(\"https://en.wikipedia.org/wiki/Vienna,_Virginia\")\n",
    "tabs"
   ]
  },
  {
   "cell_type": "code",
   "execution_count": 7,
   "id": "4d33946a-7e1a-4f0d-a27c-225245441315",
   "metadata": {
    "collapsed": true,
    "jupyter": {
     "outputs_hidden": true
    },
    "tags": []
   },
   "outputs": [
    {
     "name": "stderr",
     "output_type": "stream",
     "text": [
      "/Users/stevefurlong/opt/anaconda3/envs/ml-sandbox-venv/lib/python3.10/site-packages/pandas/io/sql.py:758: UserWarning: pandas only support SQLAlchemy connectable(engine/connection) ordatabase string URI or sqlite3 DBAPI2 connectionother DBAPI2 objects are not tested, please consider using SQLAlchemy\n",
      "  warnings.warn(\n"
     ]
    },
    {
     "data": {
      "text/html": [
       "<div>\n",
       "<style scoped>\n",
       "    .dataframe tbody tr th:only-of-type {\n",
       "        vertical-align: middle;\n",
       "    }\n",
       "\n",
       "    .dataframe tbody tr th {\n",
       "        vertical-align: top;\n",
       "    }\n",
       "\n",
       "    .dataframe thead th {\n",
       "        text-align: right;\n",
       "    }\n",
       "</style>\n",
       "<table border=\"1\" class=\"dataframe\">\n",
       "  <thead>\n",
       "    <tr style=\"text-align: right;\">\n",
       "      <th></th>\n",
       "      <th>gameId</th>\n",
       "      <th>season</th>\n",
       "      <th>week</th>\n",
       "      <th>gameDate</th>\n",
       "      <th>gameTimeEastern</th>\n",
       "      <th>homeTeamAbbr</th>\n",
       "      <th>visitorTeamAbbr</th>\n",
       "    </tr>\n",
       "  </thead>\n",
       "  <tbody>\n",
       "    <tr>\n",
       "      <th>0</th>\n",
       "      <td>NaN</td>\n",
       "      <td>NaN</td>\n",
       "      <td>NaN</td>\n",
       "      <td>None</td>\n",
       "      <td>None</td>\n",
       "      <td>None</td>\n",
       "      <td>None</td>\n",
       "    </tr>\n",
       "    <tr>\n",
       "      <th>1</th>\n",
       "      <td>NaN</td>\n",
       "      <td>NaN</td>\n",
       "      <td>NaN</td>\n",
       "      <td>None</td>\n",
       "      <td>None</td>\n",
       "      <td>None</td>\n",
       "      <td>None</td>\n",
       "    </tr>\n",
       "    <tr>\n",
       "      <th>2</th>\n",
       "      <td>NaN</td>\n",
       "      <td>NaN</td>\n",
       "      <td>NaN</td>\n",
       "      <td>None</td>\n",
       "      <td>None</td>\n",
       "      <td>None</td>\n",
       "      <td>None</td>\n",
       "    </tr>\n",
       "    <tr>\n",
       "      <th>3</th>\n",
       "      <td>NaN</td>\n",
       "      <td>NaN</td>\n",
       "      <td>NaN</td>\n",
       "      <td>None</td>\n",
       "      <td>None</td>\n",
       "      <td>None</td>\n",
       "      <td>None</td>\n",
       "    </tr>\n",
       "    <tr>\n",
       "      <th>4</th>\n",
       "      <td>NaN</td>\n",
       "      <td>NaN</td>\n",
       "      <td>NaN</td>\n",
       "      <td>None</td>\n",
       "      <td>None</td>\n",
       "      <td>None</td>\n",
       "      <td>None</td>\n",
       "    </tr>\n",
       "    <tr>\n",
       "      <th>...</th>\n",
       "      <td>...</td>\n",
       "      <td>...</td>\n",
       "      <td>...</td>\n",
       "      <td>...</td>\n",
       "      <td>...</td>\n",
       "      <td>...</td>\n",
       "      <td>...</td>\n",
       "    </tr>\n",
       "    <tr>\n",
       "      <th>1523</th>\n",
       "      <td>2.021010e+09</td>\n",
       "      <td>2020.0</td>\n",
       "      <td>17.0</td>\n",
       "      <td>01/03/2021</td>\n",
       "      <td>16:25:00</td>\n",
       "      <td>DEN</td>\n",
       "      <td>LV</td>\n",
       "    </tr>\n",
       "    <tr>\n",
       "      <th>1524</th>\n",
       "      <td>2.021010e+09</td>\n",
       "      <td>2020.0</td>\n",
       "      <td>17.0</td>\n",
       "      <td>01/03/2021</td>\n",
       "      <td>16:25:00</td>\n",
       "      <td>HOU</td>\n",
       "      <td>TEN</td>\n",
       "    </tr>\n",
       "    <tr>\n",
       "      <th>1525</th>\n",
       "      <td>2.021010e+09</td>\n",
       "      <td>2020.0</td>\n",
       "      <td>17.0</td>\n",
       "      <td>01/03/2021</td>\n",
       "      <td>16:25:00</td>\n",
       "      <td>IND</td>\n",
       "      <td>JAX</td>\n",
       "    </tr>\n",
       "    <tr>\n",
       "      <th>1526</th>\n",
       "      <td>2.021010e+09</td>\n",
       "      <td>2020.0</td>\n",
       "      <td>17.0</td>\n",
       "      <td>01/03/2021</td>\n",
       "      <td>16:25:00</td>\n",
       "      <td>LA</td>\n",
       "      <td>ARI</td>\n",
       "    </tr>\n",
       "    <tr>\n",
       "      <th>1527</th>\n",
       "      <td>2.021010e+09</td>\n",
       "      <td>2020.0</td>\n",
       "      <td>17.0</td>\n",
       "      <td>01/03/2021</td>\n",
       "      <td>16:25:00</td>\n",
       "      <td>SF</td>\n",
       "      <td>SEA</td>\n",
       "    </tr>\n",
       "  </tbody>\n",
       "</table>\n",
       "<p>1528 rows × 7 columns</p>\n",
       "</div>"
      ],
      "text/plain": [
       "            gameId  season  week    gameDate gameTimeEastern homeTeamAbbr  \\\n",
       "0              NaN     NaN   NaN        None            None         None   \n",
       "1              NaN     NaN   NaN        None            None         None   \n",
       "2              NaN     NaN   NaN        None            None         None   \n",
       "3              NaN     NaN   NaN        None            None         None   \n",
       "4              NaN     NaN   NaN        None            None         None   \n",
       "...            ...     ...   ...         ...             ...          ...   \n",
       "1523  2.021010e+09  2020.0  17.0  01/03/2021        16:25:00          DEN   \n",
       "1524  2.021010e+09  2020.0  17.0  01/03/2021        16:25:00          HOU   \n",
       "1525  2.021010e+09  2020.0  17.0  01/03/2021        16:25:00          IND   \n",
       "1526  2.021010e+09  2020.0  17.0  01/03/2021        16:25:00           LA   \n",
       "1527  2.021010e+09  2020.0  17.0  01/03/2021        16:25:00           SF   \n",
       "\n",
       "     visitorTeamAbbr  \n",
       "0               None  \n",
       "1               None  \n",
       "2               None  \n",
       "3               None  \n",
       "4               None  \n",
       "...              ...  \n",
       "1523              LV  \n",
       "1524             TEN  \n",
       "1525             JAX  \n",
       "1526             ARI  \n",
       "1527             SEA  \n",
       "\n",
       "[1528 rows x 7 columns]"
      ]
     },
     "execution_count": 7,
     "metadata": {},
     "output_type": "execute_result"
    }
   ],
   "source": [
    "import mysql.connector as sql\n",
    "\n",
    "dbconn = sql.connect(host='localhost', user='root', passwd='skitaos1', database='neural-nfl-data', auth_plugin='mysql_native_password')\n",
    "ret_df = pd.read_sql('select * from games', dbconn)\n",
    "ret_df"
   ]
  },
  {
   "cell_type": "markdown",
   "id": "0a0500f8-92d2-4800-ba4b-0b387d6d4c77",
   "metadata": {},
   "source": [
    "# General Pandas Functions"
   ]
  },
  {
   "cell_type": "markdown",
   "id": "8eaf38f3-92b6-4a70-a80a-6ee12b87f430",
   "metadata": {},
   "source": [
    "## Melt Function\n",
    "\n",
    "Converts to/from Wide and Long formats.  Similar to Pivot concept\n",
    "<br>\n",
    "Wide Format\n",
    "<table>\n",
    "<tr><td>Name</td><td>weight</td><td>BP</td></tr>\n",
    "<tr><td>john</td><td>150</td><td>120</td></tr>\n",
    "<tr><td>Jeff</td><td>170</td><td>130</td></tr>\n",
    "</table>\n",
    "Long Format\n",
    "<table>\n",
    "<tr><td>Name</td><td>key</td><td>Value</td></tr>\n",
    "<tr><td>john</td><td>weight</td><td>150</td></tr>\n",
    "<tr><td>john</td><td>BP</td><td>120</td></tr>\n",
    "<tr><td>Jeff</td><td>weight</td><td>170</td></tr>\n",
    "<tr><td>Jeff</td><td>BP</td><td>130</td></tr>\n",
    "</table>\n"
   ]
  },
  {
   "cell_type": "code",
   "execution_count": 16,
   "id": "477617c6-9f4b-44f8-b562-dd9207a45f69",
   "metadata": {},
   "outputs": [
    {
     "name": "stdout",
     "output_type": "stream",
     "text": [
      "   Name  weight   BP\n",
      "0  john     150  120\n",
      "1  jeff     170  130\n"
     ]
    },
    {
     "data": {
      "text/html": [
       "<div>\n",
       "<style scoped>\n",
       "    .dataframe tbody tr th:only-of-type {\n",
       "        vertical-align: middle;\n",
       "    }\n",
       "\n",
       "    .dataframe tbody tr th {\n",
       "        vertical-align: top;\n",
       "    }\n",
       "\n",
       "    .dataframe thead th {\n",
       "        text-align: right;\n",
       "    }\n",
       "</style>\n",
       "<table border=\"1\" class=\"dataframe\">\n",
       "  <thead>\n",
       "    <tr style=\"text-align: right;\">\n",
       "      <th></th>\n",
       "      <th>Name</th>\n",
       "      <th>variable</th>\n",
       "      <th>value</th>\n",
       "    </tr>\n",
       "  </thead>\n",
       "  <tbody>\n",
       "    <tr>\n",
       "      <th>0</th>\n",
       "      <td>john</td>\n",
       "      <td>weight</td>\n",
       "      <td>150</td>\n",
       "    </tr>\n",
       "    <tr>\n",
       "      <th>1</th>\n",
       "      <td>jeff</td>\n",
       "      <td>weight</td>\n",
       "      <td>170</td>\n",
       "    </tr>\n",
       "    <tr>\n",
       "      <th>2</th>\n",
       "      <td>john</td>\n",
       "      <td>BP</td>\n",
       "      <td>120</td>\n",
       "    </tr>\n",
       "    <tr>\n",
       "      <th>3</th>\n",
       "      <td>jeff</td>\n",
       "      <td>BP</td>\n",
       "      <td>130</td>\n",
       "    </tr>\n",
       "  </tbody>\n",
       "</table>\n",
       "</div>"
      ],
      "text/plain": [
       "   Name variable  value\n",
       "0  john   weight    150\n",
       "1  jeff   weight    170\n",
       "2  john       BP    120\n",
       "3  jeff       BP    130"
      ]
     },
     "execution_count": 16,
     "metadata": {},
     "output_type": "execute_result"
    }
   ],
   "source": [
    "#Switch from Wide format to Long format.\n",
    "df = pd.DataFrame({'Name':['john','jeff'], 'weight':[150,170],'BP':[120,130]})\n",
    "print(df)\n",
    "melt_df = pd.melt(df, id_vars=['Name'], value_vars=['weight','BP'])\n",
    "melt_df"
   ]
  },
  {
   "cell_type": "markdown",
   "id": "5952dc46-12b0-40e2-aae8-aa6406eb904a",
   "metadata": {},
   "source": [
    "## Pivot Function"
   ]
  },
  {
   "cell_type": "code",
   "execution_count": 17,
   "id": "5cf0af81-ce4d-4b7b-9236-67d63efb8846",
   "metadata": {},
   "outputs": [
    {
     "data": {
      "text/html": [
       "<div>\n",
       "<style scoped>\n",
       "    .dataframe tbody tr th:only-of-type {\n",
       "        vertical-align: middle;\n",
       "    }\n",
       "\n",
       "    .dataframe tbody tr th {\n",
       "        vertical-align: top;\n",
       "    }\n",
       "\n",
       "    .dataframe thead th {\n",
       "        text-align: right;\n",
       "    }\n",
       "</style>\n",
       "<table border=\"1\" class=\"dataframe\">\n",
       "  <thead>\n",
       "    <tr style=\"text-align: right;\">\n",
       "      <th>variable</th>\n",
       "      <th>BP</th>\n",
       "      <th>weight</th>\n",
       "    </tr>\n",
       "    <tr>\n",
       "      <th>Name</th>\n",
       "      <th></th>\n",
       "      <th></th>\n",
       "    </tr>\n",
       "  </thead>\n",
       "  <tbody>\n",
       "    <tr>\n",
       "      <th>jeff</th>\n",
       "      <td>130</td>\n",
       "      <td>170</td>\n",
       "    </tr>\n",
       "    <tr>\n",
       "      <th>john</th>\n",
       "      <td>120</td>\n",
       "      <td>150</td>\n",
       "    </tr>\n",
       "  </tbody>\n",
       "</table>\n",
       "</div>"
      ],
      "text/plain": [
       "variable   BP  weight\n",
       "Name                 \n",
       "jeff      130     170\n",
       "john      120     150"
      ]
     },
     "execution_count": 17,
     "metadata": {},
     "output_type": "execute_result"
    }
   ],
   "source": [
    "#Get back to the Wide Format!\n",
    "pivot_df = melt_df.pivot(index='Name', columns=['variable'], values='value')\n",
    "pivot_df"
   ]
  },
  {
   "cell_type": "markdown",
   "id": "05ce0cbd-d75f-4eed-8382-0c7c1975afc1",
   "metadata": {},
   "source": [
    "# Cross Tabulation\n",
    "Used to Quantitatively analyze variables.  Also analyze the relationship between Categorical columns.<br>\n",
    "Kinda like a group by function in SQL"
   ]
  },
  {
   "cell_type": "code",
   "execution_count": 23,
   "id": "73ef7bd2-8611-4c52-a11a-e745c0f018a0",
   "metadata": {},
   "outputs": [
    {
     "name": "stdout",
     "output_type": "stream",
     "text": [
      "['foo' 'foo' 'foo' 'foo' 'bar' 'bar' 'bar' 'bar' 'foo' 'foo' 'foo']\n",
      "['one' 'one' 'one' 'two' 'one' 'one' 'one' 'two' 'two' 'two' 'one']\n",
      "['dull' 'dull' 'shiny' 'dull' 'dull' 'shiny' 'shiny' 'dull' 'shiny'\n",
      " 'shiny' 'shiny']\n"
     ]
    },
    {
     "data": {
      "text/html": [
       "<div>\n",
       "<style scoped>\n",
       "    .dataframe tbody tr th:only-of-type {\n",
       "        vertical-align: middle;\n",
       "    }\n",
       "\n",
       "    .dataframe tbody tr th {\n",
       "        vertical-align: top;\n",
       "    }\n",
       "\n",
       "    .dataframe thead tr th {\n",
       "        text-align: left;\n",
       "    }\n",
       "\n",
       "    .dataframe thead tr:last-of-type th {\n",
       "        text-align: right;\n",
       "    }\n",
       "</style>\n",
       "<table border=\"1\" class=\"dataframe\">\n",
       "  <thead>\n",
       "    <tr>\n",
       "      <th>b</th>\n",
       "      <th colspan=\"2\" halign=\"left\">one</th>\n",
       "      <th colspan=\"2\" halign=\"left\">two</th>\n",
       "    </tr>\n",
       "    <tr>\n",
       "      <th>c</th>\n",
       "      <th>dull</th>\n",
       "      <th>shiny</th>\n",
       "      <th>dull</th>\n",
       "      <th>shiny</th>\n",
       "    </tr>\n",
       "    <tr>\n",
       "      <th>a</th>\n",
       "      <th></th>\n",
       "      <th></th>\n",
       "      <th></th>\n",
       "      <th></th>\n",
       "    </tr>\n",
       "  </thead>\n",
       "  <tbody>\n",
       "    <tr>\n",
       "      <th>bar</th>\n",
       "      <td>1</td>\n",
       "      <td>2</td>\n",
       "      <td>1</td>\n",
       "      <td>0</td>\n",
       "    </tr>\n",
       "    <tr>\n",
       "      <th>foo</th>\n",
       "      <td>2</td>\n",
       "      <td>2</td>\n",
       "      <td>1</td>\n",
       "      <td>2</td>\n",
       "    </tr>\n",
       "  </tbody>\n",
       "</table>\n",
       "</div>"
      ],
      "text/plain": [
       "b    one        two      \n",
       "c   dull shiny dull shiny\n",
       "a                        \n",
       "bar    1     2    1     0\n",
       "foo    2     2    1     2"
      ]
     },
     "execution_count": 23,
     "metadata": {},
     "output_type": "execute_result"
    }
   ],
   "source": [
    "import numpy as np\n",
    "# creating arrays\n",
    "a = np.array([\"foo\", \"foo\", \"foo\", \"foo\", \"bar\", \"bar\",\n",
    "              \"bar\", \"bar\", \"foo\", \"foo\", \"foo\"], dtype=object)\n",
    "b = np.array([\"one\", \"one\", \"one\", \"two\", \"one\", \"one\",\n",
    "              \"one\", \"two\", \"two\", \"two\", \"one\"], dtype=object)\n",
    "c = np.array([\"dull\", \"dull\", \"shiny\", \"dull\", \"dull\", \"shiny\",\n",
    "              \"shiny\", \"dull\", \"shiny\", \"shiny\", \"shiny\"],\n",
    "             dtype=object)\n",
    "print(a)\n",
    "print(b)\n",
    "print(c)\n",
    "crosstab_df = pd.crosstab(a, [b,c], rownames=['a'], colnames=['b','c'])\n",
    "crosstab_df"
   ]
  },
  {
   "cell_type": "markdown",
   "id": "12c19c38-4149-4e79-8921-346e7dc62498",
   "metadata": {},
   "source": [
    "## Binning\n",
    "Groups data into Bins or Buckets\n",
    "<br>Also used to convert numerical data to categorical data"
   ]
  },
  {
   "cell_type": "code",
   "execution_count": 28,
   "id": "7a912d55-318e-4425-8a77-6e2c3a58c3a2",
   "metadata": {},
   "outputs": [
    {
     "name": "stdout",
     "output_type": "stream",
     "text": [
      "[(0.994, 3.0], (5.0, 7.0], (3.0, 5.0], (3.0, 5.0], (5.0, 7.0], (0.994, 3.0]]\n",
      "Categories (3, interval[float64, right]): [(0.994, 3.0] < (3.0, 5.0] < (5.0, 7.0]]\n",
      "['low', 'high', 'med', 'med', 'high', 'low']\n",
      "Categories (3, object): ['low' < 'med' < 'high']\n"
     ]
    }
   ],
   "source": [
    "import numpy as np\n",
    "\n",
    "#Binning uses the Cust function\n",
    "cut_ret1 = pd.cut(np.array([1,7,5,4,6,3]),3)\n",
    "print(cut_ret1)\n",
    "cut_ret2 = pd.cut(np.array([1,7,5,4,6,3]),3, labels=['low', 'med', 'high'])\n",
    "print(cut_ret2)\n"
   ]
  },
  {
   "cell_type": "markdown",
   "id": "86385a3d-d284-45cd-95cb-7a959b94d1e3",
   "metadata": {},
   "source": [
    "## Merge & Concat Functions\n",
    "Must have a common unique key in each table to be merged<br>\n",
    "Options: Left-Join, Right-Join, Inner-Join, Outer-Join, or Cross-Join"
   ]
  },
  {
   "cell_type": "code",
   "execution_count": 31,
   "id": "35c2c76f-e941-405e-8d51-074c16e0ef25",
   "metadata": {},
   "outputs": [
    {
     "name": "stdout",
     "output_type": "stream",
     "text": [
      "   pincode    city_name  distance_from_delhi  district             State\n",
      "0   249201    Rishikesh                  230  Dehradun       Uttarakhand\n",
      "1   175131       Manali                  543     Kullu  Himachal Pradesh\n",
      "2   263136      Bhimtal                  321       NaN               NaN\n",
      "3   246171  Rudraprayag                  370       NaN               NaN\n",
      "4   171004       Shimla                  343       NaN               NaN\n",
      "   pincode  city_name  distance_from_delhi  district             State\n",
      "0   249201  Rishikesh                230.0  Dehradun       Uttarakhand\n",
      "1   175131     Manali                543.0     Kullu  Himachal Pradesh\n",
      "2   263001        NaN                  NaN  Nainital       Uttarakhand\n"
     ]
    }
   ],
   "source": [
    "# creating 1st dataframe\n",
    "df1 = pd.DataFrame({'pincode':[249201,175131,263136,246171,171004], \n",
    "                   'city_name':['Rishikesh','Manali','Bhimtal', 'Rudraprayag','Shimla'],\n",
    "                   'distance_from_delhi':[230,543,321, 370,343]})\n",
    "# creating 2nd dataframe\n",
    "df2 = pd.DataFrame({'pincode':[249201,175131,263001],\n",
    "                   'district':['Dehradun','Kullu','Nainital'],\n",
    "                   'State':['Uttarakhand','Himachal Pradesh','Uttarakhand']})\n",
    "#Left Join\n",
    "merge_df = pd.merge(df1, df2, how='left', on='pincode')\n",
    "print(merge_df)\n",
    "\n",
    "#Right Join\n",
    "merge_df = pd.merge(df1, df2, how='right', on='pincode')\n",
    "print(merge_df)"
   ]
  },
  {
   "cell_type": "code",
   "execution_count": 32,
   "id": "c1d7b6af-b7b5-489d-bde6-96e3cf4f73c7",
   "metadata": {},
   "outputs": [
    {
     "data": {
      "text/html": [
       "<div>\n",
       "<style scoped>\n",
       "    .dataframe tbody tr th:only-of-type {\n",
       "        vertical-align: middle;\n",
       "    }\n",
       "\n",
       "    .dataframe tbody tr th {\n",
       "        vertical-align: top;\n",
       "    }\n",
       "\n",
       "    .dataframe thead th {\n",
       "        text-align: right;\n",
       "    }\n",
       "</style>\n",
       "<table border=\"1\" class=\"dataframe\">\n",
       "  <thead>\n",
       "    <tr style=\"text-align: right;\">\n",
       "      <th></th>\n",
       "      <th>Name</th>\n",
       "      <th>Age</th>\n",
       "      <th>Gender</th>\n",
       "    </tr>\n",
       "  </thead>\n",
       "  <tbody>\n",
       "    <tr>\n",
       "      <th>0</th>\n",
       "      <td>Arijit</td>\n",
       "      <td>34</td>\n",
       "      <td>M</td>\n",
       "    </tr>\n",
       "    <tr>\n",
       "      <th>1</th>\n",
       "      <td>Neeraj</td>\n",
       "      <td>30</td>\n",
       "      <td>M</td>\n",
       "    </tr>\n",
       "    <tr>\n",
       "      <th>2</th>\n",
       "      <td>Sakshi</td>\n",
       "      <td>22</td>\n",
       "      <td>F</td>\n",
       "    </tr>\n",
       "    <tr>\n",
       "      <th>3</th>\n",
       "      <td>Muskan</td>\n",
       "      <td>33</td>\n",
       "      <td>M</td>\n",
       "    </tr>\n",
       "    <tr>\n",
       "      <th>0</th>\n",
       "      <td>Kartik</td>\n",
       "      <td>31</td>\n",
       "      <td>M</td>\n",
       "    </tr>\n",
       "    <tr>\n",
       "      <th>1</th>\n",
       "      <td>Veer</td>\n",
       "      <td>22</td>\n",
       "      <td>M</td>\n",
       "    </tr>\n",
       "    <tr>\n",
       "      <th>2</th>\n",
       "      <td>Preeti</td>\n",
       "      <td>19</td>\n",
       "      <td>F</td>\n",
       "    </tr>\n",
       "  </tbody>\n",
       "</table>\n",
       "</div>"
      ],
      "text/plain": [
       "     Name  Age Gender\n",
       "0  Arijit   34      M\n",
       "1  Neeraj   30      M\n",
       "2  Sakshi   22      F\n",
       "3  Muskan   33      M\n",
       "0  Kartik   31      M\n",
       "1    Veer   22      M\n",
       "2  Preeti   19      F"
      ]
     },
     "execution_count": 32,
     "metadata": {},
     "output_type": "execute_result"
    }
   ],
   "source": [
    "#Now lets try Concat\n",
    "# dataframes having the same columns\n",
    "df1 = pd.DataFrame({'Name': ['Arijit', 'Neeraj', 'Sakshi', 'Muskan'],\n",
    "                    'Age': [34, 30, 22, 33],\n",
    "                    'Gender': ['M', 'M', 'F', 'M']}\n",
    "                  )\n",
    "\n",
    "df2 = pd.DataFrame({'Name': ['Kartik', 'Veer', 'Preeti'],\n",
    "                    'Age': [31, 22, 19],\n",
    "                    'Gender': ['M', 'M', 'F']}\n",
    "                  )\n",
    "df = pd.concat([df1, df2], axis = 0)\n",
    "df"
   ]
  },
  {
   "cell_type": "markdown",
   "id": "51584327-e246-433a-a1f4-88478698b353",
   "metadata": {},
   "source": [
    "## Handling Missing Values\n",
    "Types of Missing Values\n",
    "<ul>\n",
    "    <li>MCAR - Missing Completely At Random - no pattern</li>\n",
    "    <li>MAR - Missing At Random - some association with other features</li>\n",
    "    <li>MNAR - Missing Not At Random</li>\n",
    "</ul>"
   ]
  },
  {
   "cell_type": "code",
   "execution_count": 40,
   "id": "9316cb74-6c46-4bbd-8db9-2273edf8d4bf",
   "metadata": {},
   "outputs": [
    {
     "name": "stdout",
     "output_type": "stream",
     "text": [
      "   col1  col2   col3\n",
      "0  2019   350    NaN\n",
      "1  2019   365  365.0\n",
      "2  2020     1    NaN \n",
      "\n",
      "col1    0\n",
      "col2    0\n",
      "col3    2\n",
      "dtype: int64 \n",
      "\n",
      "col1    False\n",
      "col2    False\n",
      "col3     True\n",
      "dtype: bool\n"
     ]
    }
   ],
   "source": [
    "dict1 = {'col1':[2019,2019,2020],'col2':[350,365,1],'col3':[None,365,None]}\n",
    "df = pd.DataFrame(dict1)\n",
    "print(df, \"\\n\")\n",
    "\n",
    "#Find count of NaN values \n",
    "print(df.isnull().sum(),\"\\n\")\n",
    "\n",
    "#Also can use \"any\" function\n",
    "print(df.isnull().any())"
   ]
  },
  {
   "cell_type": "markdown",
   "id": "a2447883-bcf4-4c34-a313-9b74015e48bb",
   "metadata": {},
   "source": [
    "## Data Type Conversion\n",
    "For example string to numeric"
   ]
  },
  {
   "cell_type": "code",
   "execution_count": 51,
   "id": "c7942025-fb46-479f-ab9b-5b7433a23d7c",
   "metadata": {},
   "outputs": [
    {
     "name": "stdout",
     "output_type": "stream",
     "text": [
      "   col1  col2\n",
      "0     1     3\n",
      "1     2     4 \n",
      "\n",
      "col1    int64\n",
      "col2    int64\n",
      "dtype: object \n",
      "\n",
      "col1    int32\n",
      "col2    int32\n",
      "dtype: object \n",
      "\n",
      "col1    object\n",
      "col2     int32\n",
      "dtype: object \n",
      "\n"
     ]
    }
   ],
   "source": [
    "dict1 = {'col1':[1,2],'col2':[3,4]}\n",
    "df = pd.DataFrame(data=dict1)\n",
    "print(df, \"\\n\")\n",
    "\n",
    "print(df.dtypes, \"\\n\")\n",
    "df = df.astype('int32')\n",
    "print(df.dtypes, \"\\n\")\n",
    "\n",
    "df['col1'] = df['col1'].astype(str)\n",
    "print(df.dtypes, \"\\n\")\n"
   ]
  },
  {
   "cell_type": "markdown",
   "id": "7881f35b-1c44-40f9-acff-4fd8724c222d",
   "metadata": {},
   "source": [
    "## Evaluate complex Equasions in PD with \"eval\" function"
   ]
  },
  {
   "cell_type": "code",
   "execution_count": 58,
   "id": "0d4735ab-a1ee-40d3-80b6-30cb30e3a54e",
   "metadata": {},
   "outputs": [
    {
     "name": "stdout",
     "output_type": "stream",
     "text": [
      "   A  B\n",
      "0  2  3\n",
      "1  5  1\n",
      "2  4  5 \n",
      "\n",
      "0    1.666667\n",
      "1    8.000000\n",
      "2    1.400000\n",
      "dtype: float64 \n",
      "\n"
     ]
    }
   ],
   "source": [
    "df = pd.DataFrame([[2,3],[5,1],[4,5]],columns=['A','B'])\n",
    "print(df, \"\\n\")\n",
    "\n",
    "eq = '(A + 3) / B'\n",
    "print (df.eval(eq), \"\\n\")"
   ]
  },
  {
   "cell_type": "markdown",
   "id": "7836dafa-0fff-4d9d-9024-62d70328ac4a",
   "metadata": {},
   "source": [
    "# Pandas Series\n",
    "Series are a one dimensional array\n",
    "\n",
    "parameters(data = \"array, iterable, dict, or scalar\", index =  )\n",
    "\n",
    "\n",
    "## Series have Attributes\n",
    "\n",
    "\n",
    "|``Attributes``|\t|``Description``|\n",
    "|--------------|----|---------------|\n",
    "|Series.index|\t|Defines the index of the Series.|\n",
    "|Series.shape|\t|It returns a tuple of shape of the data.|\n",
    "|Series.dtype|\t|It returns the data type of the data.|\n",
    "|Series.size|\t|It returns the size of the data.|\n",
    "|Series.empty|\t|It returns True if Series object is empty, otherwise returns false.|\n",
    "|Series.hasnans|\t|It returns True if there are any NaN values, otherwise returns false.|\n",
    "|Series.nbytes|\t|It returns the number of bytes in the data.|\n",
    "|Series.ndim|\t|It returns the number of dimensions in the data.|"
   ]
  },
  {
   "cell_type": "code",
   "execution_count": 62,
   "id": "2dadb515-20ac-41f5-8a61-1dd7029eb2d1",
   "metadata": {
    "collapsed": true,
    "jupyter": {
     "outputs_hidden": true
    },
    "tags": []
   },
   "outputs": [
    {
     "name": "stdout",
     "output_type": "stream",
     "text": [
      "0       Ganga\n",
      "1      yamuna\n",
      "2      Gomiti\n",
      "3       Koshi\n",
      "4    Godavari\n",
      "5      Kaveri\n",
      "dtype: object \n",
      "\n",
      "RangeIndex(start=0, stop=6, step=1) \n",
      "\n",
      "(6,) \n",
      "\n",
      "object \n",
      "\n",
      "6 \n",
      "\n",
      "False \n",
      "\n",
      "False \n",
      "\n",
      "48 \n",
      "\n",
      "1 \n",
      "\n"
     ]
    }
   ],
   "source": [
    "ps = pd.Series(['Ganga', 'yamuna', 'Gomiti', 'Koshi', 'Godavari','Kaveri'])\n",
    "print(ps, \"\\n\")\n",
    "\n",
    "print(ps.index, \"\\n\")\n",
    "print(ps.shape, \"\\n\")\n",
    "print(ps.dtype, \"\\n\")\n",
    "print(ps.size, \"\\n\")\n",
    "print(ps.empty, \"\\n\")\n",
    "print(ps.hasnans, \"\\n\")\n",
    "print(ps.nbytes, \"\\n\")\n",
    "print(ps.ndim, \"\\n\")"
   ]
  },
  {
   "cell_type": "markdown",
   "id": "d3403d7b-5886-44b3-950a-6cd84b9d2d32",
   "metadata": {},
   "source": [
    "## Indexing and Iteration in Pandas Series\n",
    "\n",
    "python index start at 0\n",
    "\n",
    "Can use ranges using \"loc[]\" and \"iloc[]\"\n",
    "\n"
   ]
  },
  {
   "cell_type": "code",
   "execution_count": 82,
   "id": "63accf8b-5944-44d9-ae0f-cae737106877",
   "metadata": {
    "collapsed": true,
    "jupyter": {
     "outputs_hidden": true
    },
    "tags": []
   },
   "outputs": [
    {
     "name": "stdout",
     "output_type": "stream",
     "text": [
      "a       Ganga\n",
      "b      yamuna\n",
      "c      Gomiti\n",
      "d       Koshi\n",
      "e    Godavari\n",
      "f      Kaveri\n",
      "dtype: object \n",
      "\n",
      "yamuna\n",
      "Index [b] \n",
      " yamuna \n",
      "\n",
      "Index [a:d] \n",
      " a     Ganga\n",
      "b    yamuna\n",
      "c    Gomiti\n",
      "d     Koshi\n",
      "dtype: object \n",
      "\n",
      "Index ['a':'f':2] \n",
      " a       Ganga\n",
      "c      Gomiti\n",
      "e    Godavari\n",
      "dtype: object \n",
      "\n",
      "yamuna\n",
      "Index [0] \n",
      " Ganga \n",
      "\n",
      "Index [2:] \n",
      " c      Gomiti\n",
      "d       Koshi\n",
      "e    Godavari\n",
      "f      Kaveri\n",
      "dtype: object \n",
      "\n",
      "Index [:2] \n",
      " a     Ganga\n",
      "b    yamuna\n",
      "dtype: object \n",
      "\n",
      "Index [:] \n",
      " a       Ganga\n",
      "b      yamuna\n",
      "c      Gomiti\n",
      "d       Koshi\n",
      "e    Godavari\n",
      "f      Kaveri\n",
      "dtype: object \n",
      "\n",
      "Index [::2] \n",
      " a       Ganga\n",
      "c      Gomiti\n",
      "e    Godavari\n",
      "dtype: object \n",
      "\n"
     ]
    }
   ],
   "source": [
    "\n",
    "ps = pd.Series(['Ganga', 'yamuna', 'Gomiti', 'Koshi', 'Godavari','Kaveri'], index = ['a','b','c','d','e','f'])\n",
    "print(ps, \"\\n\")\n",
    "\n",
    "#Location Based Indexing\n",
    "print(ps['b'])\n",
    "print(\"Index [b] \\n\", ps.loc['b'],\"\\n\")\n",
    "print(\"Index [a:d] \\n\", ps.loc['a':'d'],\"\\n\")\n",
    "print(\"Index ['a':'f':2] \\n\", ps.loc['a':'f':2],\"\\n\") #Stride it by 2\n",
    "\n",
    "# Integer Location Based Indexing\n",
    "print(ps['b'])\n",
    "print(\"Index [0] \\n\", ps.iloc[0],\"\\n\")\n",
    "print(\"Index [2:] \\n\", ps.iloc[2:],\"\\n\")\n",
    "print(\"Index [:2] \\n\", ps.iloc[:2],\"\\n\")\n",
    "print(\"Index [:] \\n\", ps.iloc[:],\"\\n\")\n",
    "print(\"Index [::2] \\n\", ps.iloc[::2],\"\\n\") #Stride it by 2\n"
   ]
  },
  {
   "cell_type": "code",
   "execution_count": 83,
   "id": "da2e9bd5-4a50-422e-87ef-35921da745f1",
   "metadata": {},
   "outputs": [
    {
     "name": "stdout",
     "output_type": "stream",
     "text": [
      "('a', 'Ganga')\n",
      "('b', 'yamuna')\n",
      "('c', 'Gomiti')\n",
      "('d', 'Koshi')\n",
      "('e', 'Godavari')\n",
      "('f', 'Kaveri')\n"
     ]
    }
   ],
   "source": [
    "# iterating over all the elements\n",
    "for i in ps.iteritems():\n",
    "    print(i)"
   ]
  },
  {
   "cell_type": "markdown",
   "id": "c47cf1f1-3d7e-409f-85c1-e3d660eb6e2e",
   "metadata": {},
   "source": [
    "## Binary Operations on Pandas Series"
   ]
  },
  {
   "cell_type": "code",
   "execution_count": 86,
   "id": "ffd0ade7-cbcd-48ad-bb1f-9014e521b41b",
   "metadata": {},
   "outputs": [
    {
     "name": "stdout",
     "output_type": "stream",
     "text": [
      "0     7\n",
      "1     5\n",
      "2    13\n",
      "3     5\n",
      "4     8\n",
      "5     3\n",
      "dtype: int64\n",
      "0     7\n",
      "1     5\n",
      "2    13\n",
      "3     5\n",
      "4     8\n",
      "5     3\n",
      "dtype: int64\n",
      "0   -3\n",
      "1    3\n",
      "2   -1\n",
      "3   -3\n",
      "4    4\n",
      "5   -3\n",
      "dtype: int64\n",
      "0   -3\n",
      "1    3\n",
      "2   -1\n",
      "3   -3\n",
      "4    4\n",
      "5   -3\n",
      "dtype: int64\n"
     ]
    }
   ],
   "source": [
    "# creating two pandas series\n",
    "s1 = pd.Series([2,4,6,1,6,0])\n",
    "s2 = pd.Series([5,1,7,4,2,3])\n",
    "\n",
    "#Addition\n",
    "print (s1 + s2)\n",
    "print (s1.add(s2))\n",
    "\n",
    "#Subtraction\n",
    "print (s1 - s2)\n",
    "print (s1.sub(s2))\n",
    "\n",
    "#Muliplication & Division is also available"
   ]
  },
  {
   "cell_type": "markdown",
   "id": "7fa54852-fd38-46ca-bd01-0f3f1aec996d",
   "metadata": {},
   "source": [
    "## Groupby Function in Pandas\n",
    "A groupby operation involves some combination of splitting the object, applying a function, and combining the results. This can be used to group large amounts of data and compute operations on these groups.\n"
   ]
  },
  {
   "cell_type": "code",
   "execution_count": 92,
   "id": "d3945e7e-13de-4e62-aae1-be34e71ff3e1",
   "metadata": {},
   "outputs": [
    {
     "name": "stdout",
     "output_type": "stream",
     "text": [
      "Falcon    390.0\n",
      "Falcon    350.0\n",
      "Parrot     30.0\n",
      "Parrot     20.0\n",
      "Name: Max Speed, dtype: float64 \n",
      "\n"
     ]
    },
    {
     "data": {
      "text/plain": [
       "a    370.0\n",
       "b     25.0\n",
       "Name: Max Speed, dtype: float64"
      ]
     },
     "execution_count": 92,
     "metadata": {},
     "output_type": "execute_result"
    }
   ],
   "source": [
    "# creating a series\n",
    "ser = pd.Series([390., 350., 30., 20.],\n",
    "        index=['Falcon', 'Falcon', 'Parrot', 'Parrot'], name=\"Max Speed\")\n",
    "print(ser, \"\\n\")\n",
    "\n",
    "ser.groupby(['a', 'a','b','b']).mean()\n"
   ]
  },
  {
   "cell_type": "markdown",
   "id": "12c526d0-0756-4d41-bab1-c7b3007ec091",
   "metadata": {},
   "source": [
    "## Window Function\n",
    "Expanding and Rollinw Windows"
   ]
  },
  {
   "cell_type": "code",
   "execution_count": 96,
   "id": "eb33a535-423f-4be1-b2c7-c68400304d3b",
   "metadata": {},
   "outputs": [
    {
     "name": "stdout",
     "output_type": "stream",
     "text": [
      "0    2\n",
      "1    4\n",
      "2    7\n",
      "3    3\n",
      "4    1\n",
      "5    8\n",
      "6    4\n",
      "7    2\n",
      "8    5\n",
      "dtype: int64 \n",
      "\n",
      "0     NaN\n",
      "1     6.0\n",
      "2    11.0\n",
      "3    10.0\n",
      "4     4.0\n",
      "5     9.0\n",
      "6    12.0\n",
      "7     6.0\n",
      "8     7.0\n",
      "dtype: float64 \n",
      "\n"
     ]
    },
    {
     "data": {
      "text/plain": [
       "0     NaN\n",
       "1     6.0\n",
       "2    13.0\n",
       "3    16.0\n",
       "4    17.0\n",
       "5    25.0\n",
       "6    29.0\n",
       "7    31.0\n",
       "8    36.0\n",
       "dtype: float64"
      ]
     },
     "execution_count": 96,
     "metadata": {},
     "output_type": "execute_result"
    }
   ],
   "source": [
    "# creating a series\n",
    "s = pd.Series([2,4,7,3,1,8,4,2,5])\n",
    "print (s, \"\\n\")\n",
    "\n",
    "#Sums the two preceeding values.\n",
    "print(s.rolling(window=2).sum(), \"\\n\")\n",
    "\n",
    "s.expanding(min_periods = 2).sum()"
   ]
  },
  {
   "cell_type": "code",
   "execution_count": null,
   "id": "bd5bdd24-89ce-461a-88fb-aba52f27ab3c",
   "metadata": {},
   "outputs": [],
   "source": []
  }
 ],
 "metadata": {
  "kernelspec": {
   "display_name": "ml-sandbox-venv",
   "language": "python",
   "name": "ml-sandbox-venv"
  },
  "language_info": {
   "codemirror_mode": {
    "name": "ipython",
    "version": 3
   },
   "file_extension": ".py",
   "mimetype": "text/x-python",
   "name": "python",
   "nbconvert_exporter": "python",
   "pygments_lexer": "ipython3",
   "version": "3.10.2"
  },
  "toc-autonumbering": false,
  "toc-showmarkdowntxt": false
 },
 "nbformat": 4,
 "nbformat_minor": 5
}
