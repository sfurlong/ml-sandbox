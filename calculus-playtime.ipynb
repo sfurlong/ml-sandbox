{
 "cells": [
  {
   "cell_type": "markdown",
   "id": "73f07320",
   "metadata": {},
   "source": [
    "# Plot Tangent line to curve using Derivative\n",
    "\n",
    "\n",
    "Curve Functiuon: $f(x) = 3x^2-4x$"
   ]
  },
  {
   "cell_type": "code",
   "execution_count": null,
   "id": "877079e1",
   "metadata": {},
   "outputs": [],
   "source": [
    "%matplotlib inline"
   ]
  },
  {
   "cell_type": "code",
   "execution_count": null,
   "id": "2cd8b536",
   "metadata": {
    "tags": []
   },
   "outputs": [],
   "source": [
    "# importing modules\n",
    "import matplotlib.pyplot as plt\n",
    "from scipy.misc import derivative\n",
    "import numpy as np\n",
    "  \n",
    "# method to return function\n",
    "def function(x):\n",
    "    return 3 * x ** 2 - 4 * x\n",
    "  \n",
    "# method to return its derivative\n",
    "# f'(x) = (f(x + h) - f(x)) / h\n",
    "def deriv(x):\n",
    "    return derivative(function, x)\n",
    "\n",
    "def TangentLine(x, x1, y1, d1, t_b):\n",
    "    # y = mx + b\n",
    "    ret = (d1*x) + t_b\n",
    "    print(\"ret: \", ret)\n",
    "    return ret\n",
    "  \n",
    "#range in x-axis\n",
    "x = np.arange(-3, 3, 0.1)\n",
    "  \n",
    "# plot the primary function\n",
    "y = function(x)\n",
    "plt.plot(x, y, color='brown', label='Function')\n",
    "\n",
    "#Get the tangent line equasion parts y=mx+b\n",
    "t_x = 3\n",
    "t_y =function(t_x)\n",
    "t_slope = deriv(t_x)\n",
    "t_b = t_y - (t_slope * t_x)\n",
    "\n",
    "# Define x data range for tangent line\n",
    "xrange = np.linspace(t_x - 1, t_x + 1, 10)\n",
    "\n",
    "# Print Debug\n",
    "print(\"x: \", t_x, \"\\ny: \", t_slope, \"\\nslope: \", t_slope, \"\\ny intercept: \", t_b, \"\\nxrange: \", xrange)\n",
    "\n",
    "# Plot Tangent Line\n",
    "plt.scatter(t_x, t_y, color='blue', s=50)\n",
    "plt.plot(xrange, TangentLine(xrange, t_x, t_y, t_slope, t_b), 'C1--', linewidth = 2)\n",
    "\n",
    "# plotting Equasion text as legend\n",
    "plt.text(-4.4, 25.0, r'$f(x)=3x^2-4x$', horizontalalignment='center', fontsize=18, color='brown')\n",
    "\n",
    "plt.grid(True)"
   ]
  },
  {
   "cell_type": "markdown",
   "id": "ae0528af-bb12-41b1-9400-fab66effabde",
   "metadata": {},
   "source": [
    "# Partial Derivative\n",
    "$𝜕𝑦/(𝜕𝑥_𝑖 ) = lim_(ℎ→0)⁡〖(𝑓(𝑥_1…,〖 𝑥〗_𝑖+ℎ,〖…𝑥〗_𝑛 )−𝑓(𝑥_1…,〖 𝑥〗_𝑖,〖…𝑥〗_𝑛))/ℎ$\n",
    "\n",
    "\n",
    "$f(x,y) = 3𝑥^2+4𝑦$\n",
    "\n",
    "\n",
    "$f'(x,y) = lim_h->0$"
   ]
  },
  {
   "cell_type": "code",
   "execution_count": null,
   "id": "b8844e0d-8caf-4281-99c8-8877b60b67ba",
   "metadata": {},
   "outputs": [],
   "source": [
    "def f(x,y):\n",
    "    return 3*x**2 + 4 * y\n",
    "\n",
    "\n",
    "def derivative(f, x, y, x_h, y_h):\n",
    "    return (f(x+x_h, y+y_h) - f(x,y)) / (x_h + y_h)\n",
    "    \n",
    "df_dx = derivative(f, 3, 4, 0.00001, 0)\n",
    "df_dy = derivative(f, 3, 4, 0, 0.00001)\n",
    "\n",
    "print(\"df_dx: \", df_dx)\n",
    "print(\"df_dy: \", df_dy)"
   ]
  },
  {
   "cell_type": "markdown",
   "id": "395cf363-de8d-4ccf-8756-dcfdb80aaf75",
   "metadata": {},
   "source": [
    "# Auto Grad on Multivariat Function"
   ]
  },
  {
   "cell_type": "code",
   "execution_count": 13,
   "id": "3764cd5e-988b-4a92-9772-d0d8710e8e9c",
   "metadata": {},
   "outputs": [
    {
     "name": "stdout",
     "output_type": "stream",
     "text": [
      "x.grad:  [0. 0. 0. 0. 0. 0. 0. 0. 0. 0. 0. 0. 0. 0. 0. 0. 0. 0. 0. 0. 0. 0. 0. 0.\n",
      " 0. 0. 0. 0. 0. 0. 0. 0. 0. 0. 0. 0. 0. 0. 0. 0. 0. 0. 0. 0. 0. 0. 0. 0.\n",
      " 0. 0. 0. 0. 0. 0. 0. 0. 0. 0. 0. 0.]\n",
      "y.grad:  [0. 0. 0. 0. 0. 0. 0. 0. 0. 0. 0. 0. 0. 0. 0. 0. 0. 0. 0. 0. 0. 0. 0. 0.\n",
      " 0. 0. 0. 0. 0. 0. 0. 0. 0. 0. 0. 0. 0. 0. 0. 0. 0. 0. 0. 0. 0. 0. 0. 0.\n",
      " 0. 0. 0. 0. 0. 0. 0. 0. 0. 0. 0. 0.]\n",
      "z:  [15.         13.630003   12.319999   11.070001    9.879999    8.75\n",
      "  7.6800003   6.67        5.7200003   4.829998    4.          3.23\n",
      "  2.5199995   1.8700004   1.2800002   0.75        0.27999973 -0.13000011\n",
      " -0.48000002 -0.77       -1.         -1.1700001  -1.28       -1.3299999\n",
      " -1.3199999  -1.25       -1.1199998  -0.9299999  -0.6800001  -0.36999968\n",
      "  0.          0.43000066  0.92000026  1.4699998   2.0800006   2.75\n",
      "  3.480001    4.2700005   5.12        6.0300007   7.          8.029999\n",
      "  9.120003   10.270002   11.480001   12.75       14.079999   15.470004\n",
      " 16.920002   18.43       20.         21.629997   23.320004   25.070004\n",
      " 26.880001   28.75       30.679998   32.670006   34.720005   36.83      ]\n"
     ]
    }
   ],
   "source": [
    "from mxnet import autograd, np, npx\n",
    "import matplotlib.pyplot as plt\n",
    "\n",
    "def func(x, y):\n",
    "    return 3 * x ** 2 + 4 * y\n",
    "\n",
    "npx.set_np()\n",
    "#range in x-axis\n",
    "x = np.arange(-3, 3, 0.1)\n",
    "y = np.arange(-3, 3, 0.1)\n",
    "\n",
    "# We allocate memory for a tensor's gradient by invoking `attach_grad`\n",
    "x.attach_grad()\n",
    "y.attach_grad()\n",
    "\n",
    "# Place our code inside an `autograd.record` scope to build the computational\n",
    "# graph\n",
    "with autograd.record():\n",
    "    z = func(x, y)\n",
    "    \n",
    "# After we calculate a gradient taken with respect to `x`, we will be able to\n",
    "# access it via the `grad` attribute, whose values are initialized with 0s\n",
    "print(\"x.grad: \", x.grad)\n",
    "print(\"y.grad: \", y.grad)\n",
    "print(\"z: \", z)"
   ]
  },
  {
   "cell_type": "code",
   "execution_count": 14,
   "id": "c391abbc-54ad-452e-9787-a67b117553dd",
   "metadata": {
    "tags": []
   },
   "outputs": [
    {
     "name": "stdout",
     "output_type": "stream",
     "text": [
      "x.grad:  [-18.         -17.400002   -16.8        -16.2        -15.599999\n",
      " -15.         -14.400001   -13.799999   -13.200001   -12.599999\n",
      " -12.         -11.4        -10.799999   -10.2         -9.6\n",
      "  -9.          -8.4         -7.7999997   -7.2         -6.6000004\n",
      "  -6.          -5.399999    -4.7999997   -4.2000003   -3.5999994\n",
      "  -3.          -2.3999991   -1.7999997   -1.2000003   -0.5999994\n",
      "   0.           0.60000086   1.2000003    1.7999997    2.4000006\n",
      "   3.           3.6000009    4.2000003    4.7999997    5.4000006\n",
      "   6.           6.5999994    7.2000017    7.800001     8.400001\n",
      "   9.           9.599999    10.200002    10.800001    11.400001\n",
      "  12.          12.599999    13.200002    13.800001    14.400001\n",
      "  15.          15.599999    16.2         16.800001    17.400002  ]\n",
      "y.grad:  [4. 4. 4. 4. 4. 4. 4. 4. 4. 4. 4. 4. 4. 4. 4. 4. 4. 4. 4. 4. 4. 4. 4. 4.\n",
      " 4. 4. 4. 4. 4. 4. 4. 4. 4. 4. 4. 4. 4. 4. 4. 4. 4. 4. 4. 4. 4. 4. 4. 4.\n",
      " 4. 4. 4. 4. 4. 4. 4. 4. 4. 4. 4. 4.]\n"
     ]
    }
   ],
   "source": [
    "z.backward()\n",
    "print(\"x.grad: \", x.grad)\n",
    "print(\"y.grad: \", y.grad)"
   ]
  },
  {
   "cell_type": "code",
   "execution_count": 15,
   "id": "a2eccb1a-f3e3-44cf-aceb-018795f70e83",
   "metadata": {},
   "outputs": [
    {
     "data": {
      "image/png": "[encoded data removed]",
      "text/plain": [
       "<Figure size 432x288 with 1 Axes>"
      ]
     },
     "metadata": {
      "needs_background": "light"
     },
     "output_type": "display_data"
    }
   ],
   "source": [
    "%matplotlib inline\n",
    "import matplotlib.pyplot as plt\n",
    "import numpy as np\n",
    "\n",
    "fig = plt.figure()\n",
    "ax = plt.axes(projection='3d')\n",
    "\n",
    "zline = z.asnumpy()\n",
    "xline = x.asnumpy()\n",
    "yline = y.asnumpy()\n",
    "\n",
    "ax.plot3D(xline, yline, zline, 'gray')\n",
    "\n",
    "# Data for three-dimensional scattered points\n",
    "zdata = 15 * np.random.random(100)\n",
    "xdata = np.sin(zdata) + 0.1 * np.random.randn(100)\n",
    "ydata = np.cos(zdata) + 0.1 * np.random.randn(100)\n",
    "ax.scatter3D(xline, yline, x.grad.asnumpy(), c=x.grad.asnumpy(), cmap='Greens');\n",
    "ax.scatter3D(xline, yline, y.grad.asnumpy(), c=y.grad.asnumpy(), cmap='Blues');"
   ]
  },
  {
   "cell_type": "code",
   "execution_count": null,
   "id": "4d231cdf-22e9-4ea4-b545-b47f1db31cd3",
   "metadata": {},
   "outputs": [],
   "source": []
  }
 ],
 "metadata": {
  "kernelspec": {
   "display_name": "Python 3.8 (XPython)",
   "language": "python",
   "name": "xpython"
  },
  "language_info": {
   "file_extension": ".py",
   "mimetype": "text/x-python",
   "name": "python",
   "version": "3.8.12"
  },
  "nbdime-conflicts": {
   "local_diff": [
    {
     "diff": [
      {
       "diff": [
        {
         "key": 0,
         "op": "addrange",
         "valuelist": [
          "Python 3.8 (XPython)"
         ]
        },
        {
         "key": 0,
         "length": 1,
         "op": "removerange"
        }
       ],
       "key": "display_name",
       "op": "patch"
      },
      {
       "diff": [
        {
         "key": 0,
         "op": "addrange",
         "valuelist": [
          "xpython"
         ]
        },
        {
         "key": 0,
         "length": 1,
         "op": "removerange"
        }
       ],
       "key": "name",
       "op": "patch"
      }
     ],
     "key": "kernelspec",
     "op": "patch"
    },
    {
     "diff": [
      {
       "diff": [
        {
         "diff": [
          {
           "key": 4,
           "op": "addrange",
           "valuelist": "12"
          },
          {
           "key": 4,
           "length": 1,
           "op": "removerange"
          }
         ],
         "key": 0,
         "op": "patch"
        }
       ],
       "key": "version",
       "op": "patch"
      }
     ],
     "key": "language_info",
     "op": "patch"
    }
   ],
   "remote_diff": [
    {
     "diff": [
      {
       "diff": [
        {
         "key": 0,
         "op": "addrange",
         "valuelist": [
          "default:Python"
         ]
        },
        {
         "key": 0,
         "length": 1,
         "op": "removerange"
        }
       ],
       "key": "display_name",
       "op": "patch"
      },
      {
       "diff": [
        {
         "key": 0,
         "op": "addrange",
         "valuelist": [
          "conda-env-default-py"
         ]
        },
        {
         "key": 0,
         "length": 1,
         "op": "removerange"
        }
       ],
       "key": "name",
       "op": "patch"
      }
     ],
     "key": "kernelspec",
     "op": "patch"
    },
    {
     "diff": [
      {
       "diff": [
        {
         "key": 0,
         "length": 1,
         "op": "removerange"
        }
       ],
       "key": "version",
       "op": "patch"
      }
     ],
     "key": "language_info",
     "op": "patch"
    }
   ]
  }
 },
 "nbformat": 4,
 "nbformat_minor": 5
}
