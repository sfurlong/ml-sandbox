{
 "cells": [
  {
   "cell_type": "code",
   "execution_count": 2,
   "id": "65cea8c6-9af1-46dd-a6bc-f7dfa537ace8",
   "metadata": {},
   "outputs": [],
   "source": [
    "import pandas as pd"
   ]
  },
  {
   "cell_type": "markdown",
   "id": "050278b0-55f2-41a3-bfdc-dc3b5d8f6ae8",
   "metadata": {},
   "source": [
    "# Pands Series Data structure"
   ]
  },
  {
   "cell_type": "code",
   "execution_count": 6,
   "id": "a61bc60b-bf15-441b-80c1-7433e4df6207",
   "metadata": {},
   "outputs": [
    {
     "data": {
      "text/plain": [
       "0    2\n",
       "1    4\n",
       "2    5\n",
       "3    4\n",
       "4    1\n",
       "dtype: int64"
      ]
     },
     "execution_count": 6,
     "metadata": {},
     "output_type": "execute_result"
    }
   ],
   "source": [
    "#Create a Pandas Series\n",
    "ser1 = pd.Series((2,4,5,4,1))\n",
    "ser1"
   ]
  },
  {
   "cell_type": "code",
   "execution_count": 7,
   "id": "56b5db81-954d-4326-a990-0e6a75c543b0",
   "metadata": {},
   "outputs": [
    {
     "data": {
      "text/plain": [
       "a    1\n",
       "b    2\n",
       "c    3\n",
       "dtype: int64"
      ]
     },
     "execution_count": 7,
     "metadata": {},
     "output_type": "execute_result"
    }
   ],
   "source": [
    "#Create Series with Dictionary\n",
    "d = {'a':1, 'b':2, 'c':3}\n",
    "ser2 = pd.Series(data=d)\n",
    "ser2"
   ]
  },
  {
   "cell_type": "markdown",
   "id": "ea6c8df7-ad6f-48ac-a211-a11583f4d18b",
   "metadata": {},
   "source": [
    "# Importing Data"
   ]
  },
  {
   "cell_type": "markdown",
   "id": "d9b73070-071c-49ad-a3cd-04fdc73f6c03",
   "metadata": {},
   "source": [
    "File Types are:<ul>\n",
    "    <li>XLSX use <code>pd.read_excel(...)</code></li>\n",
    "    <li>CSV - Use <code>pd.read_csv(...)</code></li>\n",
    "    <li>JSON Use <code>pd.read_jason(...)</code></li>\n",
    "    <li>HTML Use <code>pd.read_html(...)</code></li>\n",
    "    <li>HDFS</li>\n",
    "    <li>SAS</li>\n",
    "    <li>SPSS</li>\n",
    "    </ul>"
   ]
  },
  {
   "cell_type": "markdown",
   "id": "06acfa45-fd41-41a7-b787-d10a171c9040",
   "metadata": {},
   "source": [
    "# DataFrame Data Structure"
   ]
  },
  {
   "cell_type": "code",
   "execution_count": null,
   "id": "3832fe5b-6981-434d-9608-f92d65701874",
   "metadata": {},
   "outputs": [],
   "source": []
  }
 ],
 "metadata": {
  "kernelspec": {
   "display_name": "ml-sandbox-venv",
   "language": "python",
   "name": "ml-sandbox-venv"
  },
  "language_info": {
   "codemirror_mode": {
    "name": "ipython",
    "version": 3
   },
   "file_extension": ".py",
   "mimetype": "text/x-python",
   "name": "python",
   "nbconvert_exporter": "python",
   "pygments_lexer": "ipython3",
   "version": "3.10.2"
  }
 },
 "nbformat": 4,
 "nbformat_minor": 5
}
