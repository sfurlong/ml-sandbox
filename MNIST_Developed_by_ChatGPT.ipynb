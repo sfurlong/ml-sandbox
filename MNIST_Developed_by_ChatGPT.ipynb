{
 "cells": [
  {
   "cell_type": "code",
   "execution_count": null,
   "metadata": {},
   "outputs": [],
   "source": [
    "%pip install keras\n",
    "%pip install keras-datasets\n",
    "%pip install tensorflow\n",
    "%pip install pydot\n",
    "%pip install scikit-metrics\n",
    "%pip install seaborn"
   ]
  },
  {
   "cell_type": "code",
   "execution_count": null,
   "metadata": {
    "id": "XK1p7SSrb37q"
   },
   "outputs": [],
   "source": [
    "import numpy as np\n",
    "import matplotlib.pyplot as plt\n",
    "\n",
    "from keras.datasets import mnist\n",
    "from keras.models import Sequential\n",
    "from keras.layers import Dense, Dropout, Flatten, Conv2D, MaxPooling2D\n",
    "\n",
    "# load the MNIST dataset\n",
    "(X_train, y_train), (X_test, y_test) = mnist.load_data()\n",
    "\n",
    "# normalize the pixel values (0-255) to be between 0 and 1\n",
    "X_train = X_train.astype(\"float32\") / 255\n",
    "X_test = X_test.astype(\"float32\") / 255\n",
    "\n",
    "# define the model architecture\n",
    "#Sequential model is a plain stack of layers where each layer has exactly one \n",
    "#input tensor and one output tensor.\n",
    "model = Sequential()\n",
    "model.add(Conv2D(32, kernel_size=(3, 3), activation='relu', input_shape=(28, 28, 1)))\n",
    "model.add(MaxPooling2D(pool_size=(2, 2)))\n",
    "model.add(Flatten())\n",
    "model.add(Dense(512, activation='relu'))\n",
    "model.add(Dropout(0.2))\n",
    "model.add(Dense(10, activation='softmax'))\n",
    "\n",
    "# compile the model\n",
    "model.compile(optimizer='rmsprop', loss='sparse_categorical_crossentropy', metrics=['accuracy'])\n",
    "\n",
    "X_val = X_test[:2000]\n",
    "y_val = y_test[:2000]\n",
    "X_test = X_test[2000:]\n",
    "y_test = y_test[2000:]\n",
    "\n",
    "# train the model\n",
    "history = model.fit(X_train, y_train, batch_size=32, epochs=10, validation_data=(X_val, y_val))"
   ]
  },
  {
   "cell_type": "code",
   "execution_count": null,
   "metadata": {
    "id": "_aJt2MBWd692"
   },
   "outputs": [],
   "source": [
    "test_loss, test_acc = model.evaluate(X_test, y_test)\n",
    "print('Test accuracy:', test_acc)"
   ]
  },
  {
   "cell_type": "code",
   "execution_count": null,
   "metadata": {
    "id": "G2cDFz1zgHro"
   },
   "outputs": [],
   "source": [
    "# plot the training and validation loss\n",
    "plt.plot(history.history['loss'])\n",
    "plt.plot(history.history['val_loss'])\n",
    "plt.title('Model loss')\n",
    "plt.ylabel('Loss')\n",
    "plt.xlabel('Epoch')\n",
    "plt.legend(['Train', 'Validation'], loc='upper right')\n",
    "plt.show()"
   ]
  },
  {
   "cell_type": "code",
   "execution_count": null,
   "metadata": {
    "id": "z2szbKhjiYow"
   },
   "outputs": [],
   "source": [
    "# Select 20 random indexes from the train set\n",
    "random_indices = np.random.randint(0, len(X_train), 20)\n",
    "\n",
    "# Extract the 20 random images and labels from the train set\n",
    "random_images = X_train[random_indices]\n",
    "random_labels = y_train[random_indices]\n",
    "\n",
    "# Plot the 20 random images\n",
    "fig, axes = plt.subplots(4, 5, figsize=(10, 8))\n",
    "axes = axes.ravel()\n",
    "\n",
    "for i, ax in enumerate(axes):\n",
    "    ax.imshow(random_images[i], cmap=\"gray\")\n",
    "    ax.axis('off')\n",
    "    ax.set_title(str(random_labels[i]))\n",
    "\n",
    "plt.subplots_adjust(hspace=0.5)\n",
    "plt.show()"
   ]
  },
  {
   "cell_type": "code",
   "execution_count": null,
   "metadata": {
    "id": "tz-fz4-Fkq4m"
   },
   "outputs": [],
   "source": [
    "model.summary()"
   ]
  },
  {
   "cell_type": "code",
   "execution_count": null,
   "metadata": {
    "id": "gcvWTN0cmJUD"
   },
   "outputs": [],
   "source": [
    "from keras.utils import plot_model\n",
    "plot_model(model, to_file='model.png', show_shapes=True, show_layer_names=True)"
   ]
  },
  {
   "cell_type": "code",
   "execution_count": null,
   "metadata": {
    "id": "_qs1H64GnL_4"
   },
   "outputs": [],
   "source": [
    "model.save('model.h5')"
   ]
  },
  {
   "cell_type": "code",
   "execution_count": null,
   "metadata": {
    "id": "6sMidygBp581"
   },
   "outputs": [],
   "source": [
    "from keras.models import load_model\n",
    "\n",
    "class Predictor:\n",
    "    def __init__(self, model_path):\n",
    "        self.model_path = model_path\n",
    "        self.model = None\n",
    "    \n",
    "    def predict(self, image):\n",
    "        # load the model from disk if it hasn't been loaded\n",
    "        if self.model is None:\n",
    "            self.model = load_model(self.model_path)\n",
    "        \n",
    "        # predict the image\n",
    "        prediction = self.model.predict(image)\n",
    "        \n",
    "        # return the predicted label\n",
    "        return np.argmax(prediction)"
   ]
  },
  {
   "cell_type": "code",
   "execution_count": null,
   "metadata": {
    "id": "Z6lH79K2p8MT"
   },
   "outputs": [],
   "source": [
    "# select 10 random images from the test set\n",
    "random_indices = np.random.randint(0, len(X_test), 10)\n",
    "random_images = X_test[random_indices]\n",
    "random_labels = y_test[random_indices]\n",
    "\n",
    "predictor = Predictor(\"model.h5\")\n",
    "\n",
    "for i in range(10):\n",
    "    predicted_label = predictor.predict(random_images[i].reshape(1,28,28,1))\n",
    "    print(\"True Label: \", random_labels[i], \"Predicted Label: \", predicted_label)"
   ]
  },
  {
   "cell_type": "code",
   "execution_count": null,
   "metadata": {
    "id": "-OzF5dtAqoVN"
   },
   "outputs": [],
   "source": [
    "\n",
    "from sklearn.metrics import confusion_matrix\n",
    "import seaborn as sns\n",
    "\n",
    "# Predict the test set\n",
    "y_pred = model.predict(X_test)\n",
    "\n",
    "# Convert the predicted probabilities to class labels\n",
    "y_pred = np.argmax(y_pred, axis=1)\n",
    "\n",
    "# Create the confusion matrix\n",
    "cm = confusion_matrix(y_test, y_pred)\n",
    "\n",
    "# Plot the confusion matrix\n",
    "sns.heatmap(cm, annot=True, fmt='d')\n",
    "plt.xlabel('Predicted')\n",
    "plt.ylabel('True')\n",
    "plt.show()\n"
   ]
  }
 ],
 "metadata": {
  "accelerator": "GPU",
  "colab": {
   "include_colab_link": true,
   "provenance": [],
   "toc_visible": true
  },
  "gpuClass": "standard",
  "kernelspec": {
   "display_name": "cv:Python",
   "language": "python",
   "name": "conda-env-cv-py"
  },
  "language_info": {
   "codemirror_mode": {
    "name": "ipython",
    "version": 3
   },
   "file_extension": ".py",
   "mimetype": "text/x-python",
   "name": "python",
   "nbconvert_exporter": "python",
   "pygments_lexer": "ipython3",
   "version": "3.9.13"
  }
 },
 "nbformat": 4,
 "nbformat_minor": 4
}
