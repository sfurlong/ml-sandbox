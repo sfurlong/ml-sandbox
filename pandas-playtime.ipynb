{
 "cells": [
  {
   "cell_type": "code",
   "execution_count": 7,
   "id": "65cea8c6-9af1-46dd-a6bc-f7dfa537ace8",
   "metadata": {},
   "outputs": [],
   "source": [
    "import pandas as pd\n",
    "import numpy as np\n",
    "\n",
    "pd.set_option('display.max_rows', None)\n",
    "pd.set_option('display.max_columns', None)\n",
    "pd.set_option('display.max_colwidth', None)\n"
   ]
  },
  {
   "cell_type": "markdown",
   "id": "050278b0-55f2-41a3-bfdc-dc3b5d8f6ae8",
   "metadata": {},
   "source": [
    "# Pands Series Data structure"
   ]
  },
  {
   "cell_type": "code",
   "execution_count": 6,
   "id": "a61bc60b-bf15-441b-80c1-7433e4df6207",
   "metadata": {},
   "outputs": [
    {
     "data": {
      "text/plain": [
       "0    2\n",
       "1    4\n",
       "2    5\n",
       "3    4\n",
       "4    1\n",
       "dtype: int64"
      ]
     },
     "execution_count": 6,
     "metadata": {},
     "output_type": "execute_result"
    }
   ],
   "source": [
    "#Create a Pandas Series\n",
    "ser1 = pd.Series((2,4,5,4,1))\n",
    "ser1"
   ]
  },
  {
   "cell_type": "code",
   "execution_count": 7,
   "id": "56b5db81-954d-4326-a990-0e6a75c543b0",
   "metadata": {},
   "outputs": [
    {
     "data": {
      "text/plain": [
       "a    1\n",
       "b    2\n",
       "c    3\n",
       "dtype: int64"
      ]
     },
     "execution_count": 7,
     "metadata": {},
     "output_type": "execute_result"
    }
   ],
   "source": [
    "#Create Series with Dictionary\n",
    "d = {'a':1, 'b':2, 'c':3}\n",
    "ser2 = pd.Series(data=d)\n",
    "ser2"
   ]
  },
  {
   "cell_type": "markdown",
   "id": "ea6c8df7-ad6f-48ac-a211-a11583f4d18b",
   "metadata": {},
   "source": [
    "# Importing Data"
   ]
  },
  {
   "cell_type": "markdown",
   "id": "d9b73070-071c-49ad-a3cd-04fdc73f6c03",
   "metadata": {},
   "source": [
    "File Types are:<ul>\n",
    "    <li>XLSX use <code>pd.read_excel(...)</code></li>\n",
    "    <li>CSV - Use <code>pd.read_csv(...)</code></li>\n",
    "    <li>JSON Use <code>pd.read_jason(...)</code></li>\n",
    "    <li>HTML Use <code>pd.read_html(...)</code></li>\n",
    "    <li>SQL use <code>pd.read_sql(...)</code></li>\n",
    "    <li>HDFS</li>\n",
    "    <li>SAS</li>\n",
    "    <li>SPSS</li>\n",
    "    </ul>"
   ]
  },
  {
   "cell_type": "markdown",
   "id": "06acfa45-fd41-41a7-b787-d10a171c9040",
   "metadata": {},
   "source": [
    "# DataFrame Data Structure"
   ]
  },
  {
   "cell_type": "code",
   "execution_count": 4,
   "id": "3832fe5b-6981-434d-9608-f92d65701874",
   "metadata": {
    "collapsed": true,
    "jupyter": {
     "outputs_hidden": true
    },
    "tags": []
   },
   "outputs": [
    {
     "data": {
      "text/plain": [
       "[                                     Vienna, Virginia  \\\n",
       " 0                                                Town   \n",
       " 1                              Street scene in Vienna   \n",
       " 2   .mw-parser-output .ib-settlement-cols{text-ali...   \n",
       " 3      Location of Vienna in Fairfax County, Virginia   \n",
       " 4   .mw-parser-output .locmap .od{position:absolut...   \n",
       " 5   Coordinates: .mw-parser-output .geo-default,.m...   \n",
       " 6                                             Country   \n",
       " 7                                               State   \n",
       " 8                                              County   \n",
       " 9                                        Incorporated   \n",
       " 10                                            Settled   \n",
       " 11                                         Government   \n",
       " 12                                             • Type   \n",
       " 13                                            • Mayor   \n",
       " 14                                     • Town manager   \n",
       " 15                                            Area[1]   \n",
       " 16                                            • Total   \n",
       " 17                                             • Land   \n",
       " 18                                            • Water   \n",
       " 19                                          Elevation   \n",
       " 20                               Population (2010)[2]   \n",
       " 21                                            • Total   \n",
       " 22                               • Estimate (2019)[3]   \n",
       " 23                                          • Density   \n",
       " 24                                          Time zone   \n",
       " 25                                     • Summer (DST)   \n",
       " 26                                          ZIP codes   \n",
       " 27                                       Area code(s)   \n",
       " 28                                          FIPS code   \n",
       " 29                                    GNIS feature ID   \n",
       " 30                                            Website   \n",
       " \n",
       "                                    Vienna, Virginia.1  \n",
       " 0                                                Town  \n",
       " 1                              Street scene in Vienna  \n",
       " 2   .mw-parser-output .ib-settlement-cols{text-ali...  \n",
       " 3      Location of Vienna in Fairfax County, Virginia  \n",
       " 4   .mw-parser-output .locmap .od{position:absolut...  \n",
       " 5   Coordinates: .mw-parser-output .geo-default,.m...  \n",
       " 6                                       United States  \n",
       " 7                                            Virginia  \n",
       " 8                                             Fairfax  \n",
       " 9                                                1890  \n",
       " 10                                               1754  \n",
       " 11                                         Government  \n",
       " 12                         Council-manager government  \n",
       " 13                     Linda J. Colbert (Nonpartisan)  \n",
       " 14                                     Mercury Payton  \n",
       " 15                                            Area[1]  \n",
       " 16                             4.41 sq mi (11.42 km2)  \n",
       " 17                             4.40 sq mi (11.40 km2)  \n",
       " 18                              0.01 sq mi (0.02 km2)  \n",
       " 19                                     358 ft (109 m)  \n",
       " 20                               Population (2010)[2]  \n",
       " 21                                              15687  \n",
       " 22                                              16485  \n",
       " 23                      3,760.16/sq mi (1,451.69/km2)  \n",
       " 24                              UTC−5 (Eastern (EST))  \n",
       " 25                                        UTC−4 (EDT)  \n",
       " 26                                 22180-22183, 22185  \n",
       " 27                                        571 and 703  \n",
       " 28                                        51-81072[4]  \n",
       " 29                                         1500258[5]  \n",
       " 30                                   www.viennava.gov  ,\n",
       "       Historical population                                                    \\\n",
       "                      Census                     Pop.       Unnamed: 2_level_1   \n",
       " 0                      1880                      136                      NaN   \n",
       " 1                      1900                      317                      NaN   \n",
       " 2                      1910                      578                      NaN   \n",
       " 3                      1920                      773                      NaN   \n",
       " 4                      1930                      903                      NaN   \n",
       " 5                      1940                     1237                      NaN   \n",
       " 6                      1950                     2029                      NaN   \n",
       " 7                      1960                    11440                      NaN   \n",
       " 8                      1970                    17146                      NaN   \n",
       " 9                      1980                    15469                      NaN   \n",
       " 10                     1990                    14852                      NaN   \n",
       " 11                     2000                    14453                      NaN   \n",
       " 12                     2010                    15687                      NaN   \n",
       " 13              2019 (est.)                    16485                      [3]   \n",
       " 14  * U.S. Decennial Census  * U.S. Decennial Census  * U.S. Decennial Census   \n",
       " \n",
       "                              \n",
       "                          %±  \n",
       " 0                         —  \n",
       " 1                         —  \n",
       " 2                     82.3%  \n",
       " 3                     33.7%  \n",
       " 4                     16.8%  \n",
       " 5                     37.0%  \n",
       " 6                     64.0%  \n",
       " 7                    463.8%  \n",
       " 8                     49.9%  \n",
       " 9                     −9.8%  \n",
       " 10                    −4.0%  \n",
       " 11                    −2.7%  \n",
       " 12                     8.5%  \n",
       " 13                     5.1%  \n",
       " 14  * U.S. Decennial Census  ,\n",
       "     0                                                  1\n",
       " 0 NaN  This section needs additional citations for ve...,\n",
       "     #                                          Employer # of Employees\n",
       " 0   1                         Navy Federal Credit Union         2,500+\n",
       " 1   2                     Fairfax County Public Schools        500–999\n",
       " 2   3             Contemporary Electrical Services, Inc        100–249\n",
       " 3   4                                       Giant Foods        100–249\n",
       " 4   5                          Whole Foods Market Group        100–249\n",
       " 5   6                                    Town of Vienna        100–249\n",
       " 6   7                             Westwood Country Club        100–249\n",
       " 7   8                  Wheat's Lawn and Custom Land Inc        100–249\n",
       " 8   9  The Hope Center for Advanced Veterinary Medicine        100–249\n",
       " 9  10                               U.S. Postal Service          50–99,\n",
       "     0                                                  1\n",
       " 0 NaN  Wikimedia Commons has media related to Vienna,...,\n",
       "     0                                                  1\n",
       " 0 NaN  Wikivoyage has a travel guide for Vienna (Virg...,\n",
       "   .mw-parser-output .navbar{display:inline;font-size:88%;font-weight:normal}.mw-parser-output .navbar-collapse{float:left;text-align:left}.mw-parser-output .navbar-boxtext{word-spacing:0}.mw-parser-output .navbar ul{display:inline-block;white-space:nowrap;line-height:inherit}.mw-parser-output .navbar-brackets::before{margin-right:-0.125em;content:\"[ \"}.mw-parser-output .navbar-brackets::after{margin-left:-0.125em;content:\" ]\"}.mw-parser-output .navbar li{word-spacing:-0.125em}.mw-parser-output .navbar a>span,.mw-parser-output .navbar a>abbr{text-decoration:inherit}.mw-parser-output .navbar-mini abbr{font-variant:small-caps;border-bottom:none;text-decoration:none;cursor:inherit}.mw-parser-output .navbar-ct-full{font-size:114%;margin:0 7em}.mw-parser-output .navbar-ct-mini{font-size:114%;margin:0 4em}vteMunicipalities and communities of Fairfax County, Virginia, United States  \\\n",
       " 0                               County seat: Fairfax                                                                                                                                                                                                                                                                                                                                                                                                                                                                                                                                                                                                                                                                                                                                                                                                                                                                     \n",
       " 1                                              Towns                                                                                                                                                                                                                                                                                                                                                                                                                                                                                                                                                                                                                                                                                                                                                                                                                                                                     \n",
       " 2                                               CDPs                                                                                                                                                                                                                                                                                                                                                                                                                                                                                                                                                                                                                                                                                                                                                                                                                                                                     \n",
       " 3                                   Othercommunities                                                                                                                                                                                                                                                                                                                                                                                                                                                                                                                                                                                                                                                                                                                                                                                                                                                                     \n",
       " 4                                      Ghost town(s)                                                                                                                                                                                                                                                                                                                                                                                                                                                                                                                                                                                                                                                                                                                                                                                                                                                                     \n",
       " 5               Virginia portal United States portal                                                                                                                                                                                                                                                                                                                                                                                                                                                                                                                                                                                                                                                                                                                                                                                                                                                                     \n",
       " \n",
       "   .mw-parser-output .navbar{display:inline;font-size:88%;font-weight:normal}.mw-parser-output .navbar-collapse{float:left;text-align:left}.mw-parser-output .navbar-boxtext{word-spacing:0}.mw-parser-output .navbar ul{display:inline-block;white-space:nowrap;line-height:inherit}.mw-parser-output .navbar-brackets::before{margin-right:-0.125em;content:\"[ \"}.mw-parser-output .navbar-brackets::after{margin-left:-0.125em;content:\" ]\"}.mw-parser-output .navbar li{word-spacing:-0.125em}.mw-parser-output .navbar a>span,.mw-parser-output .navbar a>abbr{text-decoration:inherit}.mw-parser-output .navbar-mini abbr{font-variant:small-caps;border-bottom:none;text-decoration:none;cursor:inherit}.mw-parser-output .navbar-ct-full{font-size:114%;margin:0 7em}.mw-parser-output .navbar-ct-mini{font-size:114%;margin:0 4em}vteMunicipalities and communities of Fairfax County, Virginia, United States.1  \\\n",
       " 0                               County seat: Fairfax                                                                                                                                                                                                                                                                                                                                                                                                                                                                                                                                                                                                                                                                                                                                                                                                                                                                       \n",
       " 1                             Clifton Herndon Vienna                                                                                                                                                                                                                                                                                                                                                                                                                                                                                                                                                                                                                                                                                                                                                                                                                                                                       \n",
       " 2  Annandale Bailey's Crossroads Belle Haven Brad...                                                                                                                                                                                                                                                                                                                                                                                                                                                                                                                                                                                                                                                                                                                                                                                                                                                                       \n",
       " 3  Accotink Arcturus Barkers Crossroads Blevinsto...                                                                                                                                                                                                                                                                                                                                                                                                                                                                                                                                                                                                                                                                                                                                                                                                                                                                       \n",
       " 4                                       Matildaville                                                                                                                                                                                                                                                                                                                                                                                                                                                                                                                                                                                                                                                                                                                                                                                                                                                                       \n",
       " 5               Virginia portal United States portal                                                                                                                                                                                                                                                                                                                                                                                                                                                                                                                                                                                                                                                                                                                                                                                                                                                                       \n",
       " \n",
       "   .mw-parser-output .navbar{display:inline;font-size:88%;font-weight:normal}.mw-parser-output .navbar-collapse{float:left;text-align:left}.mw-parser-output .navbar-boxtext{word-spacing:0}.mw-parser-output .navbar ul{display:inline-block;white-space:nowrap;line-height:inherit}.mw-parser-output .navbar-brackets::before{margin-right:-0.125em;content:\"[ \"}.mw-parser-output .navbar-brackets::after{margin-left:-0.125em;content:\" ]\"}.mw-parser-output .navbar li{word-spacing:-0.125em}.mw-parser-output .navbar a>span,.mw-parser-output .navbar a>abbr{text-decoration:inherit}.mw-parser-output .navbar-mini abbr{font-variant:small-caps;border-bottom:none;text-decoration:none;cursor:inherit}.mw-parser-output .navbar-ct-full{font-size:114%;margin:0 7em}.mw-parser-output .navbar-ct-mini{font-size:114%;margin:0 4em}vteMunicipalities and communities of Fairfax County, Virginia, United States.2  \n",
       " 0                               County seat: Fairfax                                                                                                                                                                                                                                                                                                                                                                                                                                                                                                                                                                                                                                                                                                                                                                                                                                                                      \n",
       " 1                                                NaN                                                                                                                                                                                                                                                                                                                                                                                                                                                                                                                                                                                                                                                                                                                                                                                                                                                                      \n",
       " 2                                                NaN                                                                                                                                                                                                                                                                                                                                                                                                                                                                                                                                                                                                                                                                                                                                                                                                                                                                      \n",
       " 3                                                NaN                                                                                                                                                                                                                                                                                                                                                                                                                                                                                                                                                                                                                                                                                                                                                                                                                                                                      \n",
       " 4                                                NaN                                                                                                                                                                                                                                                                                                                                                                                                                                                                                                                                                                                                                                                                                                                                                                                                                                                                      \n",
       " 5               Virginia portal United States portal                                                                                                                                                                                                                                                                                                                                                                                                                                                                                                                                                                                                                                                                                                                                                                                                                                                                      ,\n",
       "                                vte Towns in Virginia  \\\n",
       " 0  Abingdon Accomac Alberta Altavista Amherst App...   \n",
       " \n",
       "                              vte Towns in Virginia.1  \n",
       " 0  Abingdon Accomac Alberta Altavista Amherst App...  ,\n",
       "   vte Commonwealth of Virginia  \\\n",
       " 0           Richmond (capital)   \n",
       " 1                       Topics   \n",
       " 2                      Culture   \n",
       " 3                      Regions   \n",
       " 4                  Metro areas   \n",
       " 5                     Counties   \n",
       " 6            Independentcities   \n",
       " 7              Virginia portal   \n",
       " \n",
       "                       vte Commonwealth of Virginia.1  \\\n",
       " 0                                 Richmond (capital)   \n",
       " 1  Outline Administrative divisions Climate Colon...   \n",
       " 2  Crime Demographics Economy Education Colleges ...   \n",
       " 3  Allegheny Mountains Atlantic Coastal Plain Blu...   \n",
       " 4  Blacksburg-Christiansburg Bluefield Bristol Ch...   \n",
       " 5  Accomack Albemarle Alleghany Amelia Amherst Ap...   \n",
       " 6  Alexandria Bristol Buena Vista Charlottesville...   \n",
       " 7                                    Virginia portal   \n",
       " \n",
       "   vte Commonwealth of Virginia.2  \n",
       " 0             Richmond (capital)  \n",
       " 1               Seal of Virginia  \n",
       " 2               Seal of Virginia  \n",
       " 3               Seal of Virginia  \n",
       " 4               Seal of Virginia  \n",
       " 5               Seal of Virginia  \n",
       " 6               Seal of Virginia  \n",
       " 7                Virginia portal  ,\n",
       "     Authority control                      Authority control.1\n",
       " 0             General                          VIAF 1 WorldCat\n",
       " 1  National libraries                            United States\n",
       " 2               Other  MusicBrainz area National Archives (US)]"
      ]
     },
     "execution_count": 4,
     "metadata": {},
     "output_type": "execute_result"
    }
   ],
   "source": [
    "tabs = pd.read_html(\"https://en.wikipedia.org/wiki/Vienna,_Virginia\")\n",
    "tabs"
   ]
  },
  {
   "cell_type": "code",
   "execution_count": 7,
   "id": "4d33946a-7e1a-4f0d-a27c-225245441315",
   "metadata": {
    "collapsed": true,
    "jupyter": {
     "outputs_hidden": true
    },
    "tags": []
   },
   "outputs": [
    {
     "name": "stderr",
     "output_type": "stream",
     "text": [
      "/Users/stevefurlong/opt/anaconda3/envs/ml-sandbox-venv/lib/python3.10/site-packages/pandas/io/sql.py:758: UserWarning: pandas only support SQLAlchemy connectable(engine/connection) ordatabase string URI or sqlite3 DBAPI2 connectionother DBAPI2 objects are not tested, please consider using SQLAlchemy\n",
      "  warnings.warn(\n"
     ]
    },
    {
     "data": {
      "text/html": [
       "<div>\n",
       "<style scoped>\n",
       "    .dataframe tbody tr th:only-of-type {\n",
       "        vertical-align: middle;\n",
       "    }\n",
       "\n",
       "    .dataframe tbody tr th {\n",
       "        vertical-align: top;\n",
       "    }\n",
       "\n",
       "    .dataframe thead th {\n",
       "        text-align: right;\n",
       "    }\n",
       "</style>\n",
       "<table border=\"1\" class=\"dataframe\">\n",
       "  <thead>\n",
       "    <tr style=\"text-align: right;\">\n",
       "      <th></th>\n",
       "      <th>gameId</th>\n",
       "      <th>season</th>\n",
       "      <th>week</th>\n",
       "      <th>gameDate</th>\n",
       "      <th>gameTimeEastern</th>\n",
       "      <th>homeTeamAbbr</th>\n",
       "      <th>visitorTeamAbbr</th>\n",
       "    </tr>\n",
       "  </thead>\n",
       "  <tbody>\n",
       "    <tr>\n",
       "      <th>0</th>\n",
       "      <td>NaN</td>\n",
       "      <td>NaN</td>\n",
       "      <td>NaN</td>\n",
       "      <td>None</td>\n",
       "      <td>None</td>\n",
       "      <td>None</td>\n",
       "      <td>None</td>\n",
       "    </tr>\n",
       "    <tr>\n",
       "      <th>1</th>\n",
       "      <td>NaN</td>\n",
       "      <td>NaN</td>\n",
       "      <td>NaN</td>\n",
       "      <td>None</td>\n",
       "      <td>None</td>\n",
       "      <td>None</td>\n",
       "      <td>None</td>\n",
       "    </tr>\n",
       "    <tr>\n",
       "      <th>2</th>\n",
       "      <td>NaN</td>\n",
       "      <td>NaN</td>\n",
       "      <td>NaN</td>\n",
       "      <td>None</td>\n",
       "      <td>None</td>\n",
       "      <td>None</td>\n",
       "      <td>None</td>\n",
       "    </tr>\n",
       "    <tr>\n",
       "      <th>3</th>\n",
       "      <td>NaN</td>\n",
       "      <td>NaN</td>\n",
       "      <td>NaN</td>\n",
       "      <td>None</td>\n",
       "      <td>None</td>\n",
       "      <td>None</td>\n",
       "      <td>None</td>\n",
       "    </tr>\n",
       "    <tr>\n",
       "      <th>4</th>\n",
       "      <td>NaN</td>\n",
       "      <td>NaN</td>\n",
       "      <td>NaN</td>\n",
       "      <td>None</td>\n",
       "      <td>None</td>\n",
       "      <td>None</td>\n",
       "      <td>None</td>\n",
       "    </tr>\n",
       "    <tr>\n",
       "      <th>...</th>\n",
       "      <td>...</td>\n",
       "      <td>...</td>\n",
       "      <td>...</td>\n",
       "      <td>...</td>\n",
       "      <td>...</td>\n",
       "      <td>...</td>\n",
       "      <td>...</td>\n",
       "    </tr>\n",
       "    <tr>\n",
       "      <th>1523</th>\n",
       "      <td>2.021010e+09</td>\n",
       "      <td>2020.0</td>\n",
       "      <td>17.0</td>\n",
       "      <td>01/03/2021</td>\n",
       "      <td>16:25:00</td>\n",
       "      <td>DEN</td>\n",
       "      <td>LV</td>\n",
       "    </tr>\n",
       "    <tr>\n",
       "      <th>1524</th>\n",
       "      <td>2.021010e+09</td>\n",
       "      <td>2020.0</td>\n",
       "      <td>17.0</td>\n",
       "      <td>01/03/2021</td>\n",
       "      <td>16:25:00</td>\n",
       "      <td>HOU</td>\n",
       "      <td>TEN</td>\n",
       "    </tr>\n",
       "    <tr>\n",
       "      <th>1525</th>\n",
       "      <td>2.021010e+09</td>\n",
       "      <td>2020.0</td>\n",
       "      <td>17.0</td>\n",
       "      <td>01/03/2021</td>\n",
       "      <td>16:25:00</td>\n",
       "      <td>IND</td>\n",
       "      <td>JAX</td>\n",
       "    </tr>\n",
       "    <tr>\n",
       "      <th>1526</th>\n",
       "      <td>2.021010e+09</td>\n",
       "      <td>2020.0</td>\n",
       "      <td>17.0</td>\n",
       "      <td>01/03/2021</td>\n",
       "      <td>16:25:00</td>\n",
       "      <td>LA</td>\n",
       "      <td>ARI</td>\n",
       "    </tr>\n",
       "    <tr>\n",
       "      <th>1527</th>\n",
       "      <td>2.021010e+09</td>\n",
       "      <td>2020.0</td>\n",
       "      <td>17.0</td>\n",
       "      <td>01/03/2021</td>\n",
       "      <td>16:25:00</td>\n",
       "      <td>SF</td>\n",
       "      <td>SEA</td>\n",
       "    </tr>\n",
       "  </tbody>\n",
       "</table>\n",
       "<p>1528 rows × 7 columns</p>\n",
       "</div>"
      ],
      "text/plain": [
       "            gameId  season  week    gameDate gameTimeEastern homeTeamAbbr  \\\n",
       "0              NaN     NaN   NaN        None            None         None   \n",
       "1              NaN     NaN   NaN        None            None         None   \n",
       "2              NaN     NaN   NaN        None            None         None   \n",
       "3              NaN     NaN   NaN        None            None         None   \n",
       "4              NaN     NaN   NaN        None            None         None   \n",
       "...            ...     ...   ...         ...             ...          ...   \n",
       "1523  2.021010e+09  2020.0  17.0  01/03/2021        16:25:00          DEN   \n",
       "1524  2.021010e+09  2020.0  17.0  01/03/2021        16:25:00          HOU   \n",
       "1525  2.021010e+09  2020.0  17.0  01/03/2021        16:25:00          IND   \n",
       "1526  2.021010e+09  2020.0  17.0  01/03/2021        16:25:00           LA   \n",
       "1527  2.021010e+09  2020.0  17.0  01/03/2021        16:25:00           SF   \n",
       "\n",
       "     visitorTeamAbbr  \n",
       "0               None  \n",
       "1               None  \n",
       "2               None  \n",
       "3               None  \n",
       "4               None  \n",
       "...              ...  \n",
       "1523              LV  \n",
       "1524             TEN  \n",
       "1525             JAX  \n",
       "1526             ARI  \n",
       "1527             SEA  \n",
       "\n",
       "[1528 rows x 7 columns]"
      ]
     },
     "execution_count": 7,
     "metadata": {},
     "output_type": "execute_result"
    }
   ],
   "source": [
    "import mysql.connector as sql\n",
    "\n",
    "dbconn = sql.connect(host='localhost', user='root', passwd='skitaos1', database='neural-nfl-data', auth_plugin='mysql_native_password')\n",
    "ret_df = pd.read_sql('select * from games', dbconn)\n",
    "ret_df"
   ]
  },
  {
   "cell_type": "markdown",
   "id": "0a0500f8-92d2-4800-ba4b-0b387d6d4c77",
   "metadata": {},
   "source": [
    "# General Pandas Functions"
   ]
  },
  {
   "cell_type": "markdown",
   "id": "8eaf38f3-92b6-4a70-a80a-6ee12b87f430",
   "metadata": {},
   "source": [
    "## Melt Function\n",
    "\n",
    "Converts to/from Wide and Long formats.  Similar to Pivot concept\n",
    "<br>\n",
    "Wide Format\n",
    "<table>\n",
    "<tr><td>Name</td><td>weight</td><td>BP</td></tr>\n",
    "<tr><td>john</td><td>150</td><td>120</td></tr>\n",
    "<tr><td>Jeff</td><td>170</td><td>130</td></tr>\n",
    "</table>\n",
    "Long Format\n",
    "<table>\n",
    "<tr><td>Name</td><td>key</td><td>Value</td></tr>\n",
    "<tr><td>john</td><td>weight</td><td>150</td></tr>\n",
    "<tr><td>john</td><td>BP</td><td>120</td></tr>\n",
    "<tr><td>Jeff</td><td>weight</td><td>170</td></tr>\n",
    "<tr><td>Jeff</td><td>BP</td><td>130</td></tr>\n",
    "</table>\n"
   ]
  },
  {
   "cell_type": "code",
   "execution_count": 16,
   "id": "477617c6-9f4b-44f8-b562-dd9207a45f69",
   "metadata": {},
   "outputs": [
    {
     "name": "stdout",
     "output_type": "stream",
     "text": [
      "   Name  weight   BP\n",
      "0  john     150  120\n",
      "1  jeff     170  130\n"
     ]
    },
    {
     "data": {
      "text/html": [
       "<div>\n",
       "<style scoped>\n",
       "    .dataframe tbody tr th:only-of-type {\n",
       "        vertical-align: middle;\n",
       "    }\n",
       "\n",
       "    .dataframe tbody tr th {\n",
       "        vertical-align: top;\n",
       "    }\n",
       "\n",
       "    .dataframe thead th {\n",
       "        text-align: right;\n",
       "    }\n",
       "</style>\n",
       "<table border=\"1\" class=\"dataframe\">\n",
       "  <thead>\n",
       "    <tr style=\"text-align: right;\">\n",
       "      <th></th>\n",
       "      <th>Name</th>\n",
       "      <th>variable</th>\n",
       "      <th>value</th>\n",
       "    </tr>\n",
       "  </thead>\n",
       "  <tbody>\n",
       "    <tr>\n",
       "      <th>0</th>\n",
       "      <td>john</td>\n",
       "      <td>weight</td>\n",
       "      <td>150</td>\n",
       "    </tr>\n",
       "    <tr>\n",
       "      <th>1</th>\n",
       "      <td>jeff</td>\n",
       "      <td>weight</td>\n",
       "      <td>170</td>\n",
       "    </tr>\n",
       "    <tr>\n",
       "      <th>2</th>\n",
       "      <td>john</td>\n",
       "      <td>BP</td>\n",
       "      <td>120</td>\n",
       "    </tr>\n",
       "    <tr>\n",
       "      <th>3</th>\n",
       "      <td>jeff</td>\n",
       "      <td>BP</td>\n",
       "      <td>130</td>\n",
       "    </tr>\n",
       "  </tbody>\n",
       "</table>\n",
       "</div>"
      ],
      "text/plain": [
       "   Name variable  value\n",
       "0  john   weight    150\n",
       "1  jeff   weight    170\n",
       "2  john       BP    120\n",
       "3  jeff       BP    130"
      ]
     },
     "execution_count": 16,
     "metadata": {},
     "output_type": "execute_result"
    }
   ],
   "source": [
    "#Switch from Wide format to Long format.\n",
    "df = pd.DataFrame({'Name':['john','jeff'], 'weight':[150,170],'BP':[120,130]})\n",
    "print(df)\n",
    "melt_df = pd.melt(df, id_vars=['Name'], value_vars=['weight','BP'])\n",
    "melt_df"
   ]
  },
  {
   "cell_type": "markdown",
   "id": "5952dc46-12b0-40e2-aae8-aa6406eb904a",
   "metadata": {},
   "source": [
    "## Pivot Function"
   ]
  },
  {
   "cell_type": "code",
   "execution_count": 17,
   "id": "5cf0af81-ce4d-4b7b-9236-67d63efb8846",
   "metadata": {},
   "outputs": [
    {
     "data": {
      "text/html": [
       "<div>\n",
       "<style scoped>\n",
       "    .dataframe tbody tr th:only-of-type {\n",
       "        vertical-align: middle;\n",
       "    }\n",
       "\n",
       "    .dataframe tbody tr th {\n",
       "        vertical-align: top;\n",
       "    }\n",
       "\n",
       "    .dataframe thead th {\n",
       "        text-align: right;\n",
       "    }\n",
       "</style>\n",
       "<table border=\"1\" class=\"dataframe\">\n",
       "  <thead>\n",
       "    <tr style=\"text-align: right;\">\n",
       "      <th>variable</th>\n",
       "      <th>BP</th>\n",
       "      <th>weight</th>\n",
       "    </tr>\n",
       "    <tr>\n",
       "      <th>Name</th>\n",
       "      <th></th>\n",
       "      <th></th>\n",
       "    </tr>\n",
       "  </thead>\n",
       "  <tbody>\n",
       "    <tr>\n",
       "      <th>jeff</th>\n",
       "      <td>130</td>\n",
       "      <td>170</td>\n",
       "    </tr>\n",
       "    <tr>\n",
       "      <th>john</th>\n",
       "      <td>120</td>\n",
       "      <td>150</td>\n",
       "    </tr>\n",
       "  </tbody>\n",
       "</table>\n",
       "</div>"
      ],
      "text/plain": [
       "variable   BP  weight\n",
       "Name                 \n",
       "jeff      130     170\n",
       "john      120     150"
      ]
     },
     "execution_count": 17,
     "metadata": {},
     "output_type": "execute_result"
    }
   ],
   "source": [
    "#Get back to the Wide Format!\n",
    "pivot_df = melt_df.pivot(index='Name', columns=['variable'], values='value')\n",
    "pivot_df"
   ]
  },
  {
   "cell_type": "markdown",
   "id": "05ce0cbd-d75f-4eed-8382-0c7c1975afc1",
   "metadata": {},
   "source": [
    "# Cross Tabulation\n",
    "Used to Quantitatively analyze variables.  Also analyze the relationship between Categorical columns.<br>\n",
    "Kinda like a group by function in SQL"
   ]
  },
  {
   "cell_type": "code",
   "execution_count": 23,
   "id": "73ef7bd2-8611-4c52-a11a-e745c0f018a0",
   "metadata": {},
   "outputs": [
    {
     "name": "stdout",
     "output_type": "stream",
     "text": [
      "['foo' 'foo' 'foo' 'foo' 'bar' 'bar' 'bar' 'bar' 'foo' 'foo' 'foo']\n",
      "['one' 'one' 'one' 'two' 'one' 'one' 'one' 'two' 'two' 'two' 'one']\n",
      "['dull' 'dull' 'shiny' 'dull' 'dull' 'shiny' 'shiny' 'dull' 'shiny'\n",
      " 'shiny' 'shiny']\n"
     ]
    },
    {
     "data": {
      "text/html": [
       "<div>\n",
       "<style scoped>\n",
       "    .dataframe tbody tr th:only-of-type {\n",
       "        vertical-align: middle;\n",
       "    }\n",
       "\n",
       "    .dataframe tbody tr th {\n",
       "        vertical-align: top;\n",
       "    }\n",
       "\n",
       "    .dataframe thead tr th {\n",
       "        text-align: left;\n",
       "    }\n",
       "\n",
       "    .dataframe thead tr:last-of-type th {\n",
       "        text-align: right;\n",
       "    }\n",
       "</style>\n",
       "<table border=\"1\" class=\"dataframe\">\n",
       "  <thead>\n",
       "    <tr>\n",
       "      <th>b</th>\n",
       "      <th colspan=\"2\" halign=\"left\">one</th>\n",
       "      <th colspan=\"2\" halign=\"left\">two</th>\n",
       "    </tr>\n",
       "    <tr>\n",
       "      <th>c</th>\n",
       "      <th>dull</th>\n",
       "      <th>shiny</th>\n",
       "      <th>dull</th>\n",
       "      <th>shiny</th>\n",
       "    </tr>\n",
       "    <tr>\n",
       "      <th>a</th>\n",
       "      <th></th>\n",
       "      <th></th>\n",
       "      <th></th>\n",
       "      <th></th>\n",
       "    </tr>\n",
       "  </thead>\n",
       "  <tbody>\n",
       "    <tr>\n",
       "      <th>bar</th>\n",
       "      <td>1</td>\n",
       "      <td>2</td>\n",
       "      <td>1</td>\n",
       "      <td>0</td>\n",
       "    </tr>\n",
       "    <tr>\n",
       "      <th>foo</th>\n",
       "      <td>2</td>\n",
       "      <td>2</td>\n",
       "      <td>1</td>\n",
       "      <td>2</td>\n",
       "    </tr>\n",
       "  </tbody>\n",
       "</table>\n",
       "</div>"
      ],
      "text/plain": [
       "b    one        two      \n",
       "c   dull shiny dull shiny\n",
       "a                        \n",
       "bar    1     2    1     0\n",
       "foo    2     2    1     2"
      ]
     },
     "execution_count": 23,
     "metadata": {},
     "output_type": "execute_result"
    }
   ],
   "source": [
    "import numpy as np\n",
    "# creating arrays\n",
    "a = np.array([\"foo\", \"foo\", \"foo\", \"foo\", \"bar\", \"bar\",\n",
    "              \"bar\", \"bar\", \"foo\", \"foo\", \"foo\"], dtype=object)\n",
    "b = np.array([\"one\", \"one\", \"one\", \"two\", \"one\", \"one\",\n",
    "              \"one\", \"two\", \"two\", \"two\", \"one\"], dtype=object)\n",
    "c = np.array([\"dull\", \"dull\", \"shiny\", \"dull\", \"dull\", \"shiny\",\n",
    "              \"shiny\", \"dull\", \"shiny\", \"shiny\", \"shiny\"],\n",
    "             dtype=object)\n",
    "print(a)\n",
    "print(b)\n",
    "print(c)\n",
    "crosstab_df = pd.crosstab(a, [b,c], rownames=['a'], colnames=['b','c'])\n",
    "crosstab_df"
   ]
  },
  {
   "cell_type": "markdown",
   "id": "12c19c38-4149-4e79-8921-346e7dc62498",
   "metadata": {},
   "source": [
    "## Binning\n",
    "Groups data into Bins or Buckets\n",
    "<br>Also used to convert numerical data to categorical data"
   ]
  },
  {
   "cell_type": "code",
   "execution_count": 28,
   "id": "7a912d55-318e-4425-8a77-6e2c3a58c3a2",
   "metadata": {},
   "outputs": [
    {
     "name": "stdout",
     "output_type": "stream",
     "text": [
      "[(0.994, 3.0], (5.0, 7.0], (3.0, 5.0], (3.0, 5.0], (5.0, 7.0], (0.994, 3.0]]\n",
      "Categories (3, interval[float64, right]): [(0.994, 3.0] < (3.0, 5.0] < (5.0, 7.0]]\n",
      "['low', 'high', 'med', 'med', 'high', 'low']\n",
      "Categories (3, object): ['low' < 'med' < 'high']\n"
     ]
    }
   ],
   "source": [
    "import numpy as np\n",
    "\n",
    "#Binning uses the Cust function\n",
    "cut_ret1 = pd.cut(np.array([1,7,5,4,6,3]),3)\n",
    "print(cut_ret1)\n",
    "cut_ret2 = pd.cut(np.array([1,7,5,4,6,3]),3, labels=['low', 'med', 'high'])\n",
    "print(cut_ret2)\n"
   ]
  },
  {
   "cell_type": "markdown",
   "id": "86385a3d-d284-45cd-95cb-7a959b94d1e3",
   "metadata": {},
   "source": [
    "## Merge & Concat Functions\n",
    "Must have a common unique key in each table to be merged<br>\n",
    "Options: Left-Join, Right-Join, Inner-Join, Outer-Join, or Cross-Join"
   ]
  },
  {
   "cell_type": "code",
   "execution_count": 31,
   "id": "35c2c76f-e941-405e-8d51-074c16e0ef25",
   "metadata": {},
   "outputs": [
    {
     "name": "stdout",
     "output_type": "stream",
     "text": [
      "   pincode    city_name  distance_from_delhi  district             State\n",
      "0   249201    Rishikesh                  230  Dehradun       Uttarakhand\n",
      "1   175131       Manali                  543     Kullu  Himachal Pradesh\n",
      "2   263136      Bhimtal                  321       NaN               NaN\n",
      "3   246171  Rudraprayag                  370       NaN               NaN\n",
      "4   171004       Shimla                  343       NaN               NaN\n",
      "   pincode  city_name  distance_from_delhi  district             State\n",
      "0   249201  Rishikesh                230.0  Dehradun       Uttarakhand\n",
      "1   175131     Manali                543.0     Kullu  Himachal Pradesh\n",
      "2   263001        NaN                  NaN  Nainital       Uttarakhand\n"
     ]
    }
   ],
   "source": [
    "# creating 1st dataframe\n",
    "df1 = pd.DataFrame({'pincode':[249201,175131,263136,246171,171004], \n",
    "                   'city_name':['Rishikesh','Manali','Bhimtal', 'Rudraprayag','Shimla'],\n",
    "                   'distance_from_delhi':[230,543,321, 370,343]})\n",
    "# creating 2nd dataframe\n",
    "df2 = pd.DataFrame({'pincode':[249201,175131,263001],\n",
    "                   'district':['Dehradun','Kullu','Nainital'],\n",
    "                   'State':['Uttarakhand','Himachal Pradesh','Uttarakhand']})\n",
    "#Left Join\n",
    "merge_df = pd.merge(df1, df2, how='left', on='pincode')\n",
    "print(merge_df)\n",
    "\n",
    "#Right Join\n",
    "merge_df = pd.merge(df1, df2, how='right', on='pincode')\n",
    "print(merge_df)"
   ]
  },
  {
   "cell_type": "code",
   "execution_count": 32,
   "id": "c1d7b6af-b7b5-489d-bde6-96e3cf4f73c7",
   "metadata": {},
   "outputs": [
    {
     "data": {
      "text/html": [
       "<div>\n",
       "<style scoped>\n",
       "    .dataframe tbody tr th:only-of-type {\n",
       "        vertical-align: middle;\n",
       "    }\n",
       "\n",
       "    .dataframe tbody tr th {\n",
       "        vertical-align: top;\n",
       "    }\n",
       "\n",
       "    .dataframe thead th {\n",
       "        text-align: right;\n",
       "    }\n",
       "</style>\n",
       "<table border=\"1\" class=\"dataframe\">\n",
       "  <thead>\n",
       "    <tr style=\"text-align: right;\">\n",
       "      <th></th>\n",
       "      <th>Name</th>\n",
       "      <th>Age</th>\n",
       "      <th>Gender</th>\n",
       "    </tr>\n",
       "  </thead>\n",
       "  <tbody>\n",
       "    <tr>\n",
       "      <th>0</th>\n",
       "      <td>Arijit</td>\n",
       "      <td>34</td>\n",
       "      <td>M</td>\n",
       "    </tr>\n",
       "    <tr>\n",
       "      <th>1</th>\n",
       "      <td>Neeraj</td>\n",
       "      <td>30</td>\n",
       "      <td>M</td>\n",
       "    </tr>\n",
       "    <tr>\n",
       "      <th>2</th>\n",
       "      <td>Sakshi</td>\n",
       "      <td>22</td>\n",
       "      <td>F</td>\n",
       "    </tr>\n",
       "    <tr>\n",
       "      <th>3</th>\n",
       "      <td>Muskan</td>\n",
       "      <td>33</td>\n",
       "      <td>M</td>\n",
       "    </tr>\n",
       "    <tr>\n",
       "      <th>0</th>\n",
       "      <td>Kartik</td>\n",
       "      <td>31</td>\n",
       "      <td>M</td>\n",
       "    </tr>\n",
       "    <tr>\n",
       "      <th>1</th>\n",
       "      <td>Veer</td>\n",
       "      <td>22</td>\n",
       "      <td>M</td>\n",
       "    </tr>\n",
       "    <tr>\n",
       "      <th>2</th>\n",
       "      <td>Preeti</td>\n",
       "      <td>19</td>\n",
       "      <td>F</td>\n",
       "    </tr>\n",
       "  </tbody>\n",
       "</table>\n",
       "</div>"
      ],
      "text/plain": [
       "     Name  Age Gender\n",
       "0  Arijit   34      M\n",
       "1  Neeraj   30      M\n",
       "2  Sakshi   22      F\n",
       "3  Muskan   33      M\n",
       "0  Kartik   31      M\n",
       "1    Veer   22      M\n",
       "2  Preeti   19      F"
      ]
     },
     "execution_count": 32,
     "metadata": {},
     "output_type": "execute_result"
    }
   ],
   "source": [
    "#Now lets try Concat\n",
    "# dataframes having the same columns\n",
    "df1 = pd.DataFrame({'Name': ['Arijit', 'Neeraj', 'Sakshi', 'Muskan'],\n",
    "                    'Age': [34, 30, 22, 33],\n",
    "                    'Gender': ['M', 'M', 'F', 'M']}\n",
    "                  )\n",
    "\n",
    "df2 = pd.DataFrame({'Name': ['Kartik', 'Veer', 'Preeti'],\n",
    "                    'Age': [31, 22, 19],\n",
    "                    'Gender': ['M', 'M', 'F']}\n",
    "                  )\n",
    "df = pd.concat([df1, df2], axis = 0)\n",
    "df"
   ]
  },
  {
   "cell_type": "markdown",
   "id": "51584327-e246-433a-a1f4-88478698b353",
   "metadata": {},
   "source": [
    "## Handling Missing Values\n",
    "Types of Missing Values\n",
    "<ul>\n",
    "    <li>MCAR - Missing Completely At Random - no pattern</li>\n",
    "    <li>MAR - Missing At Random - some association with other features</li>\n",
    "    <li>MNAR - Missing Not At Random</li>\n",
    "</ul>"
   ]
  },
  {
   "cell_type": "code",
   "execution_count": 58,
   "id": "9316cb74-6c46-4bbd-8db9-2273edf8d4bf",
   "metadata": {},
   "outputs": [
    {
     "name": "stdout",
     "output_type": "stream",
     "text": [
      "   col1  col2   col3\n",
      "0  2019   350    NaN\n",
      "1  2019   365  365.0\n",
      "2  2020     1    NaN \n",
      "\n",
      "col1    0\n",
      "col2    0\n",
      "col3    2\n",
      "dtype: int64 \n",
      "\n",
      "col1    False\n",
      "col2    False\n",
      "col3     True\n",
      "dtype: bool\n",
      "   col1  col2   col3\n",
      "0  2019   350  365.0\n",
      "1  2019   365  365.0\n",
      "2  2020     1  365.0\n"
     ]
    }
   ],
   "source": [
    "dict1 = {'col1':[2019,2019,2020],'col2':[350,365,1],'col3':[None,365,None]}\n",
    "df = pd.DataFrame(dict1)\n",
    "print(df, \"\\n\")\n",
    "\n",
    "#Find count of NaN values \n",
    "print(df.isnull().sum(),\"\\n\")\n",
    "\n",
    "#Also can use \"any\" function\n",
    "print(df.isnull().any())\n",
    "\n",
    "#Fill missing values with mean\n",
    "print(df.fillna(df.mean()))"
   ]
  },
  {
   "cell_type": "markdown",
   "id": "a2447883-bcf4-4c34-a313-9b74015e48bb",
   "metadata": {},
   "source": [
    "## Data Type Conversion\n",
    "For example string to numeric"
   ]
  },
  {
   "cell_type": "code",
   "execution_count": 51,
   "id": "c7942025-fb46-479f-ab9b-5b7433a23d7c",
   "metadata": {},
   "outputs": [
    {
     "name": "stdout",
     "output_type": "stream",
     "text": [
      "   col1  col2\n",
      "0     1     3\n",
      "1     2     4 \n",
      "\n",
      "col1    int64\n",
      "col2    int64\n",
      "dtype: object \n",
      "\n",
      "col1    int32\n",
      "col2    int32\n",
      "dtype: object \n",
      "\n",
      "col1    object\n",
      "col2     int32\n",
      "dtype: object \n",
      "\n"
     ]
    }
   ],
   "source": [
    "dict1 = {'col1':[1,2],'col2':[3,4]}\n",
    "df = pd.DataFrame(data=dict1)\n",
    "print(df, \"\\n\")\n",
    "\n",
    "print(df.dtypes, \"\\n\")\n",
    "df = df.astype('int32')\n",
    "print(df.dtypes, \"\\n\")\n",
    "\n",
    "df['col1'] = df['col1'].astype(str)\n",
    "print(df.dtypes, \"\\n\")\n"
   ]
  },
  {
   "cell_type": "markdown",
   "id": "7881f35b-1c44-40f9-acff-4fd8724c222d",
   "metadata": {},
   "source": [
    "## Evaluate complex Equasions in PD with \"eval\" function"
   ]
  },
  {
   "cell_type": "code",
   "execution_count": 58,
   "id": "0d4735ab-a1ee-40d3-80b6-30cb30e3a54e",
   "metadata": {},
   "outputs": [
    {
     "name": "stdout",
     "output_type": "stream",
     "text": [
      "   A  B\n",
      "0  2  3\n",
      "1  5  1\n",
      "2  4  5 \n",
      "\n",
      "0    1.666667\n",
      "1    8.000000\n",
      "2    1.400000\n",
      "dtype: float64 \n",
      "\n"
     ]
    }
   ],
   "source": [
    "df = pd.DataFrame([[2,3],[5,1],[4,5]],columns=['A','B'])\n",
    "print(df, \"\\n\")\n",
    "\n",
    "eq = '(A + 3) / B'\n",
    "print (df.eval(eq), \"\\n\")"
   ]
  },
  {
   "cell_type": "markdown",
   "id": "7836dafa-0fff-4d9d-9024-62d70328ac4a",
   "metadata": {},
   "source": [
    "# Pandas Series\n",
    "Series are a one dimensional array\n",
    "\n",
    "parameters(data = \"array, iterable, dict, or scalar\", index =  )\n",
    "\n",
    "\n",
    "## Series have Attributes\n",
    "\n",
    "\n",
    "|``Attributes``|\t|``Description``|\n",
    "|--------------|----|---------------|\n",
    "|Series.index|\t|Defines the index of the Series.|\n",
    "|Series.shape|\t|It returns a tuple of shape of the data.|\n",
    "|Series.dtype|\t|It returns the data type of the data.|\n",
    "|Series.size|\t|It returns the size of the data.|\n",
    "|Series.empty|\t|It returns True if Series object is empty, otherwise returns false.|\n",
    "|Series.hasnans|\t|It returns True if there are any NaN values, otherwise returns false.|\n",
    "|Series.nbytes|\t|It returns the number of bytes in the data.|\n",
    "|Series.ndim|\t|It returns the number of dimensions in the data.|"
   ]
  },
  {
   "cell_type": "code",
   "execution_count": 62,
   "id": "2dadb515-20ac-41f5-8a61-1dd7029eb2d1",
   "metadata": {
    "collapsed": true,
    "jupyter": {
     "outputs_hidden": true
    },
    "tags": []
   },
   "outputs": [
    {
     "name": "stdout",
     "output_type": "stream",
     "text": [
      "0       Ganga\n",
      "1      yamuna\n",
      "2      Gomiti\n",
      "3       Koshi\n",
      "4    Godavari\n",
      "5      Kaveri\n",
      "dtype: object \n",
      "\n",
      "RangeIndex(start=0, stop=6, step=1) \n",
      "\n",
      "(6,) \n",
      "\n",
      "object \n",
      "\n",
      "6 \n",
      "\n",
      "False \n",
      "\n",
      "False \n",
      "\n",
      "48 \n",
      "\n",
      "1 \n",
      "\n"
     ]
    }
   ],
   "source": [
    "ps = pd.Series(['Ganga', 'yamuna', 'Gomiti', 'Koshi', 'Godavari','Kaveri'])\n",
    "print(ps, \"\\n\")\n",
    "\n",
    "print(ps.index, \"\\n\")\n",
    "print(ps.shape, \"\\n\")\n",
    "print(ps.dtype, \"\\n\")\n",
    "print(ps.size, \"\\n\")\n",
    "print(ps.empty, \"\\n\")\n",
    "print(ps.hasnans, \"\\n\")\n",
    "print(ps.nbytes, \"\\n\")\n",
    "print(ps.ndim, \"\\n\")"
   ]
  },
  {
   "cell_type": "markdown",
   "id": "d3403d7b-5886-44b3-950a-6cd84b9d2d32",
   "metadata": {},
   "source": [
    "## Indexing and Iteration in Pandas Series\n",
    "\n",
    "python index start at 0\n",
    "\n",
    "Can use ranges using \"loc[]\" and \"iloc[]\"\n",
    "\n"
   ]
  },
  {
   "cell_type": "code",
   "execution_count": 82,
   "id": "63accf8b-5944-44d9-ae0f-cae737106877",
   "metadata": {
    "collapsed": true,
    "jupyter": {
     "outputs_hidden": true
    },
    "tags": []
   },
   "outputs": [
    {
     "name": "stdout",
     "output_type": "stream",
     "text": [
      "a       Ganga\n",
      "b      yamuna\n",
      "c      Gomiti\n",
      "d       Koshi\n",
      "e    Godavari\n",
      "f      Kaveri\n",
      "dtype: object \n",
      "\n",
      "yamuna\n",
      "Index [b] \n",
      " yamuna \n",
      "\n",
      "Index [a:d] \n",
      " a     Ganga\n",
      "b    yamuna\n",
      "c    Gomiti\n",
      "d     Koshi\n",
      "dtype: object \n",
      "\n",
      "Index ['a':'f':2] \n",
      " a       Ganga\n",
      "c      Gomiti\n",
      "e    Godavari\n",
      "dtype: object \n",
      "\n",
      "yamuna\n",
      "Index [0] \n",
      " Ganga \n",
      "\n",
      "Index [2:] \n",
      " c      Gomiti\n",
      "d       Koshi\n",
      "e    Godavari\n",
      "f      Kaveri\n",
      "dtype: object \n",
      "\n",
      "Index [:2] \n",
      " a     Ganga\n",
      "b    yamuna\n",
      "dtype: object \n",
      "\n",
      "Index [:] \n",
      " a       Ganga\n",
      "b      yamuna\n",
      "c      Gomiti\n",
      "d       Koshi\n",
      "e    Godavari\n",
      "f      Kaveri\n",
      "dtype: object \n",
      "\n",
      "Index [::2] \n",
      " a       Ganga\n",
      "c      Gomiti\n",
      "e    Godavari\n",
      "dtype: object \n",
      "\n"
     ]
    }
   ],
   "source": [
    "\n",
    "ps = pd.Series(['Ganga', 'yamuna', 'Gomiti', 'Koshi', 'Godavari','Kaveri'], index = ['a','b','c','d','e','f'])\n",
    "print(ps, \"\\n\")\n",
    "\n",
    "#Location Based Indexing\n",
    "print(ps['b'])\n",
    "print(\"Index [b] \\n\", ps.loc['b'],\"\\n\")\n",
    "print(\"Index [a:d] \\n\", ps.loc['a':'d'],\"\\n\")\n",
    "print(\"Index ['a':'f':2] \\n\", ps.loc['a':'f':2],\"\\n\") #Stride it by 2\n",
    "\n",
    "# Integer Location Based Indexing\n",
    "print(ps['b'])\n",
    "print(\"Index [0] \\n\", ps.iloc[0],\"\\n\")\n",
    "print(\"Index [2:] \\n\", ps.iloc[2:],\"\\n\")\n",
    "print(\"Index [:2] \\n\", ps.iloc[:2],\"\\n\")\n",
    "print(\"Index [:] \\n\", ps.iloc[:],\"\\n\")\n",
    "print(\"Index [::2] \\n\", ps.iloc[::2],\"\\n\") #Stride it by 2\n"
   ]
  },
  {
   "cell_type": "code",
   "execution_count": 83,
   "id": "da2e9bd5-4a50-422e-87ef-35921da745f1",
   "metadata": {},
   "outputs": [
    {
     "name": "stdout",
     "output_type": "stream",
     "text": [
      "('a', 'Ganga')\n",
      "('b', 'yamuna')\n",
      "('c', 'Gomiti')\n",
      "('d', 'Koshi')\n",
      "('e', 'Godavari')\n",
      "('f', 'Kaveri')\n"
     ]
    }
   ],
   "source": [
    "# iterating over all the elements\n",
    "for i in ps.iteritems():\n",
    "    print(i)"
   ]
  },
  {
   "cell_type": "markdown",
   "id": "c47cf1f1-3d7e-409f-85c1-e3d660eb6e2e",
   "metadata": {},
   "source": [
    "## Binary Operations on Pandas Series"
   ]
  },
  {
   "cell_type": "code",
   "execution_count": 86,
   "id": "ffd0ade7-cbcd-48ad-bb1f-9014e521b41b",
   "metadata": {},
   "outputs": [
    {
     "name": "stdout",
     "output_type": "stream",
     "text": [
      "0     7\n",
      "1     5\n",
      "2    13\n",
      "3     5\n",
      "4     8\n",
      "5     3\n",
      "dtype: int64\n",
      "0     7\n",
      "1     5\n",
      "2    13\n",
      "3     5\n",
      "4     8\n",
      "5     3\n",
      "dtype: int64\n",
      "0   -3\n",
      "1    3\n",
      "2   -1\n",
      "3   -3\n",
      "4    4\n",
      "5   -3\n",
      "dtype: int64\n",
      "0   -3\n",
      "1    3\n",
      "2   -1\n",
      "3   -3\n",
      "4    4\n",
      "5   -3\n",
      "dtype: int64\n"
     ]
    }
   ],
   "source": [
    "# creating two pandas series\n",
    "s1 = pd.Series([2,4,6,1,6,0])\n",
    "s2 = pd.Series([5,1,7,4,2,3])\n",
    "\n",
    "#Addition\n",
    "print (s1 + s2)\n",
    "print (s1.add(s2))\n",
    "\n",
    "#Subtraction\n",
    "print (s1 - s2)\n",
    "print (s1.sub(s2))\n",
    "\n",
    "#Muliplication & Division is also available"
   ]
  },
  {
   "cell_type": "markdown",
   "id": "7fa54852-fd38-46ca-bd01-0f3f1aec996d",
   "metadata": {},
   "source": [
    "## Groupby Function in Pandas\n",
    "A groupby operation involves some combination of splitting the object, applying a function, and combining the results. This can be used to group large amounts of data and compute operations on these groups.\n"
   ]
  },
  {
   "cell_type": "code",
   "execution_count": 92,
   "id": "d3945e7e-13de-4e62-aae1-be34e71ff3e1",
   "metadata": {},
   "outputs": [
    {
     "name": "stdout",
     "output_type": "stream",
     "text": [
      "Falcon    390.0\n",
      "Falcon    350.0\n",
      "Parrot     30.0\n",
      "Parrot     20.0\n",
      "Name: Max Speed, dtype: float64 \n",
      "\n"
     ]
    },
    {
     "data": {
      "text/plain": [
       "a    370.0\n",
       "b     25.0\n",
       "Name: Max Speed, dtype: float64"
      ]
     },
     "execution_count": 92,
     "metadata": {},
     "output_type": "execute_result"
    }
   ],
   "source": [
    "# creating a series\n",
    "ser = pd.Series([390., 350., 30., 20.],\n",
    "        index=['Falcon', 'Falcon', 'Parrot', 'Parrot'], name=\"Max Speed\")\n",
    "print(ser, \"\\n\")\n",
    "\n",
    "ser.groupby(['a', 'a','b','b']).mean()\n"
   ]
  },
  {
   "cell_type": "markdown",
   "id": "12c526d0-0756-4d41-bab1-c7b3007ec091",
   "metadata": {},
   "source": [
    "## Window Function\n",
    "Expanding and Rollinw Windows"
   ]
  },
  {
   "cell_type": "code",
   "execution_count": 96,
   "id": "eb33a535-423f-4be1-b2c7-c68400304d3b",
   "metadata": {},
   "outputs": [
    {
     "name": "stdout",
     "output_type": "stream",
     "text": [
      "0    2\n",
      "1    4\n",
      "2    7\n",
      "3    3\n",
      "4    1\n",
      "5    8\n",
      "6    4\n",
      "7    2\n",
      "8    5\n",
      "dtype: int64 \n",
      "\n",
      "0     NaN\n",
      "1     6.0\n",
      "2    11.0\n",
      "3    10.0\n",
      "4     4.0\n",
      "5     9.0\n",
      "6    12.0\n",
      "7     6.0\n",
      "8     7.0\n",
      "dtype: float64 \n",
      "\n"
     ]
    },
    {
     "data": {
      "text/plain": [
       "0     NaN\n",
       "1     6.0\n",
       "2    13.0\n",
       "3    16.0\n",
       "4    17.0\n",
       "5    25.0\n",
       "6    29.0\n",
       "7    31.0\n",
       "8    36.0\n",
       "dtype: float64"
      ]
     },
     "execution_count": 96,
     "metadata": {},
     "output_type": "execute_result"
    }
   ],
   "source": [
    "# creating a series\n",
    "s = pd.Series([2,4,7,3,1,8,4,2,5])\n",
    "print (s, \"\\n\")\n",
    "\n",
    "#Sums the two preceeding values.\n",
    "print(s.rolling(window=2).sum(), \"\\n\")\n",
    "\n",
    "s.expanding(min_periods = 2).sum()"
   ]
  },
  {
   "cell_type": "markdown",
   "id": "f45f228c-519e-480b-82ce-50756179d80e",
   "metadata": {},
   "source": [
    "## Description Statistics in Pandas Series\n"
   ]
  },
  {
   "cell_type": "code",
   "execution_count": 61,
   "id": "89bd2b89-16f6-4f8b-bd1e-04ce993633b9",
   "metadata": {},
   "outputs": [
    {
     "name": "stdout",
     "output_type": "stream",
     "text": [
      "count    3.0\n",
      "mean     2.0\n",
      "std      1.0\n",
      "min      1.0\n",
      "25%      1.5\n",
      "50%      2.0\n",
      "75%      2.5\n",
      "max      3.0\n",
      "dtype: float64 \n",
      "\n",
      "count     4\n",
      "unique    3\n",
      "top       a\n",
      "freq      2\n",
      "dtype: object \n",
      "\n"
     ]
    }
   ],
   "source": [
    "#describing numerical series\n",
    "s = pd.Series([1, 2, 3])\n",
    "print(s.describe(), \"\\n\")\n",
    "\n",
    "#describing categorical series\n",
    "s = pd.Series(['a', 'a', 'b', 'c'])\n",
    "print(s.describe(), \"\\n\")\n"
   ]
  },
  {
   "cell_type": "markdown",
   "id": "10399631-c255-4b5c-924d-2d8f4e666a27",
   "metadata": {},
   "source": [
    "## Reindexing in Series\n",
    "\n",
    "Rows and columns both have indexes\n",
    "\n",
    "Row indicies - index\n",
    "\n",
    "column indicies - are column names\n"
   ]
  },
  {
   "cell_type": "code",
   "execution_count": 5,
   "id": "9ed87274-e789-4e68-a406-e19ccbd43f07",
   "metadata": {},
   "outputs": [
    {
     "name": "stdout",
     "output_type": "stream",
     "text": [
      "Firefox      200\n",
      "Chrome       200\n",
      "Safari       404\n",
      "IE10         404\n",
      "Konqueror    301\n",
      "dtype: int64 \n",
      "\n"
     ]
    },
    {
     "data": {
      "text/plain": [
       "Safari           404.0\n",
       "Iceweasel          NaN\n",
       "Comodo Dragon      NaN\n",
       "IE10             404.0\n",
       "Chrome           200.0\n",
       "dtype: float64"
      ]
     },
     "execution_count": 5,
     "metadata": {},
     "output_type": "execute_result"
    }
   ],
   "source": [
    "# creating a pandas series\n",
    "index = ['Firefox', 'Chrome', 'Safari', 'IE10', 'Konqueror']\n",
    "ser = pd.Series([200, 200, 404, 404, 301],\n",
    "                  index=index)\n",
    "print(ser, \"\\n\")\n",
    "\n",
    "# changing the index of the series\n",
    "new_index = ['Safari', 'Iceweasel', 'Comodo Dragon', 'IE10',\n",
    "             'Chrome']\n",
    "ser.reindex(new_index)"
   ]
  },
  {
   "cell_type": "markdown",
   "id": "d0dc49ba-77ed-4fb9-a317-fde0b2f4e2f3",
   "metadata": {},
   "source": [
    "## Reshaping Series\n",
    "Chaning number of rows and columns"
   ]
  },
  {
   "cell_type": "code",
   "execution_count": 9,
   "id": "8debd28a-33da-4eb1-8813-b2157247aa9c",
   "metadata": {},
   "outputs": [
    {
     "name": "stdout",
     "output_type": "stream",
     "text": [
      "0     2\n",
      "1     4\n",
      "2     6\n",
      "3     8\n",
      "4    10\n",
      "5    12\n",
      "dtype: int64 \n",
      "\n",
      "(6,) \n",
      "\n",
      "(3, 2) \n",
      "\n",
      "[[ 2  4]\n",
      " [ 6  8]\n",
      " [10 12]] \n",
      "\n"
     ]
    }
   ],
   "source": [
    "# create a series\n",
    "ser = pd.Series([2, 4, 6, 8, 10, 12])\n",
    "print(ser, \"\\n\")\n",
    "\n",
    "print(ser.shape, \"\\n\")\n",
    "\n",
    "reshaped_ser = s.values.reshape((3,2))\n",
    "print(reshaped_ser.shape, \"\\n\")\n",
    "print(reshaped_ser, \"\\n\")\n"
   ]
  },
  {
   "cell_type": "markdown",
   "id": "a8c861e8-99be-4915-812e-804a5e15f077",
   "metadata": {},
   "source": [
    "## Sorting a Series"
   ]
  },
  {
   "cell_type": "code",
   "execution_count": 15,
   "id": "040b2e3e-9d49-4f10-803e-c1ecb30351bf",
   "metadata": {},
   "outputs": [
    {
     "name": "stdout",
     "output_type": "stream",
     "text": [
      "0     2\n",
      "1     1\n",
      "2     3\n",
      "3    10\n",
      "4     5\n",
      "dtype: int64 \n",
      "\n",
      "1     1\n",
      "0     2\n",
      "2     3\n",
      "4     5\n",
      "3    10\n",
      "dtype: int64 \n",
      "\n",
      "3    10\n",
      "4     5\n",
      "2     3\n",
      "0     2\n",
      "1     1\n",
      "dtype: int64 \n",
      "\n"
     ]
    }
   ],
   "source": [
    "# creating a series\n",
    "s = pd.Series([2, 1, 3, 10, 5])\n",
    "print(s, \"\\n\")\n",
    "print(s.sort_values(), \"\\n\")\n",
    "print(s.sort_values(ascending= False), \"\\n\")"
   ]
  },
  {
   "cell_type": "markdown",
   "id": "0545e5ca-f8ba-482a-9ceb-471b3e68706f",
   "metadata": {},
   "source": [
    "## Date Time Properties in Series"
   ]
  },
  {
   "cell_type": "code",
   "execution_count": 18,
   "id": "79a9a08c-5bc4-42a5-bac1-e6a7c427de5f",
   "metadata": {},
   "outputs": [
    {
     "name": "stdout",
     "output_type": "stream",
     "text": [
      "0    2012-10-21 09:30\n",
      "1     2019-7-18 12:30\n",
      "2     2008-02-2 10:30\n",
      "3     2010-4-22 09:25\n",
      "4     2019-11-8 02:22\n",
      "dtype: object \n",
      "\n",
      "0   2012-10-21 09:30:00\n",
      "1   2019-07-18 12:30:00\n",
      "2   2008-02-02 10:30:00\n",
      "3   2010-04-22 09:25:00\n",
      "4   2019-11-08 02:22:00\n",
      "dtype: datetime64[ns] \n",
      "\n",
      "0    2012-10-21\n",
      "1    2019-07-18\n",
      "2    2008-02-02\n",
      "3    2010-04-22\n",
      "4    2019-11-08\n",
      "dtype: object \n",
      "\n",
      "0    2012\n",
      "1    2019\n",
      "2    2008\n",
      "3    2010\n",
      "4    2019\n",
      "dtype: int64 \n",
      "\n",
      "0    4\n",
      "1    3\n",
      "2    1\n",
      "3    2\n",
      "4    4\n",
      "dtype: int64 \n",
      "\n"
     ]
    }
   ],
   "source": [
    "# Creating the Series\n",
    "sr = pd.Series(['2012-10-21 09:30', '2019-7-18 12:30', '2008-02-2 10:30',\n",
    "               '2010-4-22 09:25', '2019-11-8 02:22'])\n",
    "print(sr, \"\\n\")\n",
    "# Convert the underlying data to datetime \n",
    "s = pd.to_datetime(sr)\n",
    "print(s, \"\\n\")\n",
    "\n",
    "#Get Date Properties\n",
    "print(s.dt.date, \"\\n\")\n",
    "print(s.dt.year, \"\\n\")\n",
    "print(s.dt.quarter, \"\\n\")\n",
    "s.b"
   ]
  },
  {
   "cell_type": "markdown",
   "id": "9d36b338-7c8c-42f3-9f46-3cfdc006ffb8",
   "metadata": {
    "tags": []
   },
   "source": [
    "# Data Frames\n",
    "DataFrame is a 2-dimensional labelled data structure.\n",
    "\n",
    "\n",
    "Sort, melt, merge, windowing all work the same as Series"
   ]
  },
  {
   "cell_type": "markdown",
   "id": "cba828cf-24ec-4703-9d24-9d6b954e7f92",
   "metadata": {},
   "source": [
    "## DataFrame Attributes\n"
   ]
  },
  {
   "cell_type": "code",
   "execution_count": 29,
   "id": "2839682b-2386-4511-b481-11315988b6e5",
   "metadata": {},
   "outputs": [
    {
     "name": "stdout",
     "output_type": "stream",
     "text": [
      "   col1  col2\n",
      "0     1     3\n",
      "1     2     4 \n",
      "\n",
      "   0  1  2\n",
      "0  2  3  4\n",
      "1  4  3  0 \n",
      "\n",
      "RangeIndex(start=0, stop=2, step=1) \n",
      "\n",
      "Index(['col1', 'col2'], dtype='object') \n",
      "\n",
      "col1    int64\n",
      "col2    int64\n",
      "dtype: object \n",
      "\n",
      "[RangeIndex(start=0, stop=2, step=1), Index(['col1', 'col2'], dtype='object')] \n",
      "\n",
      "(2, 2) \n",
      "\n",
      "4 \n",
      "\n",
      "False \n",
      "\n"
     ]
    }
   ],
   "source": [
    "# creating a data frame\n",
    "d = {'col1': [1, 2], 'col2': [3, 4]}\n",
    "df = pd.DataFrame(data=d)\n",
    "print(df, \"\\n\")\n",
    "\n",
    "#create with no keys\n",
    "data = pd.DataFrame([[2,3,4],[4,3,0]])\n",
    "print(data, \"\\n\")\n",
    "\n",
    "#Show the range of the keys\n",
    "print(df.index, \"\\n\")\n",
    "\n",
    "#Show the column names\n",
    "print(df.columns, \"\\n\")\n",
    "\n",
    "#Show the data types of column\n",
    "print(df.dtypes, \"\\n\")\n",
    "\n",
    "#Show the axes of each column\n",
    "print(df.axes, \"\\n\")\n",
    "\n",
    "#Show the shape of the DF\n",
    "print(df.shape, \"\\n\")\n",
    "\n",
    "#Show the size. total elements in the df\n",
    "print(df.size, \"\\n\")\n",
    "\n",
    "#Show if the DF is empty of not\n",
    "print(df.empty, \"\\n\")\n"
   ]
  },
  {
   "cell_type": "markdown",
   "id": "c97fadd3-bb02-4d1f-9289-159fdd432a68",
   "metadata": {},
   "source": [
    "## Indexing & Iteration in DataFrames"
   ]
  },
  {
   "cell_type": "code",
   "execution_count": 43,
   "id": "60f6d1ab-8560-4c37-9c83-c1dff8fc1298",
   "metadata": {},
   "outputs": [
    {
     "name": "stdout",
     "output_type": "stream",
     "text": [
      "                   A         B         C         D\n",
      "2000-01-01  0.347041  0.757265  1.390214 -0.982885\n",
      "2000-01-02 -0.407911 -0.911989  0.309114 -0.206342\n",
      "2000-01-03  0.314936  0.087566  0.158962  0.591812\n",
      "2000-01-04 -0.774071 -1.559302  0.898762 -1.171796\n",
      "2000-01-05  2.375722  0.597298  1.178727 -2.087694\n",
      "2000-01-06  0.164261 -1.164341  1.539545  0.333813\n",
      "2000-01-07  0.046753 -0.334500  0.074974 -0.463802\n",
      "2000-01-08 -0.421999 -1.076555  1.593660  0.251712 \n",
      "\n",
      "2000-01-01    0.347041\n",
      "2000-01-02   -0.407911\n",
      "2000-01-03    0.314936\n",
      "2000-01-04   -0.774071\n",
      "2000-01-05    2.375722\n",
      "2000-01-06    0.164261\n",
      "2000-01-07    0.046753\n",
      "2000-01-08   -0.421999\n",
      "Freq: D, Name: A, dtype: float64 \n",
      "\n",
      "                   A         B\n",
      "2000-01-01  0.347041  0.757265\n",
      "2000-01-02 -0.407911 -0.911989\n",
      "2000-01-03  0.314936  0.087566\n",
      "2000-01-04 -0.774071 -1.559302\n",
      "2000-01-05  2.375722  0.597298\n",
      "2000-01-06  0.164261 -1.164341\n",
      "2000-01-07  0.046753 -0.334500\n",
      "2000-01-08 -0.421999 -1.076555 \n",
      "\n",
      "                   A         B\n",
      "2000-01-01  0.347041  0.757265\n",
      "2000-01-03  0.314936  0.087566\n",
      "2000-01-05  2.375722  0.597298\n",
      "2000-01-07  0.046753 -0.334500 \n",
      "\n",
      "Index: 2000-01-01 00:00:00 Rows: [ 0.34704075  0.75726469  1.39021444 -0.98288541]\n",
      "Index: 2000-01-02 00:00:00 Rows: [-0.40791054 -0.9119893   0.30911445 -0.20634153]\n",
      "Index: 2000-01-03 00:00:00 Rows: [0.31493617 0.0875664  0.15896217 0.59181193]\n",
      "Index: 2000-01-04 00:00:00 Rows: [-0.77407053 -1.55930154  0.89876224 -1.17179562]\n",
      "Index: 2000-01-05 00:00:00 Rows: [ 2.37572156  0.59729827  1.17872738 -2.08769396]\n",
      "Index: 2000-01-06 00:00:00 Rows: [ 0.16426115 -1.16434145  1.53954453  0.33381293]\n",
      "Index: 2000-01-07 00:00:00 Rows: [ 0.04675331 -0.3345004   0.07497433 -0.46380199]\n",
      "Index: 2000-01-08 00:00:00 Rows: [-0.42199905 -1.0765546   1.59365979  0.25171242]\n",
      "Pandas(Index=Timestamp('2000-01-01 00:00:00', freq='D'), A=0.34704074944684987, B=0.7572646888233694, C=1.3902144442099904, D=-0.9828854131764814)\n",
      "Pandas(Index=Timestamp('2000-01-02 00:00:00', freq='D'), A=-0.4079105420099599, B=-0.9119892999147071, C=0.3091144538871034, D=-0.2063415310737026)\n",
      "Pandas(Index=Timestamp('2000-01-03 00:00:00', freq='D'), A=0.31493616837955035, B=0.08756640429080093, C=0.1589621678471028, D=0.5918119270241237)\n",
      "Pandas(Index=Timestamp('2000-01-04 00:00:00', freq='D'), A=-0.7740705253801917, B=-1.5593015426883023, C=0.8987622391051886, D=-1.1717956185028)\n",
      "Pandas(Index=Timestamp('2000-01-05 00:00:00', freq='D'), A=2.375721562732638, B=0.5972982748354478, C=1.1787273805727994, D=-2.0876939575115)\n",
      "Pandas(Index=Timestamp('2000-01-06 00:00:00', freq='D'), A=0.1642611546456059, B=-1.164341447281218, C=1.5395445345794267, D=0.3338129307463494)\n",
      "Pandas(Index=Timestamp('2000-01-07 00:00:00', freq='D'), A=0.046753314971784386, B=-0.3345004007495905, C=0.07497433038840662, D=-0.46380199258768223)\n",
      "Pandas(Index=Timestamp('2000-01-08 00:00:00', freq='D'), A=-0.42199905180893105, B=-1.0765546007546691, C=1.5936597867460935, D=0.2517124205437368)\n"
     ]
    }
   ],
   "source": [
    "# creating data frame, use range of dates as index\n",
    "dates = pd.date_range('1/1/2000', periods=8)\n",
    "df = pd.DataFrame(np.random.randn(8, 4), index=dates, columns=['A', 'B', 'C', 'D'])\n",
    "print(df, \"\\n\")\n",
    "\n",
    "#All rows and one column\n",
    "print(df.loc[:, 'A'], \"\\n\")\n",
    "\n",
    "#All rows and range of columns\n",
    "print(df.loc[:, 'A':'B'], \"\\n\")\n",
    "\n",
    "#With Row Striding\n",
    "print(df.loc[::2, 'A':'B'], \"\\n\")\n",
    "\n",
    "#Indexing using df.iterrows\n",
    "for index, row in df.iterrows():\n",
    "    print(\"Index: {} Rows: {}\".format(index, row.values))\n",
    "    \n",
    "    \n",
    "#index using df.itertubles\n",
    "for tuple in df.itertuples():\n",
    "    print(tuple)"
   ]
  },
  {
   "cell_type": "markdown",
   "id": "93a9fde0-dd08-46dd-85e3-43c126b6a43c",
   "metadata": {},
   "source": [
    "## Binary operations on DataFrames"
   ]
  },
  {
   "cell_type": "code",
   "execution_count": 49,
   "id": "c6bbfddc-e2e0-4cae-9dd4-30a257d6300e",
   "metadata": {},
   "outputs": [
    {
     "name": "stdout",
     "output_type": "stream",
     "text": [
      "   0   1   2\n",
      "0  5   5  10\n",
      "1  5  12   6\n",
      "2  3  13  12 \n",
      "\n",
      "    0   1   2\n",
      "0  23  58  57\n",
      "1  21  46  35\n",
      "2  39  90  73 \n",
      "\n",
      "   0       1      2\n",
      "0  8       9   3125\n",
      "1  1   65536     16\n",
      "2  2  117649  78125 \n",
      "\n",
      "       0      1      2\n",
      "0   True  False  False\n",
      "1   True   True   True\n",
      "2  False  False   True \n",
      "\n"
     ]
    }
   ],
   "source": [
    "# defining data frames\n",
    "df1 = pd.DataFrame([[2,3,5],[1,4,2],[2,7,5]])\n",
    "df2 = pd.DataFrame([[3,2,5],[4,8,4],[1,6,7]])\n",
    "\n",
    "#All simple operations work\n",
    "print (df1 + df2, \"\\n\")\n",
    "\n",
    "#Matrix Dot product\n",
    "print (df1.dot(df2), \"\\n\")\n",
    "\n",
    "#Matrix Power function product element wise\n",
    "print (df1.pow(df2), \"\\n\")\n",
    "\n",
    "#Compares elements of first df are < elements of second df\n",
    "# others are eq(), neq(), le(), gt(), ge()\n",
    "print (df1.lt(df2), \"\\n\")"
   ]
  },
  {
   "cell_type": "markdown",
   "id": "22d82388-030f-42a9-b26f-12f09be7b4ac",
   "metadata": {},
   "source": [
    "## GroupBy and Window Functions in DataFrames"
   ]
  },
  {
   "cell_type": "code",
   "execution_count": 54,
   "id": "401483e7-98cf-4e37-b56c-c06908e16af5",
   "metadata": {},
   "outputs": [
    {
     "name": "stdout",
     "output_type": "stream",
     "text": [
      "   Age Attrition     BusinessTravel  DailyRate              Department  \\\n",
      "0   41       Yes      Travel_Rarely       1102                   Sales   \n",
      "1   49        No  Travel_Frequently        279  Research & Development   \n",
      "2   37       Yes      Travel_Rarely       1373  Research & Development   \n",
      "3   33        No  Travel_Frequently       1392  Research & Development   \n",
      "4   27        No      Travel_Rarely        591  Research & Development   \n",
      "\n",
      "   DistanceFromHome  Education EducationField  EmployeeCount  EmployeeNumber  \\\n",
      "0                 1          2  Life Sciences              1               1   \n",
      "1                 8          1  Life Sciences              1               2   \n",
      "2                 2          2          Other              1               4   \n",
      "3                 3          4  Life Sciences              1               5   \n",
      "4                 2          1        Medical              1               7   \n",
      "\n",
      "   ...  RelationshipSatisfaction StandardHours  StockOptionLevel  \\\n",
      "0  ...                         1            80                 0   \n",
      "1  ...                         4            80                 1   \n",
      "2  ...                         2            80                 0   \n",
      "3  ...                         3            80                 0   \n",
      "4  ...                         4            80                 1   \n",
      "\n",
      "   TotalWorkingYears  TrainingTimesLastYear WorkLifeBalance  YearsAtCompany  \\\n",
      "0                  8                      0               1               6   \n",
      "1                 10                      3               3              10   \n",
      "2                  7                      3               3               0   \n",
      "3                  8                      3               3               8   \n",
      "4                  6                      3               3               2   \n",
      "\n",
      "  YearsInCurrentRole  YearsSinceLastPromotion  YearsWithCurrManager  \n",
      "0                  4                        0                     5  \n",
      "1                  7                        1                     7  \n",
      "2                  0                        0                     0  \n",
      "3                  7                        3                     0  \n",
      "4                  2                        2                     2  \n",
      "\n",
      "[5 rows x 35 columns] \n",
      "\n",
      "                              Age  DailyRate\n",
      "Department                                  \n",
      "Human Resources         37.809524       1444\n",
      "Research & Development  37.042664       1496\n",
      "Sales                   36.542601       1499 \n",
      "\n"
     ]
    }
   ],
   "source": [
    "data = pd.read_csv('datasets/employee.csv')\n",
    "print(data.head(), \"\\n\")\n",
    "\n",
    "# grouping the data by department\n",
    "print(data.groupby(['Department']).agg({'Age':'mean','DailyRate':'max'}), \"\\n\")"
   ]
  },
  {
   "cell_type": "markdown",
   "id": "c3020bdc-0e85-4645-89bc-338dcf40f19e",
   "metadata": {},
   "source": [
    "## Descriptive Statistics in DataFrames"
   ]
  },
  {
   "cell_type": "code",
   "execution_count": 56,
   "id": "de36974e-3ee4-45a0-be1a-f7c25df60b38",
   "metadata": {},
   "outputs": [
    {
     "name": "stdout",
     "output_type": "stream",
     "text": [
      "   Age Attrition     BusinessTravel  DailyRate              Department  \\\n",
      "0   41       Yes      Travel_Rarely       1102                   Sales   \n",
      "1   49        No  Travel_Frequently        279  Research & Development   \n",
      "2   37       Yes      Travel_Rarely       1373  Research & Development   \n",
      "3   33        No  Travel_Frequently       1392  Research & Development   \n",
      "4   27        No      Travel_Rarely        591  Research & Development   \n",
      "\n",
      "   DistanceFromHome  Education EducationField  EmployeeCount  EmployeeNumber  \\\n",
      "0                 1          2  Life Sciences              1               1   \n",
      "1                 8          1  Life Sciences              1               2   \n",
      "2                 2          2          Other              1               4   \n",
      "3                 3          4  Life Sciences              1               5   \n",
      "4                 2          1        Medical              1               7   \n",
      "\n",
      "   ...  RelationshipSatisfaction StandardHours  StockOptionLevel  \\\n",
      "0  ...                         1            80                 0   \n",
      "1  ...                         4            80                 1   \n",
      "2  ...                         2            80                 0   \n",
      "3  ...                         3            80                 0   \n",
      "4  ...                         4            80                 1   \n",
      "\n",
      "   TotalWorkingYears  TrainingTimesLastYear WorkLifeBalance  YearsAtCompany  \\\n",
      "0                  8                      0               1               6   \n",
      "1                 10                      3               3              10   \n",
      "2                  7                      3               3               0   \n",
      "3                  8                      3               3               8   \n",
      "4                  6                      3               3               2   \n",
      "\n",
      "  YearsInCurrentRole  YearsSinceLastPromotion  YearsWithCurrManager  \n",
      "0                  4                        0                     5  \n",
      "1                  7                        1                     7  \n",
      "2                  0                        0                     0  \n",
      "3                  7                        3                     0  \n",
      "4                  2                        2                     2  \n",
      "\n",
      "[5 rows x 35 columns] \n",
      "\n",
      "               Age    DailyRate  DistanceFromHome    Education  EmployeeCount  \\\n",
      "count  1470.000000  1470.000000       1470.000000  1470.000000         1470.0   \n",
      "mean     36.923810   802.485714          9.192517     2.912925            1.0   \n",
      "std       9.135373   403.509100          8.106864     1.024165            0.0   \n",
      "min      18.000000   102.000000          1.000000     1.000000            1.0   \n",
      "25%      30.000000   465.000000          2.000000     2.000000            1.0   \n",
      "50%      36.000000   802.000000          7.000000     3.000000            1.0   \n",
      "75%      43.000000  1157.000000         14.000000     4.000000            1.0   \n",
      "max      60.000000  1499.000000         29.000000     5.000000            1.0   \n",
      "\n",
      "       EmployeeNumber  EnvironmentSatisfaction   HourlyRate  JobInvolvement  \\\n",
      "count     1470.000000              1470.000000  1470.000000     1470.000000   \n",
      "mean      1024.865306                 2.721769    65.891156        2.729932   \n",
      "std        602.024335                 1.093082    20.329428        0.711561   \n",
      "min          1.000000                 1.000000    30.000000        1.000000   \n",
      "25%        491.250000                 2.000000    48.000000        2.000000   \n",
      "50%       1020.500000                 3.000000    66.000000        3.000000   \n",
      "75%       1555.750000                 4.000000    83.750000        3.000000   \n",
      "max       2068.000000                 4.000000   100.000000        4.000000   \n",
      "\n",
      "          JobLevel  ...  RelationshipSatisfaction  StandardHours  \\\n",
      "count  1470.000000  ...               1470.000000         1470.0   \n",
      "mean      2.063946  ...                  2.712245           80.0   \n",
      "std       1.106940  ...                  1.081209            0.0   \n",
      "min       1.000000  ...                  1.000000           80.0   \n",
      "25%       1.000000  ...                  2.000000           80.0   \n",
      "50%       2.000000  ...                  3.000000           80.0   \n",
      "75%       3.000000  ...                  4.000000           80.0   \n",
      "max       5.000000  ...                  4.000000           80.0   \n",
      "\n",
      "       StockOptionLevel  TotalWorkingYears  TrainingTimesLastYear  \\\n",
      "count       1470.000000        1470.000000            1470.000000   \n",
      "mean           0.793878          11.279592               2.799320   \n",
      "std            0.852077           7.780782               1.289271   \n",
      "min            0.000000           0.000000               0.000000   \n",
      "25%            0.000000           6.000000               2.000000   \n",
      "50%            1.000000          10.000000               3.000000   \n",
      "75%            1.000000          15.000000               3.000000   \n",
      "max            3.000000          40.000000               6.000000   \n",
      "\n",
      "       WorkLifeBalance  YearsAtCompany  YearsInCurrentRole  \\\n",
      "count      1470.000000     1470.000000         1470.000000   \n",
      "mean          2.761224        7.008163            4.229252   \n",
      "std           0.706476        6.126525            3.623137   \n",
      "min           1.000000        0.000000            0.000000   \n",
      "25%           2.000000        3.000000            2.000000   \n",
      "50%           3.000000        5.000000            3.000000   \n",
      "75%           3.000000        9.000000            7.000000   \n",
      "max           4.000000       40.000000           18.000000   \n",
      "\n",
      "       YearsSinceLastPromotion  YearsWithCurrManager  \n",
      "count              1470.000000           1470.000000  \n",
      "mean                  2.187755              4.123129  \n",
      "std                   3.222430              3.568136  \n",
      "min                   0.000000              0.000000  \n",
      "25%                   0.000000              2.000000  \n",
      "50%                   1.000000              3.000000  \n",
      "75%                   3.000000              7.000000  \n",
      "max                  15.000000             17.000000  \n",
      "\n",
      "[8 rows x 26 columns] \n",
      "\n",
      "       Attrition BusinessTravel              Department EducationField Gender  \\\n",
      "count       1470           1470                    1470           1470   1470   \n",
      "unique         2              3                       3              6      2   \n",
      "top           No  Travel_Rarely  Research & Development  Life Sciences   Male   \n",
      "freq        1233           1043                     961            606    882   \n",
      "\n",
      "                JobRole MaritalStatus Over18 OverTime  \n",
      "count              1470          1470   1470     1470  \n",
      "unique                9             3      1        2  \n",
      "top     Sales Executive       Married      Y       No  \n",
      "freq                326           673   1470     1054   \n",
      "\n"
     ]
    }
   ],
   "source": [
    "data = pd.read_csv('datasets/employee.csv')\n",
    "print(data.head(), \"\\n\")\n",
    "\n",
    "# describing numerical values\n",
    "print(data.describe(), \"\\n\")\n",
    "\n",
    "# describing categoricle values\n",
    "print(data.describe(include='object'), \"\\n\")"
   ]
  },
  {
   "cell_type": "code",
   "execution_count": 60,
   "id": "60c8526f-9a20-4ede-9d84-1ab039a7d97c",
   "metadata": {},
   "outputs": [
    {
     "data": {
      "text/html": [
       "<div>\n",
       "<style scoped>\n",
       "    .dataframe tbody tr th:only-of-type {\n",
       "        vertical-align: middle;\n",
       "    }\n",
       "\n",
       "    .dataframe tbody tr th {\n",
       "        vertical-align: top;\n",
       "    }\n",
       "\n",
       "    .dataframe thead th {\n",
       "        text-align: right;\n",
       "    }\n",
       "</style>\n",
       "<table border=\"1\" class=\"dataframe\">\n",
       "  <thead>\n",
       "    <tr style=\"text-align: right;\">\n",
       "      <th></th>\n",
       "      <th>0</th>\n",
       "      <th>1</th>\n",
       "      <th>2</th>\n",
       "    </tr>\n",
       "  </thead>\n",
       "  <tbody>\n",
       "    <tr>\n",
       "      <th>col1</th>\n",
       "      <td>2019.0</td>\n",
       "      <td>2019.0</td>\n",
       "      <td>2020.0</td>\n",
       "    </tr>\n",
       "    <tr>\n",
       "      <th>col2</th>\n",
       "      <td>350.0</td>\n",
       "      <td>365.0</td>\n",
       "      <td>1.0</td>\n",
       "    </tr>\n",
       "    <tr>\n",
       "      <th>col3</th>\n",
       "      <td>NaN</td>\n",
       "      <td>365.0</td>\n",
       "      <td>NaN</td>\n",
       "    </tr>\n",
       "  </tbody>\n",
       "</table>\n",
       "</div>"
      ],
      "text/plain": [
       "           0       1       2\n",
       "col1  2019.0  2019.0  2020.0\n",
       "col2   350.0   365.0     1.0\n",
       "col3     NaN   365.0     NaN"
      ]
     },
     "execution_count": 60,
     "metadata": {},
     "output_type": "execute_result"
    }
   ],
   "source": [
    "## Transpose Matrix opteration for Data Frames\n",
    "df.transpose()\n",
    "\n",
    "#Also df.T transforms as well\n",
    "df.T"
   ]
  },
  {
   "cell_type": "markdown",
   "id": "79d7c1f4-8b26-4c65-adec-8702787831fb",
   "metadata": {},
   "source": [
    "## Timeseries Data\n",
    "Timeseries is an ordered sequence of data periods spread out over a time horizon"
   ]
  },
  {
   "cell_type": "code",
   "execution_count": 64,
   "id": "fc18b037-fb0d-4461-a431-c326af2f8e92",
   "metadata": {},
   "outputs": [
    {
     "name": "stdout",
     "output_type": "stream",
     "text": [
      "         date\n",
      "0  2021-04-01\n",
      "1  2021-04-02\n",
      "2  2021-04-03\n",
      "3  2021-04-04\n",
      "4  2021-04-05\n",
      "5  2021-04-06\n",
      "6  2021-04-07\n",
      "7  2021-04-08\n",
      "8  2021-04-09\n",
      "9  2021-04-10\n",
      "10 2021-04-11\n",
      "11 2021-04-12\n",
      "12 2021-04-13\n",
      "13 2021-04-14\n",
      "14 2021-04-15\n",
      "15 2021-04-16\n",
      "16 2021-04-17\n",
      "17 2021-04-18\n",
      "18 2021-04-19\n",
      "19 2021-04-20 \n",
      "\n",
      "date    datetime64[ns]\n",
      "dtype: object \n",
      "\n",
      "0     2021\n",
      "1     2021\n",
      "2     2021\n",
      "3     2021\n",
      "4     2021\n",
      "5     2021\n",
      "6     2021\n",
      "7     2021\n",
      "8     2021\n",
      "9     2021\n",
      "10    2021\n",
      "11    2021\n",
      "12    2021\n",
      "13    2021\n",
      "14    2021\n",
      "15    2021\n",
      "16    2021\n",
      "17    2021\n",
      "18    2021\n",
      "19    2021\n",
      "Name: year, dtype: int64 \n",
      "\n"
     ]
    }
   ],
   "source": [
    "#creating Time Series data\n",
    "time_series = pd.date_range('4/1/2021',periods = 20)\n",
    "df = pd.DataFrame({'date':time_series})\n",
    "\n",
    "print(df, \"\\n\")\n",
    "\n",
    "print(df.dtypes, \"\\n\")\n",
    "\n",
    "df['year'] = df['date'].dt.year\n",
    "print(df['year'], \"\\n\")"
   ]
  },
  {
   "cell_type": "markdown",
   "id": "ed86ea6d-8003-4727-a5f0-cb4521b092c1",
   "metadata": {},
   "source": [
    "## Ploting with DataFrames\n",
    "Pandas has a buildin function called plot()."
   ]
  },
  {
   "cell_type": "code",
   "execution_count": 65,
   "id": "dd91822d-b215-495b-96fc-6e35ec92068a",
   "metadata": {},
   "outputs": [
    {
     "data": {
      "text/html": [
       "<div>\n",
       "<style scoped>\n",
       "    .dataframe tbody tr th:only-of-type {\n",
       "        vertical-align: middle;\n",
       "    }\n",
       "\n",
       "    .dataframe tbody tr th {\n",
       "        vertical-align: top;\n",
       "    }\n",
       "\n",
       "    .dataframe thead th {\n",
       "        text-align: right;\n",
       "    }\n",
       "</style>\n",
       "<table border=\"1\" class=\"dataframe\">\n",
       "  <thead>\n",
       "    <tr style=\"text-align: right;\">\n",
       "      <th></th>\n",
       "      <th>name</th>\n",
       "      <th>age</th>\n",
       "      <th>gender</th>\n",
       "      <th>state</th>\n",
       "      <th>num_children</th>\n",
       "      <th>num_pets</th>\n",
       "    </tr>\n",
       "  </thead>\n",
       "  <tbody>\n",
       "    <tr>\n",
       "      <th>0</th>\n",
       "      <td>john</td>\n",
       "      <td>23</td>\n",
       "      <td>M</td>\n",
       "      <td>california</td>\n",
       "      <td>2</td>\n",
       "      <td>5</td>\n",
       "    </tr>\n",
       "    <tr>\n",
       "      <th>1</th>\n",
       "      <td>mary</td>\n",
       "      <td>78</td>\n",
       "      <td>F</td>\n",
       "      <td>dc</td>\n",
       "      <td>0</td>\n",
       "      <td>1</td>\n",
       "    </tr>\n",
       "    <tr>\n",
       "      <th>2</th>\n",
       "      <td>peter</td>\n",
       "      <td>22</td>\n",
       "      <td>M</td>\n",
       "      <td>california</td>\n",
       "      <td>0</td>\n",
       "      <td>0</td>\n",
       "    </tr>\n",
       "    <tr>\n",
       "      <th>3</th>\n",
       "      <td>jeff</td>\n",
       "      <td>19</td>\n",
       "      <td>M</td>\n",
       "      <td>dc</td>\n",
       "      <td>3</td>\n",
       "      <td>5</td>\n",
       "    </tr>\n",
       "    <tr>\n",
       "      <th>4</th>\n",
       "      <td>bill</td>\n",
       "      <td>45</td>\n",
       "      <td>M</td>\n",
       "      <td>california</td>\n",
       "      <td>2</td>\n",
       "      <td>2</td>\n",
       "    </tr>\n",
       "    <tr>\n",
       "      <th>5</th>\n",
       "      <td>lisa</td>\n",
       "      <td>33</td>\n",
       "      <td>F</td>\n",
       "      <td>texas</td>\n",
       "      <td>1</td>\n",
       "      <td>2</td>\n",
       "    </tr>\n",
       "    <tr>\n",
       "      <th>6</th>\n",
       "      <td>jose</td>\n",
       "      <td>20</td>\n",
       "      <td>M</td>\n",
       "      <td>texas</td>\n",
       "      <td>4</td>\n",
       "      <td>3</td>\n",
       "    </tr>\n",
       "    <tr>\n",
       "      <th>7</th>\n",
       "      <td>Rose</td>\n",
       "      <td>23</td>\n",
       "      <td>F</td>\n",
       "      <td>california</td>\n",
       "      <td>2</td>\n",
       "      <td>1</td>\n",
       "    </tr>\n",
       "    <tr>\n",
       "      <th>8</th>\n",
       "      <td>Shanky</td>\n",
       "      <td>33</td>\n",
       "      <td>M</td>\n",
       "      <td>california</td>\n",
       "      <td>0</td>\n",
       "      <td>2</td>\n",
       "    </tr>\n",
       "  </tbody>\n",
       "</table>\n",
       "</div>"
      ],
      "text/plain": [
       "     name  age gender       state  num_children  num_pets\n",
       "0    john   23      M  california             2         5\n",
       "1    mary   78      F          dc             0         1\n",
       "2   peter   22      M  california             0         0\n",
       "3    jeff   19      M          dc             3         5\n",
       "4    bill   45      M  california             2         2\n",
       "5    lisa   33      F       texas             1         2\n",
       "6    jose   20      M       texas             4         3\n",
       "7    Rose   23      F  california             2         1\n",
       "8  Shanky   33      M  california             0         2"
      ]
     },
     "execution_count": 65,
     "metadata": {},
     "output_type": "execute_result"
    }
   ],
   "source": [
    "df = pd.DataFrame({\n",
    "    'name':['john','mary','peter','jeff','bill','lisa','jose', 'Rose','Shanky'],\n",
    "    'age':[23,78,22,19,45,33,20, 23,33],\n",
    "    'gender':['M','F','M','M','M','F','M','F','M'],\n",
    "    'state':['california','dc','california','dc','california','texas','texas','california','california'],\n",
    "    'num_children':[2,0,0,3,2,1,4,2,0],\n",
    "    'num_pets':[5,1,0,5,2,2,3,1,2]\n",
    "})\n",
    "df"
   ]
  },
  {
   "cell_type": "code",
   "execution_count": 66,
   "id": "60ca5491-951b-4e49-a657-e59ea3768644",
   "metadata": {},
   "outputs": [
    {
     "data": {
      "text/plain": [
       "<AxesSubplot:>"
      ]
     },
     "execution_count": 66,
     "metadata": {},
     "output_type": "execute_result"
    },
    {
     "data": {
      "image/png": "[encoded data removed]",
      "text/plain": [
       "<Figure size 432x288 with 1 Axes>"
      ]
     },
     "metadata": {
      "needs_background": "light"
     },
     "output_type": "display_data"
    }
   ],
   "source": [
    "df['age'].plot()"
   ]
  },
  {
   "cell_type": "code",
   "execution_count": 70,
   "id": "9df5f9db-1281-4d6a-8f08-024f8a750361",
   "metadata": {},
   "outputs": [
    {
     "data": {
      "text/plain": [
       "<AxesSubplot:>"
      ]
     },
     "execution_count": 70,
     "metadata": {},
     "output_type": "execute_result"
    },
    {
     "data": {
      "image/png": "[encoded data removed]",
      "text/plain": [
       "<Figure size 432x288 with 1 Axes>"
      ]
     },
     "metadata": {
      "needs_background": "light"
     },
     "output_type": "display_data"
    }
   ],
   "source": [
    "df.plot()"
   ]
  },
  {
   "cell_type": "code",
   "execution_count": 71,
   "id": "58b90a95-5093-4c3a-bf6f-7dd5a281f63c",
   "metadata": {},
   "outputs": [
    {
     "data": {
      "text/plain": [
       "<AxesSubplot:>"
      ]
     },
     "execution_count": 71,
     "metadata": {},
     "output_type": "execute_result"
    },
    {
     "data": {
      "image/png": "[encoded data removed]",
      "text/plain": [
       "<Figure size 432x288 with 1 Axes>"
      ]
     },
     "metadata": {
      "needs_background": "light"
     },
     "output_type": "display_data"
    }
   ],
   "source": [
    "df['age'].plot(kind='bar')"
   ]
  },
  {
   "cell_type": "code",
   "execution_count": 72,
   "id": "867c2563-c894-45d2-869c-d0992dcdf501",
   "metadata": {},
   "outputs": [
    {
     "data": {
      "text/plain": [
       "<AxesSubplot:xlabel='name'>"
      ]
     },
     "execution_count": 72,
     "metadata": {},
     "output_type": "execute_result"
    },
    {
     "data": {
      "image/png": "[encoded data removed]",
      "text/plain": [
       "<Figure size 432x288 with 1 Axes>"
      ]
     },
     "metadata": {
      "needs_background": "light"
     },
     "output_type": "display_data"
    }
   ],
   "source": [
    "df.plot(x = 'name', y = 'age', kind = 'bar')"
   ]
  },
  {
   "cell_type": "code",
   "execution_count": 73,
   "id": "41fdcd38-9491-43e7-885e-ba5e6bb5796a",
   "metadata": {},
   "outputs": [
    {
     "data": {
      "text/plain": [
       "<AxesSubplot:xlabel='num_children', ylabel='num_pets'>"
      ]
     },
     "execution_count": 73,
     "metadata": {},
     "output_type": "execute_result"
    },
    {
     "data": {
      "image/png": "[encoded data removed]",
      "text/plain": [
       "<Figure size 432x288 with 1 Axes>"
      ]
     },
     "metadata": {
      "needs_background": "light"
     },
     "output_type": "display_data"
    }
   ],
   "source": [
    "df.plot(x = 'num_children', y = 'num_pets', color = 'red', kind = 'scatter')"
   ]
  },
  {
   "cell_type": "markdown",
   "id": "d993d0da-233b-417c-8fa0-4d47cda18d36",
   "metadata": {},
   "source": [
    "## Serializing DataFrames\n",
    "### Copying Pandas DataFrame Object Contents To Clipboard\n",
    "* A clipboard in an operating system is a portion of physical memory that provides short-term storage to be used between programs.\n",
    "* The clipboard in an operating system enables cut-copy-paste operations between programs and within a program as well.\n",
    "* The contents of a pandas DataFrame object can be stored in clipboard through the method to_clipboard()."
   ]
  },
  {
   "cell_type": "code",
   "execution_count": 74,
   "id": "29bdb99c-a641-4cc5-80f0-272a449f22aa",
   "metadata": {},
   "outputs": [],
   "source": [
    "textMatrix = [(\"Earth\", \"Sphere\", \"Geoid\"),\n",
    "\n",
    "              (\"Matter\", \"Particle\", \"Wave\"),\n",
    "\n",
    "              (\"Magnet\", \"Flex\", \"Electricity\")]\n",
    "\n",
    "\n",
    "# Create a DataFrame\n",
    "\n",
    "df = pd.DataFrame(data=textMatrix)\n",
    "\n",
    "# Copy DataFrame contents to clipboard\n",
    "\n",
    "df.to_clipboard(sep=\"\\t\")"
   ]
  },
  {
   "cell_type": "code",
   "execution_count": 75,
   "id": "15772b52-ddec-420c-a21e-4cec91c5a051",
   "metadata": {},
   "outputs": [
    {
     "data": {
      "text/html": [
       "<div>\n",
       "<style scoped>\n",
       "    .dataframe tbody tr th:only-of-type {\n",
       "        vertical-align: middle;\n",
       "    }\n",
       "\n",
       "    .dataframe tbody tr th {\n",
       "        vertical-align: top;\n",
       "    }\n",
       "\n",
       "    .dataframe thead th {\n",
       "        text-align: right;\n",
       "    }\n",
       "</style>\n",
       "<table border=\"1\" class=\"dataframe\">\n",
       "  <thead>\n",
       "    <tr style=\"text-align: right;\">\n",
       "      <th></th>\n",
       "      <th>0</th>\n",
       "      <th>1</th>\n",
       "      <th>2</th>\n",
       "    </tr>\n",
       "  </thead>\n",
       "  <tbody>\n",
       "    <tr>\n",
       "      <th>0</th>\n",
       "      <td>Earth</td>\n",
       "      <td>Sphere</td>\n",
       "      <td>Geoid</td>\n",
       "    </tr>\n",
       "    <tr>\n",
       "      <th>1</th>\n",
       "      <td>Matter</td>\n",
       "      <td>Particle</td>\n",
       "      <td>Wave</td>\n",
       "    </tr>\n",
       "    <tr>\n",
       "      <th>2</th>\n",
       "      <td>Magnet</td>\n",
       "      <td>Flex</td>\n",
       "      <td>Electricity</td>\n",
       "    </tr>\n",
       "  </tbody>\n",
       "</table>\n",
       "</div>"
      ],
      "text/plain": [
       "        0         1            2\n",
       "0   Earth    Sphere        Geoid\n",
       "1  Matter  Particle         Wave\n",
       "2  Magnet      Flex  Electricity"
      ]
     },
     "execution_count": 75,
     "metadata": {},
     "output_type": "execute_result"
    }
   ],
   "source": [
    "df"
   ]
  },
  {
   "cell_type": "code",
   "execution_count": 78,
   "id": "b65023ce-39ca-4eb9-bdd0-a77bf61aff8c",
   "metadata": {},
   "outputs": [
    {
     "data": {
      "text/plain": [
       "'<table border=\"1\" class=\"dataframe\">\\n  <thead>\\n    <tr style=\"text-align: right;\">\\n      <th></th>\\n      <th>0</th>\\n      <th>1</th>\\n      <th>2</th>\\n    </tr>\\n  </thead>\\n  <tbody>\\n    <tr>\\n      <th>0</th>\\n      <td>Earth</td>\\n      <td>Sphere</td>\\n      <td>Geoid</td>\\n    </tr>\\n    <tr>\\n      <th>1</th>\\n      <td>Matter</td>\\n      <td>Particle</td>\\n      <td>Wave</td>\\n    </tr>\\n    <tr>\\n      <th>2</th>\\n      <td>Magnet</td>\\n      <td>Flex</td>\\n      <td>Electricity</td>\\n    </tr>\\n  </tbody>\\n</table>'"
      ]
     },
     "execution_count": 78,
     "metadata": {},
     "output_type": "execute_result"
    }
   ],
   "source": [
    "#Export a DF to HTML\n",
    "df.to_html()"
   ]
  },
  {
   "cell_type": "code",
   "execution_count": 79,
   "id": "82b6ba4f-bfbe-490d-890f-bc4a8425c307",
   "metadata": {},
   "outputs": [
    {
     "data": {
      "text/plain": [
       "{0: {0: 'Earth', 1: 'Matter', 2: 'Magnet'},\n",
       " 1: {0: 'Sphere', 1: 'Particle', 2: 'Flex'},\n",
       " 2: {0: 'Geoid', 1: 'Wave', 2: 'Electricity'}}"
      ]
     },
     "execution_count": 79,
     "metadata": {},
     "output_type": "execute_result"
    }
   ],
   "source": [
    "df.to_dict()"
   ]
  },
  {
   "cell_type": "code",
   "execution_count": 80,
   "id": "4fa9cbf5-1d4c-420e-8190-ae7a0b45afb0",
   "metadata": {},
   "outputs": [
    {
     "ename": "TypeError",
     "evalue": "NDFrame.to_sql() missing 2 required positional arguments: 'name' and 'con'",
     "output_type": "error",
     "traceback": [
      "\u001b[0;31m---------------------------------------------------------------------------\u001b[0m",
      "\u001b[0;31mTypeError\u001b[0m                                 Traceback (most recent call last)",
      "Input \u001b[0;32mIn [80]\u001b[0m, in \u001b[0;36m<module>\u001b[0;34m\u001b[0m\n\u001b[0;32m----> 1\u001b[0m \u001b[43mdf\u001b[49m\u001b[38;5;241;43m.\u001b[39;49m\u001b[43mto_sql\u001b[49m\u001b[43m(\u001b[49m\u001b[43m)\u001b[49m\n",
      "\u001b[0;31mTypeError\u001b[0m: NDFrame.to_sql() missing 2 required positional arguments: 'name' and 'con'"
     ]
    }
   ],
   "source": []
  },
  {
   "cell_type": "markdown",
   "id": "c464000d-b1f9-434c-982d-2ff774fd0489",
   "metadata": {},
   "source": [
    "# Pandas Arrays"
   ]
  },
  {
   "cell_type": "code",
   "execution_count": 3,
   "id": "a3dde545-e535-4e3c-b76d-4e2ea31f9d93",
   "metadata": {},
   "outputs": [
    {
     "data": {
      "text/plain": [
       "<StringArray>\n",
       "['a', 'b', 'c']\n",
       "Length: 3, dtype: string"
      ]
     },
     "execution_count": 3,
     "metadata": {},
     "output_type": "execute_result"
    }
   ],
   "source": [
    "arr = pd.array(['a', 'b', 'c'])\n",
    "arr"
   ]
  },
  {
   "cell_type": "markdown",
   "id": "2846033b-5921-4c24-b17c-f3f475e6fe71",
   "metadata": {},
   "source": [
    "## Date Time Data"
   ]
  },
  {
   "cell_type": "code",
   "execution_count": 5,
   "id": "9844b964-0d16-433e-920c-192b7898cfb2",
   "metadata": {},
   "outputs": [
    {
     "data": {
      "text/plain": [
       "Timestamp('2020-09-12 00:00:00+0200', tz='Europe/Berlin')"
      ]
     },
     "execution_count": 5,
     "metadata": {},
     "output_type": "execute_result"
    }
   ],
   "source": [
    "arr = pd.Timestamp('2020-9-12', tz='Europe/Berlin')\n",
    "\n",
    "print(arr, \"\\n\")\n",
    "\n",
    "arr_timestamp = arr_timestamp.tz_licalize('"
   ]
  },
  {
   "cell_type": "markdown",
   "id": "c7710550-5d88-4f37-b948-c595802c88dc",
   "metadata": {},
   "source": [
    "## Handling Time Delta"
   ]
  },
  {
   "cell_type": "code",
   "execution_count": 10,
   "id": "efb3724c-820d-4f0c-8d96-9f6523eeb51b",
   "metadata": {},
   "outputs": [
    {
     "name": "stdout",
     "output_type": "stream",
     "text": [
      "0 days 03:00:00 \n",
      "\n",
      "-4 days +00:00:00 \n",
      "\n"
     ]
    }
   ],
   "source": [
    "pd.Timedelta('2 days')\n",
    "\n",
    "print(pd.Timedelta(3, unit='h'), \"\\n\")\n",
    "\n",
    "print(pd.Timedelta('-4 days'), \"\\n\")"
   ]
  },
  {
   "cell_type": "markdown",
   "id": "dd768d2a-9fd3-4d18-933f-2b42db7c4f11",
   "metadata": {},
   "source": [
    "## Handling Categorical data"
   ]
  },
  {
   "cell_type": "code",
   "execution_count": 12,
   "id": "076c6efa-e7ff-4c05-afc7-c32367d7521d",
   "metadata": {},
   "outputs": [
    {
     "data": {
      "text/plain": [
       "['a', 'b', 'c', 'a']\n",
       "Categories (3, object): ['a', 'b', 'c']"
      ]
     },
     "execution_count": 12,
     "metadata": {},
     "output_type": "execute_result"
    }
   ],
   "source": [
    "a = pd.Categorical(['a', 'b', 'c', 'a'])\n",
    "a"
   ]
  },
  {
   "cell_type": "markdown",
   "id": "092f0450-a694-4a76-9371-8bb284e4df98",
   "metadata": {},
   "source": [
    "## Handling Time Interval Data"
   ]
  },
  {
   "cell_type": "code",
   "execution_count": 15,
   "id": "950e1582-2913-43a3-87c5-9995aabf8415",
   "metadata": {},
   "outputs": [
    {
     "name": "stdout",
     "output_type": "stream",
     "text": [
      "False \n",
      "\n"
     ]
    }
   ],
   "source": [
    "# creating intervals\n",
    "iv = pd.Interval(left = 0, right = 5)\n",
    "iv\n",
    "\n",
    "#Is 0 in the interval?\n",
    "print(0 in iv, \"\\n\")"
   ]
  },
  {
   "cell_type": "code",
   "execution_count": 16,
   "id": "a3f4268e-8148-4477-9f5c-8aaf6dc7a91c",
   "metadata": {},
   "outputs": [
    {
     "data": {
      "text/plain": [
       "Interval('2017-01-01', '2018-01-01', closed='left')"
      ]
     },
     "execution_count": 16,
     "metadata": {},
     "output_type": "execute_result"
    }
   ],
   "source": [
    "year_2017 = pd.Interval(pd.Timestamp('2017-01-01 00:00:00'),\n",
    "                        pd.Timestamp('2018-01-01 00:00:00'),\n",
    "                        closed='left')\n",
    "year_2017"
   ]
  },
  {
   "cell_type": "markdown",
   "id": "2a7151d1-9480-42de-bd1b-7d75cec9435e",
   "metadata": {},
   "source": [
    "## Handling Time Span Data"
   ]
  },
  {
   "cell_type": "code",
   "execution_count": 19,
   "id": "2b510e04-ccbb-4272-b6af-9ce0a3e59755",
   "metadata": {},
   "outputs": [
    {
     "data": {
      "text/plain": [
       "Period('2020-09-04', 'D')"
      ]
     },
     "execution_count": 19,
     "metadata": {},
     "output_type": "execute_result"
    }
   ],
   "source": [
    "p = pd.Period('2020-9-4')\n",
    "p"
   ]
  },
  {
   "cell_type": "code",
   "execution_count": 20,
   "id": "295fda11-30a6-4d90-b9f8-2f3c3b93bd4d",
   "metadata": {},
   "outputs": [
    {
     "data": {
      "text/plain": [
       "Period('2020-09-05', 'D')"
      ]
     },
     "execution_count": 20,
     "metadata": {},
     "output_type": "execute_result"
    }
   ],
   "source": [
    "p+1"
   ]
  },
  {
   "cell_type": "code",
   "execution_count": 22,
   "id": "e710b28d-0e75-40b1-9df3-4a2f3749d221",
   "metadata": {},
   "outputs": [
    {
     "data": {
      "text/plain": [
       "Period('2020-09', 'M')"
      ]
     },
     "execution_count": 22,
     "metadata": {},
     "output_type": "execute_result"
    }
   ],
   "source": [
    "p1 = pd.Period('2020-9-4', freq='M')\n",
    "p1"
   ]
  },
  {
   "cell_type": "code",
   "execution_count": 23,
   "id": "20b470f9-5f3a-4d20-82c2-a63c87cc6627",
   "metadata": {},
   "outputs": [
    {
     "data": {
      "text/plain": [
       "Period('2020-10', 'M')"
      ]
     },
     "execution_count": 23,
     "metadata": {},
     "output_type": "execute_result"
    }
   ],
   "source": [
    "p1+1"
   ]
  },
  {
   "cell_type": "code",
   "execution_count": null,
   "id": "fd0bfd4c-2924-411e-a07e-7253257572ca",
   "metadata": {},
   "outputs": [],
   "source": []
  }
 ],
 "metadata": {
  "kernelspec": {
   "display_name": "ml-sandbox-venv",
   "language": "python",
   "name": "ml-sandbox-venv"
  },
  "language_info": {
   "codemirror_mode": {
    "name": "ipython",
    "version": 3
   },
   "file_extension": ".py",
   "mimetype": "text/x-python",
   "name": "python",
   "nbconvert_exporter": "python",
   "pygments_lexer": "ipython3",
   "version": "3.10.2"
  },
  "toc-autonumbering": false,
  "toc-showmarkdowntxt": false
 },
 "nbformat": 4,
 "nbformat_minor": 5
}
