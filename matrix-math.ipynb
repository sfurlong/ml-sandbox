{
 "cells": [
  {
   "cell_type": "markdown",
   "id": "1a8cfe53-79aa-4a59-a505-5fa55ce27cae",
   "metadata": {},
   "source": [
    "## The Inverse Matrix \n",
    "$A^{-1} = AB = BA$"
   ]
  },
  {
   "cell_type": "code",
   "execution_count": 2,
   "id": "ae5fe469",
   "metadata": {},
   "outputs": [
    {
     "name": "stdout",
     "output_type": "stream",
     "text": [
      "[[1 2 1]\n",
      " [4 4 5]\n",
      " [6 7 7]] \n",
      "\n",
      "[[-7 -7  6]\n",
      " [ 2  1 -1]\n",
      " [ 4  5 -4]] \n",
      "\n",
      "[[1 0 0]\n",
      " [0 1 0]\n",
      " [0 0 1]] \n",
      "\n",
      "[[1 0 0]\n",
      " [0 1 0]\n",
      " [0 0 1]] \n",
      "\n"
     ]
    }
   ],
   "source": [
    "import numpy as np\n",
    "\n",
    "# input two matrices of size n x m\n",
    "A = [[1,2,1],\n",
    "     [4 ,4,5],\n",
    "     [6 ,7,7]]\n",
    "\n",
    "B = [[-7,-7,6],\n",
    "     [2,1,-1],\n",
    "     [4,5,-4]]\n",
    "\n",
    "print (np.array(A), \"\\n\")\n",
    "\n",
    "print (np.array(B), \"\\n\")\n",
    "\n",
    "print (np.dot(A,B), \"\\n\")\n",
    "print (np.dot(B,A), \"\\n\")"
   ]
  },
  {
   "cell_type": "markdown",
   "id": "a6a0e781",
   "metadata": {},
   "source": [
    "## Transpose\n",
    "$A^{T}$"
   ]
  },
  {
   "cell_type": "code",
   "execution_count": 10,
   "id": "4bfa2dc9",
   "metadata": {},
   "outputs": [
    {
     "name": "stdout",
     "output_type": "stream",
     "text": [
      "[[1 2 1]\n",
      " [4 4 5]\n",
      " [6 7 7]] \n",
      "\n",
      "[[1 4 6]\n",
      " [2 4 7]\n",
      " [1 5 7]]\n"
     ]
    }
   ],
   "source": [
    "A = [[1,2,1],\n",
    "     [4 ,4,5],\n",
    "     [6 ,7,7]]\n",
    "\n",
    "A_t = np.transpose(A)\n",
    "print (np.array(A), \"\\n\")\n",
    "print (A_t)"
   ]
  },
  {
   "cell_type": "code",
   "execution_count": 11,
   "id": "6304ab40",
   "metadata": {},
   "outputs": [
    {
     "name": "stdout",
     "output_type": "stream",
     "text": [
      "[0. 1. 2. 3.]\n",
      "[0. 1. 2. 3.]\n",
      "14.0\n"
     ]
    }
   ],
   "source": [
    "x = np.arange(4.0)\n",
    "x_t = np.transpose(x)\n",
    "print(x)\n",
    "print(x_t)\n",
    "print( np.dot(x_t, x))"
   ]
  },
  {
   "cell_type": "code",
   "execution_count": null,
   "id": "4b5c8a68-4666-4134-8285-fa8816a9842e",
   "metadata": {},
   "outputs": [],
   "source": []
  }
 ],
 "metadata": {
  "kernelspec": {
   "display_name": "venv",
   "language": "python",
   "name": "venv"
  },
  "language_info": {
   "codemirror_mode": {
    "name": "ipython",
    "version": 3
   },
   "file_extension": ".py",
   "mimetype": "text/x-python",
   "name": "python",
   "nbconvert_exporter": "python",
   "pygments_lexer": "ipython3",
   "version": "3.8.8"
  }
 },
 "nbformat": 4,
 "nbformat_minor": 5
}
